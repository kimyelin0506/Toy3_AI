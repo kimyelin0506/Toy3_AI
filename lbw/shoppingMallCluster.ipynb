{
 "cells": [
  {
   "cell_type": "code",
   "execution_count": 81,
   "id": "61b74c03",
   "metadata": {},
   "outputs": [],
   "source": [
    "import pandas as pd\n",
    "import numpy as np\n",
    "import matplotlib.pyplot as plt\n",
    "import seaborn as sns\n",
    "from sklearn.preprocessing import OneHotEncoder, MinMaxScaler\n",
    "\n",
    "from sklearn.cluster import KMeans\n",
    "from sklearn.model_selection import train_test_split\n",
    "from sklearn.metrics import silhouette_score\n",
    "import os\n",
    "\n",
    "#전체 데이터 : 20만\n",
    "#학습+테스트 : 18만\n",
    "#새로운 데이터 : 2만\n",
    "#클러스터링 특성(6가지): weight_kg, height_cm, size, age, fit, body type\n",
    "#추천.평가: rating_5\n",
    "#데이터 실루엣 점수: 0.831\n",
    "\n",
    "# 출력 디렉토리 생성\n",
    "os.makedirs('plots', exist_ok=True)\n"
   ]
  },
  {
   "cell_type": "code",
   "execution_count": 82,
   "id": "76c1a4bd",
   "metadata": {},
   "outputs": [
    {
     "name": "stdout",
     "output_type": "stream",
     "text": [
      "전체 데이터 크기: (192544, 15)\n",
      "원본 rating 고유값: [10.  8.  4.  6.  2. nan]\n"
     ]
    }
   ],
   "source": [
    "# 데이터 로드\n",
    "df = pd.read_csv('../renttherunway_data.csv')\n",
    "print(f\"전체 데이터 크기: {df.shape}\")\n",
    "\n",
    "# 원본 rating 분포 확인\n",
    "print(\"원본 rating 고유값:\", df['rating'].unique())\n"
   ]
  },
  {
   "cell_type": "code",
   "execution_count": 83,
   "id": "dd502c7f",
   "metadata": {},
   "outputs": [],
   "source": [
    "# 선택한 컬럼\n",
    "selected_columns = ['user_id', 'item_id', 'fit', 'weight', 'rating', 'body type', 'height', 'size', 'age']\n",
    "df = df[selected_columns]\n"
   ]
  },
  {
   "cell_type": "code",
   "execution_count": 84,
   "id": "501d8c9d",
   "metadata": {},
   "outputs": [
    {
     "name": "stdout",
     "output_type": "stream",
     "text": [
      "학습+테스트 데이터 크기: (173289, 9), 새로운 데이터 크기: (19255, 9)\n",
      "학습 데이터 크기: (121302, 9), 테스트 데이터 크기: (51987, 9)\n"
     ]
    }
   ],
   "source": [
    "# 데이터 분할: 학습+테스트(90%, 18만)와 새로운 데이터(10%, 2만)\n",
    "df_train_test, new_df = train_test_split(df, test_size=0.1, random_state=42)\n",
    "print(f\"학습+테스트 데이터 크기: {df_train_test.shape}, 새로운 데이터 크기: {new_df.shape}\")\n",
    "\n",
    "# 학습/테스트 분할: 학습(70% of 90% ≈ 12.6만), 테스트(30% of 90% ≈ 5.4만)\n",
    "train_df, test_df = train_test_split(df_train_test, test_size=0.3, random_state=42)\n",
    "print(f\"학습 데이터 크기: {train_df.shape}, 테스트 데이터 크기: {test_df.shape}\")\n"
   ]
  },
  {
   "cell_type": "code",
   "execution_count": 85,
   "id": "a0288803",
   "metadata": {},
   "outputs": [],
   "source": [
    "# 새로운 데이터가 비어있는지 확인\n",
    "if new_df.empty:\n",
    "    print(\"오류: 새로운 데이터가 비어 있습니다. 데이터 분할을 확인하세요.\")\n",
    "    exit(1)\n"
   ]
  },
  {
   "cell_type": "code",
   "execution_count": 86,
   "id": "27b0cbe5",
   "metadata": {},
   "outputs": [],
   "source": [
    "# 1. 단위 변환 및 전처리\n",
    "def height_to_cm(height):\n",
    "    if pd.isna(height):\n",
    "        return np.nan\n",
    "    try:\n",
    "        feet, inches = height.split(\"'\")\n",
    "        inches = inches.replace('\"', '').strip()\n",
    "        return int(feet) * 30.48 + int(inches) * 2.54\n",
    "    except:\n",
    "        return np.nan\n"
   ]
  },
  {
   "cell_type": "code",
   "execution_count": 87,
   "id": "0a9a12f9",
   "metadata": {},
   "outputs": [],
   "source": [
    "# 학습 데이터 전처리\n",
    "train_df['height_cm'] = train_df['height'].apply(height_to_cm)\n",
    "train_df['weight'] = train_df['weight'].astype(str).str.replace('lbs', '').str.strip()\n",
    "train_df['weight'] = pd.to_numeric(train_df['weight'], errors='coerce')\n",
    "train_df['weight_kg'] = train_df['weight'] * 0.453592\n",
    "\n",
    "train_df['rating'] = pd.to_numeric(train_df['rating'], errors='coerce')\n",
    "train_df['rating'] = train_df['rating'].replace([np.inf, -np.inf], np.nan)\n",
    "rating_median = train_df['rating'].median()\n",
    "train_df['rating'] = train_df['rating'].fillna(rating_median)\n",
    "train_df['rating_5'] = (train_df['rating'] / 2).round().astype(int)\n",
    "train_df['rating_5'] = train_df['rating_5'].clip(1, 5)\n"
   ]
  },
  {
   "cell_type": "code",
   "execution_count": 88,
   "id": "603d7310",
   "metadata": {},
   "outputs": [],
   "source": [
    "# 테스트 데이터 전처리\n",
    "test_df['height_cm'] = test_df['height'].apply(height_to_cm)\n",
    "test_df['weight'] = test_df['weight'].astype(str).str.replace('lbs', '').str.strip()\n",
    "test_df['weight'] = pd.to_numeric(test_df['weight'], errors='coerce')\n",
    "test_df['weight_kg'] = test_df['weight'] * 0.453592\n",
    "\n",
    "test_df['rating'] = pd.to_numeric(test_df['rating'], errors='coerce')\n",
    "test_df['rating'] = test_df['rating'].replace([np.inf, -np.inf], np.nan)\n",
    "test_df['rating'] = test_df['rating'].fillna(rating_median)\n",
    "test_df['rating_5'] = (test_df['rating'] / 2).round().astype(int)\n",
    "test_df['rating_5'] = test_df['rating_5'].clip(1, 5)\n"
   ]
  },
  {
   "cell_type": "code",
   "execution_count": 89,
   "id": "e399c7d3",
   "metadata": {},
   "outputs": [
    {
     "name": "stdout",
     "output_type": "stream",
     "text": [
      "학습 데이터 rating_5 고유값: [4 3 5 2 1]\n",
      "테스트 데이터 rating_5 고유값: [5 4 3 2 1]\n"
     ]
    }
   ],
   "source": [
    "# rating_5 확인\n",
    "print(\"학습 데이터 rating_5 고유값:\", train_df['rating_5'].unique())\n",
    "print(\"테스트 데이터 rating_5 고유값:\", test_df['rating_5'].unique())\n"
   ]
  },
  {
   "cell_type": "code",
   "execution_count": 91,
   "id": "76cfe2ff",
   "metadata": {},
   "outputs": [
    {
     "name": "stdout",
     "output_type": "stream",
     "text": [
      "height_cm 열을 평균값 165.91로 채웠습니다.\n",
      "weight_kg 열을 평균값 62.36로 채웠습니다.\n",
      "rating_5 열을 평균값 4.55로 채웠습니다.\n",
      "age 열을 평균값 33.87로 채웠습니다.\n",
      "size 열을 평균값 12.28로 채웠습니다.\n",
      "fit 열을 최빈값 fit로 채웠습니다.\n",
      "body type 열을 최빈값 hourglass로 채웠습니다.\n",
      "\n",
      "학습 데이터 결측치:\n",
      "user_id          0\n",
      "item_id          0\n",
      "fit              0\n",
      "weight       18846\n",
      "rating           0\n",
      "body type        0\n",
      "height         441\n",
      "size             0\n",
      "age              0\n",
      "height_cm        0\n",
      "weight_kg        0\n",
      "rating_5         0\n",
      "dtype: int64\n",
      "\n",
      "테스트 데이터 결측치:\n",
      "user_id         0\n",
      "item_id         0\n",
      "fit             0\n",
      "weight       8088\n",
      "rating          0\n",
      "body type       0\n",
      "height        176\n",
      "size            0\n",
      "age             0\n",
      "height_cm       0\n",
      "weight_kg       0\n",
      "rating_5        0\n",
      "dtype: int64\n"
     ]
    }
   ],
   "source": [
    "# 2. 결측치 처리\n",
    "numeric_columns = ['height_cm', 'weight_kg', 'rating_5', 'age', 'size']\n",
    "for col in numeric_columns:\n",
    "    mean_value = train_df[col].mean()\n",
    "    train_df[col] = train_df[col].replace([np.inf, -np.inf], np.nan)\n",
    "    train_df[col] = train_df[col].fillna(mean_value)\n",
    "    test_df[col] = test_df[col].replace([np.inf, -np.inf], np.nan)  \n",
    "    test_df[col] = test_df[col].fillna(mean_value)\n",
    "    print(f\"{col} 열을 평균값 {mean_value:.2f}로 채웠습니다.\")\n",
    "\n",
    "categorical_columns = ['fit', 'body type']\n",
    "for col in categorical_columns:\n",
    "    mode_value = train_df[col].mode()[0]\n",
    "    train_df[col] = train_df[col].fillna(mode_value)\n",
    "    test_df[col] = test_df[col].fillna(mode_value)\n",
    "    print(f\"{col} 열을 최빈값 {mode_value}로 채웠습니다.\")\n",
    "\n",
    "print(\"\\n학습 데이터 결측치:\")\n",
    "print(train_df.isna().sum())\n",
    "print(\"\\n테스트 데이터 결측치:\")\n",
    "print(test_df.isna().sum())"
   ]
  },
  {
   "cell_type": "code",
   "execution_count": 92,
   "id": "da4eee9e",
   "metadata": {},
   "outputs": [],
   "source": [
    "# 3. 원-핫 인코딩\n",
    "encoder_fit = OneHotEncoder(sparse_output=False, handle_unknown='ignore')\n",
    "fit_encoded_train = encoder_fit.fit_transform(train_df[['fit']])\n",
    "fit_encoded_train_df = pd.DataFrame(fit_encoded_train, columns=encoder_fit.get_feature_names_out(['fit']), index=train_df.index)\n",
    "fit_encoded_test = encoder_fit.transform(test_df[['fit']])\n",
    "fit_encoded_test_df = pd.DataFrame(fit_encoded_test, columns=encoder_fit.get_feature_names_out(['fit']), index=test_df.index)\n",
    "\n",
    "encoder_body = OneHotEncoder(sparse_output=False, handle_unknown='ignore')\n",
    "body_encoded_train = encoder_body.fit_transform(train_df[['body type']])\n",
    "body_encoded_train_df = pd.DataFrame(body_encoded_train, columns=encoder_body.get_feature_names_out(['body type']), index=train_df.index)\n",
    "body_encoded_test = encoder_body.transform(test_df[['body type']])\n",
    "body_encoded_test_df = pd.DataFrame(body_encoded_test, columns=encoder_body.get_feature_names_out(['body type']), index=test_df.index)\n",
    "\n",
    "train_df = pd.concat([train_df, fit_encoded_train_df, body_encoded_train_df], axis=1)\n",
    "test_df = pd.concat([test_df, fit_encoded_test_df, body_encoded_test_df], axis=1)\n"
   ]
  },
  {
   "cell_type": "code",
   "execution_count": 93,
   "id": "7f1903c0",
   "metadata": {},
   "outputs": [],
   "source": [
    "# BMI 파생 변수 추가\n",
    "train_df[\"height_m\"] = train_df[\"height_cm\"] / 100\n",
    "test_df[\"height_m\"] = test_df[\"height_cm\"] / 100\n",
    "train_df[\"bmi\"] = round(train_df[\"weight_kg\"] / (train_df[\"height_m\"] ** 2), 2)\n",
    "test_df[\"bmi\"] = round(test_df[\"weight_kg\"] / (test_df[\"height_m\"] ** 2), 2)"
   ]
  },
  {
   "cell_type": "code",
   "execution_count": 94,
   "id": "2c4ed09b",
   "metadata": {},
   "outputs": [
    {
     "name": "stdout",
     "output_type": "stream",
     "text": [
      "\n",
      "학습용 피처 컬럼: ['size_scaled', 'age_scaled', 'bmi_scaled', 'fit_fit', 'fit_large', 'fit_small', 'body type_apple', 'body type_athletic', 'body type_full bust', 'body type_hourglass', 'body type_pear', 'body type_petite', 'body type_straight & narrow']\n"
     ]
    }
   ],
   "source": [
    "# 4. 스케일링\n",
    "scaler_dict = {}\n",
    "scaled_columns = [ 'size', 'age', 'bmi']  # rating_5 제외\n",
    "for col in scaled_columns:\n",
    "    scaler = MinMaxScaler()\n",
    "    train_df[f'{col}_scaled'] = scaler.fit_transform(train_df[[col]])\n",
    "    test_df[f'{col}_scaled'] = scaler.transform(test_df[[col]])\n",
    "    scaler_dict[col] = scaler\n",
    "\n",
    "feature_columns = [f'{col}_scaled' for col in scaled_columns] + \\\n",
    "                  [col for col in train_df.columns if col.startswith(('fit_', 'body type_'))]\n",
    "train_features_df = train_df[feature_columns]\n",
    "test_features_df = test_df[feature_columns]\n",
    "\n",
    "print(\"\\n학습용 피처 컬럼:\", feature_columns)\n"
   ]
  },
  {
   "cell_type": "code",
   "execution_count": 95,
   "id": "f26e51ec",
   "metadata": {},
   "outputs": [],
   "source": [
    "# 1. 원핫 인코딩된 컬럼들 필터링\n",
    "fit_cols = [col for col in train_df.columns if col.startswith('fit_')]\n",
    "body_cols = [col for col in train_df.columns if col.startswith('body type_')]\n",
    "\n",
    "# 2. 전체 피처 컬럼 수 (스케일링된 + 인코딩된)\n",
    "feature_columns = [f'{col}_scaled' for col in scaled_columns] + fit_cols + body_cols\n",
    "total_feature_count = len(feature_columns)\n",
    "\n",
    "# 3. 각 범주형 변수의 가중치 계산\n",
    "fit_weight = len(fit_cols) / total_feature_count\n",
    "body_weight = len(body_cols) / total_feature_count\n",
    "\n",
    "# 4. 가중치 적용\n",
    "train_df[fit_cols] *= fit_weight\n",
    "test_df[fit_cols] *= fit_weight\n",
    "train_df[body_cols] *= body_weight\n",
    "test_df[body_cols] *= body_weight\n",
    "\n",
    "#가중치 적용 한 컬럼 적용\n",
    "train_features_df = train_df[feature_columns]\n",
    "test_features_df = test_df[feature_columns]"
   ]
  },
  {
   "cell_type": "code",
   "execution_count": 96,
   "id": "ccd846da",
   "metadata": {},
   "outputs": [],
   "source": [
    "# 5. K-Means 클러스터링\n",
    "# 엘보우 기법\n",
    "# wcss = []\n",
    "# K_range = range(15, 20)\n",
    "# for k in K_range:\n",
    "#     kmeans = KMeans(n_clusters=k, random_state=42, n_init=10)\n",
    "#     kmeans.fit(train_features_df)\n",
    "#     wcss.append(kmeans.inertia_)\n",
    "\n",
    "# plt.figure(figsize=(10, 6))\n",
    "# plt.plot(K_range, wcss, marker='o')\n",
    "# plt.title('Elbow Method for Optimal K')\n",
    "# plt.xlabel('Number of clusters (K)')\n",
    "# plt.ylabel('WCSS')\n",
    "# plt.savefig('plots/elbow_plot.png')\n",
    "# plt.show()\n",
    "# plt.close()\n",
    "\n",
    "# K=20으로 설정\n",
    "optimal_k = 7\n",
    "kmeans = KMeans(n_clusters=optimal_k, random_state=42, n_init=10)\n",
    "train_df['cluster'] = kmeans.fit_predict(train_features_df)\n",
    "test_df['cluster'] = kmeans.predict(test_features_df)\n",
    "\n",
    "# 실루엣 점수 계산 (학습, 테스트)\n",
    "train_silhouette = silhouette_score(train_features_df, train_df['cluster'])\n",
    "test_silhouette = silhouette_score(test_features_df, test_df['cluster'])\n"
   ]
  },
  {
   "cell_type": "code",
   "execution_count": 97,
   "id": "cd2edd05",
   "metadata": {},
   "outputs": [
    {
     "name": "stdout",
     "output_type": "stream",
     "text": [
      "\n",
      "학습 데이터 군집별 실제 값 평균:\n",
      "         weight_kg   height_cm       size        age  rating_5\n",
      "cluster                                                       \n",
      "0        69.850627  165.163974  21.215395  36.632308  4.462160\n",
      "1        66.361454  165.477990  17.878049  35.019680  4.510717\n",
      "2        61.731259  167.620871  10.679099  33.719195  4.563377\n",
      "3        65.055732  166.629019  14.044690  33.770298  4.519471\n",
      "4        64.296056  166.317821  14.053218  33.874396  4.551441\n",
      "5        53.595943  158.426774   5.541179  33.199936  4.534677\n",
      "6        57.424220  169.719880   7.283905  33.359950  4.584953\n",
      "\n",
      "테스트 데이터 군집별 실제 값 평균:\n",
      "         weight_kg   height_cm       size        age  rating_5\n",
      "cluster                                                       \n",
      "0        69.385444  165.029914  21.448948  36.344002  4.462977\n",
      "1        66.235549  165.645285  17.889721  35.085539  4.519711\n",
      "2        61.616670  167.503033  10.565955  33.869077  4.556613\n",
      "3        65.122181  166.724000  13.927649  33.843260  4.520530\n",
      "4        64.200528  166.218772  13.929083  33.857432  4.557726\n",
      "5        53.662036  158.435858   5.481414  33.157603  4.543532\n",
      "6        57.472809  169.861856   7.420796  33.382034  4.577008\n"
     ]
    }
   ],
   "source": [
    "# 6. 군집별 특성 분석\n",
    "original_columns = ['weight_kg', 'height_cm', 'size', 'age', 'rating_5']\n",
    "train_cluster_summary = train_df.groupby('cluster')[original_columns].mean()\n",
    "test_cluster_summary = test_df.groupby('cluster')[original_columns].mean()\n",
    "print(\"\\n학습 데이터 군집별 실제 값 평균:\")\n",
    "print(train_cluster_summary)\n",
    "print(\"\\n테스트 데이터 군집별 실제 값 평균:\")\n",
    "print(test_cluster_summary)\n"
   ]
  },
  {
   "cell_type": "code",
   "execution_count": 98,
   "id": "20de253b",
   "metadata": {},
   "outputs": [
    {
     "name": "stdout",
     "output_type": "stream",
     "text": [
      "\n",
      "군집별 상위 5개 추천 상품 (item_id, rating_5):\n",
      "Cluster 0:\n",
      "  Item ID: 125465, Rating: 5\n",
      "  Item ID: 1043198, Rating: 5\n",
      "  Item ID: 1366699, Rating: 5\n",
      "  Item ID: 1420770, Rating: 5\n",
      "  Item ID: 2239596, Rating: 5\n",
      "Cluster 1:\n",
      "  Item ID: 2494898, Rating: 5\n",
      "  Item ID: 2756176, Rating: 5\n",
      "  Item ID: 146684, Rating: 5\n",
      "  Item ID: 131117, Rating: 5\n",
      "  Item ID: 2703625, Rating: 5\n",
      "Cluster 2:\n",
      "  Item ID: 152662, Rating: 5\n",
      "  Item ID: 2396750, Rating: 5\n",
      "  Item ID: 2431951, Rating: 5\n",
      "  Item ID: 193179, Rating: 5\n",
      "  Item ID: 919589, Rating: 5\n",
      "Cluster 3:\n",
      "  Item ID: 174086, Rating: 5\n",
      "  Item ID: 1693615, Rating: 5\n",
      "  Item ID: 1769937, Rating: 5\n",
      "  Item ID: 148089, Rating: 5\n",
      "  Item ID: 2958376, Rating: 5\n",
      "Cluster 4:\n",
      "  Item ID: 1566348, Rating: 5\n",
      "  Item ID: 1420770, Rating: 5\n",
      "  Item ID: 865225, Rating: 5\n",
      "  Item ID: 292441, Rating: 5\n",
      "  Item ID: 2606386, Rating: 5\n",
      "Cluster 5:\n",
      "  Item ID: 1835732, Rating: 5\n",
      "  Item ID: 842449, Rating: 5\n",
      "  Item ID: 2304266, Rating: 5\n",
      "  Item ID: 1913010, Rating: 5\n",
      "  Item ID: 125564, Rating: 5\n",
      "Cluster 6:\n",
      "  Item ID: 823534, Rating: 5\n",
      "  Item ID: 880935, Rating: 5\n",
      "  Item ID: 181453, Rating: 5\n",
      "  Item ID: 401533, Rating: 5\n",
      "  Item ID: 148690, Rating: 5\n"
     ]
    },
    {
     "name": "stderr",
     "output_type": "stream",
     "text": [
      "C:\\Users\\lbw\\AppData\\Local\\Temp\\ipykernel_15904\\4218712954.py:2: DeprecationWarning: DataFrameGroupBy.apply operated on the grouping columns. This behavior is deprecated, and in a future version of pandas the grouping columns will be excluded from the operation. Either pass `include_groups=False` to exclude the groupings or explicitly select the grouping columns after groupby to silence this warning.\n",
      "  cluster_items = train_df.groupby('cluster').apply(\n"
     ]
    }
   ],
   "source": [
    "# 7. 상품 추천\n",
    "cluster_items = train_df.groupby('cluster').apply(\n",
    "    lambda x: x.nlargest(5, 'rating_5')[['item_id', 'rating_5']].to_dict('records')\n",
    ")\n",
    "print(\"\\n군집별 상위 5개 추천 상품 (item_id, rating_5):\")\n",
    "for cluster, items in cluster_items.items():\n",
    "    print(f\"Cluster {cluster}:\")\n",
    "    for item in items:\n",
    "        print(f\"  Item ID: {item['item_id']}, Rating: {item['rating_5']}\")\n"
   ]
  },
  {
   "cell_type": "code",
   "execution_count": 99,
   "id": "7304fc9a",
   "metadata": {},
   "outputs": [
    {
     "name": "stdout",
     "output_type": "stream",
     "text": [
      "\n",
      "학습 데이터 평균 Precision@5: 1.000\n",
      "학습 데이터 평균 Recall@5: 0.002\n",
      "학습 데이터 평균 F1 Score: 0.003\n",
      "테스트 데이터 평균 Precision@5: 0.857\n",
      "테스트 데이터 평균 Recall@5: 0.002\n",
      "테스트 데이터 평균 F1 Score: 0.004\n",
      "학습 데이터 실루엣 점수: 0.665\n",
      "테스트 데이터 실루엣 점수: 0.667\n",
      "총 고유 추천 상품 수: 34\n",
      "테스트 데이터 추천 상품의 높은 평점 비율 (평균): 0.918\n"
     ]
    }
   ],
   "source": [
    "# 8. 추천 평가\n",
    "# 학습 데이터 평가\n",
    "precision_scores_train = []\n",
    "recall_scores_train = []\n",
    "K = 5\n",
    "for cluster in train_df['cluster'].unique():\n",
    "    train_items = set(train_df[(train_df['cluster'] == cluster) & (train_df['rating_5'] >= 4)]['item_id'])\n",
    "    recommended_items = set(item['item_id'] for item in cluster_items.get(cluster, []))\n",
    "    hits = len(train_items & recommended_items)\n",
    "    precision = hits / K if K > 0 else 0\n",
    "    recall = hits / len(train_items) if train_items else 0\n",
    "    precision_scores_train.append(precision)\n",
    "    recall_scores_train.append(recall)\n",
    "f1_scores_train = [2 * (p * r) / (p + r) if (p + r) > 0 else 0 for p, r in zip(precision_scores_train, recall_scores_train)]\n",
    "\n",
    "# 테스트 데이터 평가\n",
    "precision_scores = []\n",
    "recall_scores = []\n",
    "for cluster in test_df['cluster'].unique():\n",
    "    test_items = set(test_df[(test_df['cluster'] == cluster) & (test_df['rating_5'] >= 4)]['item_id'])\n",
    "    recommended_items = set(item['item_id'] for item in cluster_items.get(cluster, []))\n",
    "    hits = len(test_items & recommended_items)\n",
    "    precision = hits / K if K > 0 else 0\n",
    "    recall = hits / len(test_items) if test_items else 0\n",
    "    precision_scores.append(precision)\n",
    "    recall_scores.append(recall)\n",
    "f1_scores = [2 * (p * r) / (p + r) if (p + r) > 0 else 0 for p, r in zip(precision_scores, recall_scores)]\n",
    "\n",
    "# 고유 추천 상품 수\n",
    "unique_items = set()\n",
    "for cluster, items in cluster_items.items():\n",
    "    unique_items.update(item['item_id'] for item in items)\n",
    "\n",
    "# 테스트 데이터 높은 평점 비율\n",
    "feedback_scores = []\n",
    "for cluster in test_df['cluster'].unique():\n",
    "    recommended_items = set(item['item_id'] for item in cluster_items.get(cluster, []))\n",
    "    cluster_data = test_df[(test_df['cluster'] == cluster) & (test_df['item_id'].isin(recommended_items))]\n",
    "    if not cluster_data.empty:\n",
    "        feedback_score = (cluster_data['rating_5'] >= 4).mean()\n",
    "        feedback_scores.append(feedback_score)\n",
    "    else:\n",
    "        feedback_scores.append(0)\n",
    "\n",
    "# 출력 (요청된 순서)\n",
    "print(f\"\\n학습 데이터 평균 Precision@{K}: {np.mean(precision_scores_train):.3f}\")\n",
    "print(f\"학습 데이터 평균 Recall@{K}: {np.mean(recall_scores_train):.3f}\")\n",
    "print(f\"학습 데이터 평균 F1 Score: {np.mean(f1_scores_train):.3f}\")\n",
    "print(f\"테스트 데이터 평균 Precision@{K}: {np.mean(precision_scores):.3f}\")\n",
    "print(f\"테스트 데이터 평균 Recall@{K}: {np.mean(recall_scores):.3f}\")\n",
    "print(f\"테스트 데이터 평균 F1 Score: {np.mean(f1_scores):.3f}\")\n",
    "print(f\"학습 데이터 실루엣 점수: {train_silhouette:.3f}\")\n",
    "print(f\"테스트 데이터 실루엣 점수: {test_silhouette:.3f}\")\n",
    "print(f\"총 고유 추천 상품 수: {len(unique_items)}\")\n",
    "print(f\"테스트 데이터 추천 상품의 높은 평점 비율 (평균): {np.mean(feedback_scores):.3f}\")\n"
   ]
  },
  {
   "cell_type": "code",
   "execution_count": 110,
   "id": "264f3598",
   "metadata": {},
   "outputs": [
    {
     "name": "stderr",
     "output_type": "stream",
     "text": [
      "C:\\Users\\lbw\\AppData\\Local\\Packages\\PythonSoftwareFoundation.Python.3.10_qbz5n2kfra8p0\\LocalCache\\local-packages\\Python310\\site-packages\\sklearn\\manifold\\_t_sne.py:1164: FutureWarning: 'n_iter' was renamed to 'max_iter' in version 1.5 and will be removed in 1.7.\n",
      "  warnings.warn(\n"
     ]
    },
    {
     "ename": "ValueError",
     "evalue": "'tab7' is not a valid value for cmap; supported values are 'Accent', 'Accent_r', 'Blues', 'Blues_r', 'BrBG', 'BrBG_r', 'BuGn', 'BuGn_r', 'BuPu', 'BuPu_r', 'CMRmap', 'CMRmap_r', 'Dark2', 'Dark2_r', 'GnBu', 'GnBu_r', 'Grays', 'Grays_r', 'Greens', 'Greens_r', 'Greys', 'Greys_r', 'OrRd', 'OrRd_r', 'Oranges', 'Oranges_r', 'PRGn', 'PRGn_r', 'Paired', 'Paired_r', 'Pastel1', 'Pastel1_r', 'Pastel2', 'Pastel2_r', 'PiYG', 'PiYG_r', 'PuBu', 'PuBuGn', 'PuBuGn_r', 'PuBu_r', 'PuOr', 'PuOr_r', 'PuRd', 'PuRd_r', 'Purples', 'Purples_r', 'RdBu', 'RdBu_r', 'RdGy', 'RdGy_r', 'RdPu', 'RdPu_r', 'RdYlBu', 'RdYlBu_r', 'RdYlGn', 'RdYlGn_r', 'Reds', 'Reds_r', 'Set1', 'Set1_r', 'Set2', 'Set2_r', 'Set3', 'Set3_r', 'Spectral', 'Spectral_r', 'Wistia', 'Wistia_r', 'YlGn', 'YlGnBu', 'YlGnBu_r', 'YlGn_r', 'YlOrBr', 'YlOrBr_r', 'YlOrRd', 'YlOrRd_r', 'afmhot', 'afmhot_r', 'autumn', 'autumn_r', 'berlin', 'berlin_r', 'binary', 'binary_r', 'bone', 'bone_r', 'brg', 'brg_r', 'bwr', 'bwr_r', 'cividis', 'cividis_r', 'cool', 'cool_r', 'coolwarm', 'coolwarm_r', 'copper', 'copper_r', 'crest', 'crest_r', 'cubehelix', 'cubehelix_r', 'flag', 'flag_r', 'flare', 'flare_r', 'gist_earth', 'gist_earth_r', 'gist_gray', 'gist_gray_r', 'gist_grey', 'gist_grey_r', 'gist_heat', 'gist_heat_r', 'gist_ncar', 'gist_ncar_r', 'gist_rainbow', 'gist_rainbow_r', 'gist_stern', 'gist_stern_r', 'gist_yarg', 'gist_yarg_r', 'gist_yerg', 'gist_yerg_r', 'gnuplot', 'gnuplot2', 'gnuplot2_r', 'gnuplot_r', 'gray', 'gray_r', 'grey', 'grey_r', 'hot', 'hot_r', 'hsv', 'hsv_r', 'icefire', 'icefire_r', 'inferno', 'inferno_r', 'jet', 'jet_r', 'magma', 'magma_r', 'mako', 'mako_r', 'managua', 'managua_r', 'nipy_spectral', 'nipy_spectral_r', 'ocean', 'ocean_r', 'pink', 'pink_r', 'plasma', 'plasma_r', 'prism', 'prism_r', 'rainbow', 'rainbow_r', 'rocket', 'rocket_r', 'seismic', 'seismic_r', 'spring', 'spring_r', 'summer', 'summer_r', 'tab10', 'tab10_r', 'tab20', 'tab20_r', 'tab20b', 'tab20b_r', 'tab20c', 'tab20c_r', 'terrain', 'terrain_r', 'turbo', 'turbo_r', 'twilight', 'twilight_r', 'twilight_shifted', 'twilight_shifted_r', 'vanimo', 'vanimo_r', 'viridis', 'viridis_r', 'vlag', 'vlag_r', 'winter', 'winter_r'",
     "output_type": "error",
     "traceback": [
      "\u001b[1;31m---------------------------------------------------------------------------\u001b[0m",
      "\u001b[1;31mValueError\u001b[0m                                Traceback (most recent call last)",
      "Cell \u001b[1;32mIn[110], line 17\u001b[0m\n\u001b[0;32m     14\u001b[0m plt\u001b[38;5;241m.\u001b[39mfigure(figsize\u001b[38;5;241m=\u001b[39m(\u001b[38;5;241m12\u001b[39m, \u001b[38;5;241m8\u001b[39m))\n\u001b[0;32m     15\u001b[0m \u001b[38;5;66;03m# sns.scatterplot(data=tsne_df, x=\"t-SNE component 1\", y=\"t-SNE component 2\",\u001b[39;00m\n\u001b[0;32m     16\u001b[0m \u001b[38;5;66;03m#                 hue=\"Cluster\", palette=\"tab20\", s=10, alpha=0.8)\u001b[39;00m\n\u001b[1;32m---> 17\u001b[0m \u001b[43mplt\u001b[49m\u001b[38;5;241;43m.\u001b[39;49m\u001b[43mscatter\u001b[49m\u001b[43m(\u001b[49m\u001b[43mX_tsne\u001b[49m\u001b[43m[\u001b[49m\u001b[43m:\u001b[49m\u001b[43m,\u001b[49m\u001b[43m \u001b[49m\u001b[38;5;241;43m0\u001b[39;49m\u001b[43m]\u001b[49m\u001b[43m,\u001b[49m\u001b[43m \u001b[49m\u001b[43mX_tsne\u001b[49m\u001b[43m[\u001b[49m\u001b[43m:\u001b[49m\u001b[43m,\u001b[49m\u001b[43m \u001b[49m\u001b[38;5;241;43m1\u001b[39;49m\u001b[43m]\u001b[49m\u001b[43m,\u001b[49m\u001b[43m \u001b[49m\u001b[43mc\u001b[49m\u001b[38;5;241;43m=\u001b[39;49m\u001b[43mtrain_df\u001b[49m\u001b[43m[\u001b[49m\u001b[38;5;124;43m'\u001b[39;49m\u001b[38;5;124;43mcluster\u001b[39;49m\u001b[38;5;124;43m'\u001b[39;49m\u001b[43m]\u001b[49m\u001b[43m,\u001b[49m\u001b[43m \u001b[49m\u001b[43mcmap\u001b[49m\u001b[38;5;241;43m=\u001b[39;49m\u001b[38;5;124;43m'\u001b[39;49m\u001b[38;5;124;43mtab7\u001b[39;49m\u001b[38;5;124;43m'\u001b[39;49m\u001b[43m,\u001b[49m\u001b[43m \u001b[49m\u001b[43malpha\u001b[49m\u001b[38;5;241;43m=\u001b[39;49m\u001b[38;5;241;43m0.6\u001b[39;49m\u001b[43m)\u001b[49m\n\u001b[0;32m     18\u001b[0m plt\u001b[38;5;241m.\u001b[39mtitle(\u001b[38;5;124m\"\u001b[39m\u001b[38;5;124mt-SNE Scatter Plot of Clusters\u001b[39m\u001b[38;5;124m\"\u001b[39m)\n\u001b[0;32m     19\u001b[0m plt\u001b[38;5;241m.\u001b[39mlegend(bbox_to_anchor\u001b[38;5;241m=\u001b[39m(\u001b[38;5;241m1.05\u001b[39m, \u001b[38;5;241m1\u001b[39m), loc\u001b[38;5;241m=\u001b[39m\u001b[38;5;124m'\u001b[39m\u001b[38;5;124mupper left\u001b[39m\u001b[38;5;124m'\u001b[39m)\n",
      "File \u001b[1;32m~\\AppData\\Local\\Packages\\PythonSoftwareFoundation.Python.3.10_qbz5n2kfra8p0\\LocalCache\\local-packages\\Python310\\site-packages\\matplotlib\\_api\\deprecation.py:453\u001b[0m, in \u001b[0;36mmake_keyword_only.<locals>.wrapper\u001b[1;34m(*args, **kwargs)\u001b[0m\n\u001b[0;32m    447\u001b[0m \u001b[38;5;28;01mif\u001b[39;00m \u001b[38;5;28mlen\u001b[39m(args) \u001b[38;5;241m>\u001b[39m name_idx:\n\u001b[0;32m    448\u001b[0m     warn_deprecated(\n\u001b[0;32m    449\u001b[0m         since, message\u001b[38;5;241m=\u001b[39m\u001b[38;5;124m\"\u001b[39m\u001b[38;5;124mPassing the \u001b[39m\u001b[38;5;132;01m%(name)s\u001b[39;00m\u001b[38;5;124m \u001b[39m\u001b[38;5;132;01m%(obj_type)s\u001b[39;00m\u001b[38;5;124m \u001b[39m\u001b[38;5;124m\"\u001b[39m\n\u001b[0;32m    450\u001b[0m         \u001b[38;5;124m\"\u001b[39m\u001b[38;5;124mpositionally is deprecated since Matplotlib \u001b[39m\u001b[38;5;132;01m%(since)s\u001b[39;00m\u001b[38;5;124m; the \u001b[39m\u001b[38;5;124m\"\u001b[39m\n\u001b[0;32m    451\u001b[0m         \u001b[38;5;124m\"\u001b[39m\u001b[38;5;124mparameter will become keyword-only in \u001b[39m\u001b[38;5;132;01m%(removal)s\u001b[39;00m\u001b[38;5;124m.\u001b[39m\u001b[38;5;124m\"\u001b[39m,\n\u001b[0;32m    452\u001b[0m         name\u001b[38;5;241m=\u001b[39mname, obj_type\u001b[38;5;241m=\u001b[39m\u001b[38;5;124mf\u001b[39m\u001b[38;5;124m\"\u001b[39m\u001b[38;5;124mparameter of \u001b[39m\u001b[38;5;132;01m{\u001b[39;00mfunc\u001b[38;5;241m.\u001b[39m\u001b[38;5;18m__name__\u001b[39m\u001b[38;5;132;01m}\u001b[39;00m\u001b[38;5;124m()\u001b[39m\u001b[38;5;124m\"\u001b[39m)\n\u001b[1;32m--> 453\u001b[0m \u001b[38;5;28;01mreturn\u001b[39;00m func(\u001b[38;5;241m*\u001b[39margs, \u001b[38;5;241m*\u001b[39m\u001b[38;5;241m*\u001b[39mkwargs)\n",
      "File \u001b[1;32m~\\AppData\\Local\\Packages\\PythonSoftwareFoundation.Python.3.10_qbz5n2kfra8p0\\LocalCache\\local-packages\\Python310\\site-packages\\matplotlib\\pyplot.py:3937\u001b[0m, in \u001b[0;36mscatter\u001b[1;34m(x, y, s, c, marker, cmap, norm, vmin, vmax, alpha, linewidths, edgecolors, colorizer, plotnonfinite, data, **kwargs)\u001b[0m\n\u001b[0;32m   3917\u001b[0m \u001b[38;5;129m@_copy_docstring_and_deprecators\u001b[39m(Axes\u001b[38;5;241m.\u001b[39mscatter)\n\u001b[0;32m   3918\u001b[0m \u001b[38;5;28;01mdef\u001b[39;00m \u001b[38;5;21mscatter\u001b[39m(\n\u001b[0;32m   3919\u001b[0m     x: \u001b[38;5;28mfloat\u001b[39m \u001b[38;5;241m|\u001b[39m ArrayLike,\n\u001b[1;32m   (...)\u001b[0m\n\u001b[0;32m   3935\u001b[0m     \u001b[38;5;241m*\u001b[39m\u001b[38;5;241m*\u001b[39mkwargs,\n\u001b[0;32m   3936\u001b[0m ) \u001b[38;5;241m-\u001b[39m\u001b[38;5;241m>\u001b[39m PathCollection:\n\u001b[1;32m-> 3937\u001b[0m     __ret \u001b[38;5;241m=\u001b[39m gca()\u001b[38;5;241m.\u001b[39mscatter(\n\u001b[0;32m   3938\u001b[0m         x,\n\u001b[0;32m   3939\u001b[0m         y,\n\u001b[0;32m   3940\u001b[0m         s\u001b[38;5;241m=\u001b[39ms,\n\u001b[0;32m   3941\u001b[0m         c\u001b[38;5;241m=\u001b[39mc,\n\u001b[0;32m   3942\u001b[0m         marker\u001b[38;5;241m=\u001b[39mmarker,\n\u001b[0;32m   3943\u001b[0m         cmap\u001b[38;5;241m=\u001b[39mcmap,\n\u001b[0;32m   3944\u001b[0m         norm\u001b[38;5;241m=\u001b[39mnorm,\n\u001b[0;32m   3945\u001b[0m         vmin\u001b[38;5;241m=\u001b[39mvmin,\n\u001b[0;32m   3946\u001b[0m         vmax\u001b[38;5;241m=\u001b[39mvmax,\n\u001b[0;32m   3947\u001b[0m         alpha\u001b[38;5;241m=\u001b[39malpha,\n\u001b[0;32m   3948\u001b[0m         linewidths\u001b[38;5;241m=\u001b[39mlinewidths,\n\u001b[0;32m   3949\u001b[0m         edgecolors\u001b[38;5;241m=\u001b[39medgecolors,\n\u001b[0;32m   3950\u001b[0m         colorizer\u001b[38;5;241m=\u001b[39mcolorizer,\n\u001b[0;32m   3951\u001b[0m         plotnonfinite\u001b[38;5;241m=\u001b[39mplotnonfinite,\n\u001b[0;32m   3952\u001b[0m         \u001b[38;5;241m*\u001b[39m\u001b[38;5;241m*\u001b[39m({\u001b[38;5;124m\"\u001b[39m\u001b[38;5;124mdata\u001b[39m\u001b[38;5;124m\"\u001b[39m: data} \u001b[38;5;28;01mif\u001b[39;00m data \u001b[38;5;129;01mis\u001b[39;00m \u001b[38;5;129;01mnot\u001b[39;00m \u001b[38;5;28;01mNone\u001b[39;00m \u001b[38;5;28;01melse\u001b[39;00m {}),\n\u001b[0;32m   3953\u001b[0m         \u001b[38;5;241m*\u001b[39m\u001b[38;5;241m*\u001b[39mkwargs,\n\u001b[0;32m   3954\u001b[0m     )\n\u001b[0;32m   3955\u001b[0m     sci(__ret)\n\u001b[0;32m   3956\u001b[0m     \u001b[38;5;28;01mreturn\u001b[39;00m __ret\n",
      "File \u001b[1;32m~\\AppData\\Local\\Packages\\PythonSoftwareFoundation.Python.3.10_qbz5n2kfra8p0\\LocalCache\\local-packages\\Python310\\site-packages\\matplotlib\\_api\\deprecation.py:453\u001b[0m, in \u001b[0;36mmake_keyword_only.<locals>.wrapper\u001b[1;34m(*args, **kwargs)\u001b[0m\n\u001b[0;32m    447\u001b[0m \u001b[38;5;28;01mif\u001b[39;00m \u001b[38;5;28mlen\u001b[39m(args) \u001b[38;5;241m>\u001b[39m name_idx:\n\u001b[0;32m    448\u001b[0m     warn_deprecated(\n\u001b[0;32m    449\u001b[0m         since, message\u001b[38;5;241m=\u001b[39m\u001b[38;5;124m\"\u001b[39m\u001b[38;5;124mPassing the \u001b[39m\u001b[38;5;132;01m%(name)s\u001b[39;00m\u001b[38;5;124m \u001b[39m\u001b[38;5;132;01m%(obj_type)s\u001b[39;00m\u001b[38;5;124m \u001b[39m\u001b[38;5;124m\"\u001b[39m\n\u001b[0;32m    450\u001b[0m         \u001b[38;5;124m\"\u001b[39m\u001b[38;5;124mpositionally is deprecated since Matplotlib \u001b[39m\u001b[38;5;132;01m%(since)s\u001b[39;00m\u001b[38;5;124m; the \u001b[39m\u001b[38;5;124m\"\u001b[39m\n\u001b[0;32m    451\u001b[0m         \u001b[38;5;124m\"\u001b[39m\u001b[38;5;124mparameter will become keyword-only in \u001b[39m\u001b[38;5;132;01m%(removal)s\u001b[39;00m\u001b[38;5;124m.\u001b[39m\u001b[38;5;124m\"\u001b[39m,\n\u001b[0;32m    452\u001b[0m         name\u001b[38;5;241m=\u001b[39mname, obj_type\u001b[38;5;241m=\u001b[39m\u001b[38;5;124mf\u001b[39m\u001b[38;5;124m\"\u001b[39m\u001b[38;5;124mparameter of \u001b[39m\u001b[38;5;132;01m{\u001b[39;00mfunc\u001b[38;5;241m.\u001b[39m\u001b[38;5;18m__name__\u001b[39m\u001b[38;5;132;01m}\u001b[39;00m\u001b[38;5;124m()\u001b[39m\u001b[38;5;124m\"\u001b[39m)\n\u001b[1;32m--> 453\u001b[0m \u001b[38;5;28;01mreturn\u001b[39;00m func(\u001b[38;5;241m*\u001b[39margs, \u001b[38;5;241m*\u001b[39m\u001b[38;5;241m*\u001b[39mkwargs)\n",
      "File \u001b[1;32m~\\AppData\\Local\\Packages\\PythonSoftwareFoundation.Python.3.10_qbz5n2kfra8p0\\LocalCache\\local-packages\\Python310\\site-packages\\matplotlib\\__init__.py:1521\u001b[0m, in \u001b[0;36m_preprocess_data.<locals>.inner\u001b[1;34m(ax, data, *args, **kwargs)\u001b[0m\n\u001b[0;32m   1518\u001b[0m \u001b[38;5;129m@functools\u001b[39m\u001b[38;5;241m.\u001b[39mwraps(func)\n\u001b[0;32m   1519\u001b[0m \u001b[38;5;28;01mdef\u001b[39;00m \u001b[38;5;21minner\u001b[39m(ax, \u001b[38;5;241m*\u001b[39margs, data\u001b[38;5;241m=\u001b[39m\u001b[38;5;28;01mNone\u001b[39;00m, \u001b[38;5;241m*\u001b[39m\u001b[38;5;241m*\u001b[39mkwargs):\n\u001b[0;32m   1520\u001b[0m     \u001b[38;5;28;01mif\u001b[39;00m data \u001b[38;5;129;01mis\u001b[39;00m \u001b[38;5;28;01mNone\u001b[39;00m:\n\u001b[1;32m-> 1521\u001b[0m         \u001b[38;5;28;01mreturn\u001b[39;00m func(\n\u001b[0;32m   1522\u001b[0m             ax,\n\u001b[0;32m   1523\u001b[0m             \u001b[38;5;241m*\u001b[39m\u001b[38;5;28mmap\u001b[39m(cbook\u001b[38;5;241m.\u001b[39msanitize_sequence, args),\n\u001b[0;32m   1524\u001b[0m             \u001b[38;5;241m*\u001b[39m\u001b[38;5;241m*\u001b[39m{k: cbook\u001b[38;5;241m.\u001b[39msanitize_sequence(v) \u001b[38;5;28;01mfor\u001b[39;00m k, v \u001b[38;5;129;01min\u001b[39;00m kwargs\u001b[38;5;241m.\u001b[39mitems()})\n\u001b[0;32m   1526\u001b[0m     bound \u001b[38;5;241m=\u001b[39m new_sig\u001b[38;5;241m.\u001b[39mbind(ax, \u001b[38;5;241m*\u001b[39margs, \u001b[38;5;241m*\u001b[39m\u001b[38;5;241m*\u001b[39mkwargs)\n\u001b[0;32m   1527\u001b[0m     auto_label \u001b[38;5;241m=\u001b[39m (bound\u001b[38;5;241m.\u001b[39marguments\u001b[38;5;241m.\u001b[39mget(label_namer)\n\u001b[0;32m   1528\u001b[0m                   \u001b[38;5;129;01mor\u001b[39;00m bound\u001b[38;5;241m.\u001b[39mkwargs\u001b[38;5;241m.\u001b[39mget(label_namer))\n",
      "File \u001b[1;32m~\\AppData\\Local\\Packages\\PythonSoftwareFoundation.Python.3.10_qbz5n2kfra8p0\\LocalCache\\local-packages\\Python310\\site-packages\\matplotlib\\axes\\_axes.py:5035\u001b[0m, in \u001b[0;36mAxes.scatter\u001b[1;34m(self, x, y, s, c, marker, cmap, norm, vmin, vmax, alpha, linewidths, edgecolors, colorizer, plotnonfinite, **kwargs)\u001b[0m\n\u001b[0;32m   5031\u001b[0m     collection\u001b[38;5;241m.\u001b[39m_set_colorizer_check_keywords(colorizer, cmap\u001b[38;5;241m=\u001b[39mcmap,\n\u001b[0;32m   5032\u001b[0m                                              norm\u001b[38;5;241m=\u001b[39mnorm, vmin\u001b[38;5;241m=\u001b[39mvmin,\n\u001b[0;32m   5033\u001b[0m                                              vmax\u001b[38;5;241m=\u001b[39mvmax)\n\u001b[0;32m   5034\u001b[0m \u001b[38;5;28;01melse\u001b[39;00m:\n\u001b[1;32m-> 5035\u001b[0m     \u001b[43mcollection\u001b[49m\u001b[38;5;241;43m.\u001b[39;49m\u001b[43mset_cmap\u001b[49m\u001b[43m(\u001b[49m\u001b[43mcmap\u001b[49m\u001b[43m)\u001b[49m\n\u001b[0;32m   5036\u001b[0m     collection\u001b[38;5;241m.\u001b[39mset_norm(norm)\n\u001b[0;32m   5037\u001b[0m collection\u001b[38;5;241m.\u001b[39mset_array(c)\n",
      "File \u001b[1;32m~\\AppData\\Local\\Packages\\PythonSoftwareFoundation.Python.3.10_qbz5n2kfra8p0\\LocalCache\\local-packages\\Python310\\site-packages\\matplotlib\\colorizer.py:408\u001b[0m, in \u001b[0;36m_ColorizerInterface.set_cmap\u001b[1;34m(self, cmap)\u001b[0m\n\u001b[0;32m    400\u001b[0m \u001b[38;5;28;01mdef\u001b[39;00m \u001b[38;5;21mset_cmap\u001b[39m(\u001b[38;5;28mself\u001b[39m, cmap):\n\u001b[0;32m    401\u001b[0m \u001b[38;5;250m    \u001b[39m\u001b[38;5;124;03m\"\"\"\u001b[39;00m\n\u001b[0;32m    402\u001b[0m \u001b[38;5;124;03m    Set the colormap for luminance data.\u001b[39;00m\n\u001b[0;32m    403\u001b[0m \n\u001b[1;32m   (...)\u001b[0m\n\u001b[0;32m    406\u001b[0m \u001b[38;5;124;03m    cmap : `.Colormap` or str or None\u001b[39;00m\n\u001b[0;32m    407\u001b[0m \u001b[38;5;124;03m    \"\"\"\u001b[39;00m\n\u001b[1;32m--> 408\u001b[0m     \u001b[38;5;28;43mself\u001b[39;49m\u001b[38;5;241;43m.\u001b[39;49m\u001b[43mcmap\u001b[49m \u001b[38;5;241m=\u001b[39m cmap\n",
      "File \u001b[1;32m~\\AppData\\Local\\Packages\\PythonSoftwareFoundation.Python.3.10_qbz5n2kfra8p0\\LocalCache\\local-packages\\Python310\\site-packages\\matplotlib\\colorizer.py:394\u001b[0m, in \u001b[0;36m_ColorizerInterface.cmap\u001b[1;34m(self, cmap)\u001b[0m\n\u001b[0;32m    392\u001b[0m \u001b[38;5;129m@cmap\u001b[39m\u001b[38;5;241m.\u001b[39msetter\n\u001b[0;32m    393\u001b[0m \u001b[38;5;28;01mdef\u001b[39;00m \u001b[38;5;21mcmap\u001b[39m(\u001b[38;5;28mself\u001b[39m, cmap):\n\u001b[1;32m--> 394\u001b[0m     \u001b[38;5;28;43mself\u001b[39;49m\u001b[38;5;241;43m.\u001b[39;49m\u001b[43m_colorizer\u001b[49m\u001b[38;5;241;43m.\u001b[39;49m\u001b[43mcmap\u001b[49m \u001b[38;5;241m=\u001b[39m cmap\n",
      "File \u001b[1;32m~\\AppData\\Local\\Packages\\PythonSoftwareFoundation.Python.3.10_qbz5n2kfra8p0\\LocalCache\\local-packages\\Python310\\site-packages\\matplotlib\\colorizer.py:247\u001b[0m, in \u001b[0;36mColorizer.cmap\u001b[1;34m(self, cmap)\u001b[0m\n\u001b[0;32m    245\u001b[0m \u001b[38;5;129m@cmap\u001b[39m\u001b[38;5;241m.\u001b[39msetter\n\u001b[0;32m    246\u001b[0m \u001b[38;5;28;01mdef\u001b[39;00m \u001b[38;5;21mcmap\u001b[39m(\u001b[38;5;28mself\u001b[39m, cmap):\n\u001b[1;32m--> 247\u001b[0m     \u001b[38;5;28;43mself\u001b[39;49m\u001b[38;5;241;43m.\u001b[39;49m\u001b[43m_set_cmap\u001b[49m\u001b[43m(\u001b[49m\u001b[43mcmap\u001b[49m\u001b[43m)\u001b[49m\n",
      "File \u001b[1;32m~\\AppData\\Local\\Packages\\PythonSoftwareFoundation.Python.3.10_qbz5n2kfra8p0\\LocalCache\\local-packages\\Python310\\site-packages\\matplotlib\\colorizer.py:237\u001b[0m, in \u001b[0;36mColorizer._set_cmap\u001b[1;34m(self, cmap)\u001b[0m\n\u001b[0;32m    235\u001b[0m \u001b[38;5;28;01mfrom\u001b[39;00m \u001b[38;5;21;01mmatplotlib\u001b[39;00m \u001b[38;5;28;01mimport\u001b[39;00m cm\n\u001b[0;32m    236\u001b[0m in_init \u001b[38;5;241m=\u001b[39m \u001b[38;5;28mself\u001b[39m\u001b[38;5;241m.\u001b[39m_cmap \u001b[38;5;129;01mis\u001b[39;00m \u001b[38;5;28;01mNone\u001b[39;00m\n\u001b[1;32m--> 237\u001b[0m \u001b[38;5;28mself\u001b[39m\u001b[38;5;241m.\u001b[39m_cmap \u001b[38;5;241m=\u001b[39m \u001b[43mcm\u001b[49m\u001b[38;5;241;43m.\u001b[39;49m\u001b[43m_ensure_cmap\u001b[49m\u001b[43m(\u001b[49m\u001b[43mcmap\u001b[49m\u001b[43m)\u001b[49m\n\u001b[0;32m    238\u001b[0m \u001b[38;5;28;01mif\u001b[39;00m \u001b[38;5;129;01mnot\u001b[39;00m in_init:\n\u001b[0;32m    239\u001b[0m     \u001b[38;5;28mself\u001b[39m\u001b[38;5;241m.\u001b[39mchanged()\n",
      "File \u001b[1;32m~\\AppData\\Local\\Packages\\PythonSoftwareFoundation.Python.3.10_qbz5n2kfra8p0\\LocalCache\\local-packages\\Python310\\site-packages\\matplotlib\\cm.py:309\u001b[0m, in \u001b[0;36m_ensure_cmap\u001b[1;34m(cmap)\u001b[0m\n\u001b[0;32m    306\u001b[0m \u001b[38;5;66;03m# use check_in_list to ensure type stability of the exception raised by\u001b[39;00m\n\u001b[0;32m    307\u001b[0m \u001b[38;5;66;03m# the internal usage of this (ValueError vs KeyError)\u001b[39;00m\n\u001b[0;32m    308\u001b[0m \u001b[38;5;28;01mif\u001b[39;00m cmap_name \u001b[38;5;129;01mnot\u001b[39;00m \u001b[38;5;129;01min\u001b[39;00m _colormaps:\n\u001b[1;32m--> 309\u001b[0m     \u001b[43m_api\u001b[49m\u001b[38;5;241;43m.\u001b[39;49m\u001b[43mcheck_in_list\u001b[49m\u001b[43m(\u001b[49m\u001b[38;5;28;43msorted\u001b[39;49m\u001b[43m(\u001b[49m\u001b[43m_colormaps\u001b[49m\u001b[43m)\u001b[49m\u001b[43m,\u001b[49m\u001b[43m \u001b[49m\u001b[43mcmap\u001b[49m\u001b[38;5;241;43m=\u001b[39;49m\u001b[43mcmap_name\u001b[49m\u001b[43m)\u001b[49m\n\u001b[0;32m    310\u001b[0m \u001b[38;5;28;01mreturn\u001b[39;00m mpl\u001b[38;5;241m.\u001b[39mcolormaps[cmap_name]\n",
      "File \u001b[1;32m~\\AppData\\Local\\Packages\\PythonSoftwareFoundation.Python.3.10_qbz5n2kfra8p0\\LocalCache\\local-packages\\Python310\\site-packages\\matplotlib\\_api\\__init__.py:130\u001b[0m, in \u001b[0;36mcheck_in_list\u001b[1;34m(values, _print_supported_values, **kwargs)\u001b[0m\n\u001b[0;32m    128\u001b[0m \u001b[38;5;28;01mif\u001b[39;00m _print_supported_values:\n\u001b[0;32m    129\u001b[0m     msg \u001b[38;5;241m+\u001b[39m\u001b[38;5;241m=\u001b[39m \u001b[38;5;124mf\u001b[39m\u001b[38;5;124m\"\u001b[39m\u001b[38;5;124m; supported values are \u001b[39m\u001b[38;5;132;01m{\u001b[39;00m\u001b[38;5;124m'\u001b[39m\u001b[38;5;124m, \u001b[39m\u001b[38;5;124m'\u001b[39m\u001b[38;5;241m.\u001b[39mjoin(\u001b[38;5;28mmap\u001b[39m(\u001b[38;5;28mrepr\u001b[39m,\u001b[38;5;250m \u001b[39mvalues))\u001b[38;5;132;01m}\u001b[39;00m\u001b[38;5;124m\"\u001b[39m\n\u001b[1;32m--> 130\u001b[0m \u001b[38;5;28;01mraise\u001b[39;00m \u001b[38;5;167;01mValueError\u001b[39;00m(msg)\n",
      "\u001b[1;31mValueError\u001b[0m: 'tab7' is not a valid value for cmap; supported values are 'Accent', 'Accent_r', 'Blues', 'Blues_r', 'BrBG', 'BrBG_r', 'BuGn', 'BuGn_r', 'BuPu', 'BuPu_r', 'CMRmap', 'CMRmap_r', 'Dark2', 'Dark2_r', 'GnBu', 'GnBu_r', 'Grays', 'Grays_r', 'Greens', 'Greens_r', 'Greys', 'Greys_r', 'OrRd', 'OrRd_r', 'Oranges', 'Oranges_r', 'PRGn', 'PRGn_r', 'Paired', 'Paired_r', 'Pastel1', 'Pastel1_r', 'Pastel2', 'Pastel2_r', 'PiYG', 'PiYG_r', 'PuBu', 'PuBuGn', 'PuBuGn_r', 'PuBu_r', 'PuOr', 'PuOr_r', 'PuRd', 'PuRd_r', 'Purples', 'Purples_r', 'RdBu', 'RdBu_r', 'RdGy', 'RdGy_r', 'RdPu', 'RdPu_r', 'RdYlBu', 'RdYlBu_r', 'RdYlGn', 'RdYlGn_r', 'Reds', 'Reds_r', 'Set1', 'Set1_r', 'Set2', 'Set2_r', 'Set3', 'Set3_r', 'Spectral', 'Spectral_r', 'Wistia', 'Wistia_r', 'YlGn', 'YlGnBu', 'YlGnBu_r', 'YlGn_r', 'YlOrBr', 'YlOrBr_r', 'YlOrRd', 'YlOrRd_r', 'afmhot', 'afmhot_r', 'autumn', 'autumn_r', 'berlin', 'berlin_r', 'binary', 'binary_r', 'bone', 'bone_r', 'brg', 'brg_r', 'bwr', 'bwr_r', 'cividis', 'cividis_r', 'cool', 'cool_r', 'coolwarm', 'coolwarm_r', 'copper', 'copper_r', 'crest', 'crest_r', 'cubehelix', 'cubehelix_r', 'flag', 'flag_r', 'flare', 'flare_r', 'gist_earth', 'gist_earth_r', 'gist_gray', 'gist_gray_r', 'gist_grey', 'gist_grey_r', 'gist_heat', 'gist_heat_r', 'gist_ncar', 'gist_ncar_r', 'gist_rainbow', 'gist_rainbow_r', 'gist_stern', 'gist_stern_r', 'gist_yarg', 'gist_yarg_r', 'gist_yerg', 'gist_yerg_r', 'gnuplot', 'gnuplot2', 'gnuplot2_r', 'gnuplot_r', 'gray', 'gray_r', 'grey', 'grey_r', 'hot', 'hot_r', 'hsv', 'hsv_r', 'icefire', 'icefire_r', 'inferno', 'inferno_r', 'jet', 'jet_r', 'magma', 'magma_r', 'mako', 'mako_r', 'managua', 'managua_r', 'nipy_spectral', 'nipy_spectral_r', 'ocean', 'ocean_r', 'pink', 'pink_r', 'plasma', 'plasma_r', 'prism', 'prism_r', 'rainbow', 'rainbow_r', 'rocket', 'rocket_r', 'seismic', 'seismic_r', 'spring', 'spring_r', 'summer', 'summer_r', 'tab10', 'tab10_r', 'tab20', 'tab20_r', 'tab20b', 'tab20b_r', 'tab20c', 'tab20c_r', 'terrain', 'terrain_r', 'turbo', 'turbo_r', 'twilight', 'twilight_r', 'twilight_shifted', 'twilight_shifted_r', 'vanimo', 'vanimo_r', 'viridis', 'viridis_r', 'vlag', 'vlag_r', 'winter', 'winter_r'"
     ]
    },
    {
     "data": {
      "image/png": "[encoded data removed]",
      "text/plain": [
       "<Figure size 1200x800 with 1 Axes>"
      ]
     },
     "metadata": {},
     "output_type": "display_data"
    }
   ],
   "source": [
    "from sklearn.manifold import TSNE\n",
    "import matplotlib.pyplot as plt\n",
    "import seaborn as sns\n",
    "\n",
    "# 1. t-SNE로 차원 축소\n",
    "tsne = TSNE(n_components=2, perplexity=30, n_iter=1000, random_state=42)\n",
    "X_tsne = tsne.fit_transform(train_features_df)\n",
    "\n",
    "# 2. 데이터프레임 생성\n",
    "tsne_df = pd.DataFrame(X_tsne, columns=[\"t-SNE component 1\", \"t-SNE component 2\"])\n",
    "tsne_df[\"Cluster\"] = train_df[\"cluster\"]\n",
    "\n",
    "# 3. 시각화\n",
    "plt.figure(figsize=(12, 8))\n",
    "# sns.scatterplot(data=tsne_df, x=\"t-SNE component 1\", y=\"t-SNE component 2\",\n",
    "#                 hue=\"Cluster\", palette=\"tab20\", s=10, alpha=0.8)\n",
    "plt.scatter(X_tsne[:, 0], X_tsne[:, 1], c=train_df['cluster'], cmap='tab10', alpha=0.6)\n",
    "plt.title(\"t-SNE Scatter Plot of Clusters\")\n",
    "plt.legend(bbox_to_anchor=(1.05, 1), loc='upper left')\n",
    "plt.tight_layout()\n",
    "plt.savefig(\"plots/tsne_cluster_visualization.png\")\n",
    "plt.show()\n"
   ]
  },
  {
   "cell_type": "code",
   "execution_count": null,
   "id": "19e0a803",
   "metadata": {},
   "outputs": [
    {
     "name": "stdout",
     "output_type": "stream",
     "text": [
      "\n",
      "새로운 데이터 크기: (19255, 34)\n"
     ]
    }
   ],
   "source": [
    "# 9. 새로운 데이터 처리\n",
    "print(f\"\\n새로운 데이터 크기: {new_df.shape}\")\n",
    "\n",
    "# 새로운 데이터 전처리\n",
    "new_df['height_cm'] = new_df['height'].apply(height_to_cm)\n",
    "new_df['weight'] = new_df['weight'].astype(str).str.replace('lbs', '').str.strip()\n",
    "new_df['weight'] = pd.to_numeric(new_df['weight'], errors='coerce')\n",
    "new_df['weight_kg'] = new_df['weight'] * 0.453592\n",
    "new_df['rating'] = pd.to_numeric(new_df['rating'], errors='coerce')\n",
    "new_df['rating'] = new_df['rating'].replace([np.inf, -np.inf], np.nan)\n",
    "new_df['rating'] = new_df['rating'].fillna(rating_median)\n",
    "new_df['rating_5'] = (new_df['rating'] / 2).round().astype(int)\n",
    "new_df['rating_5'] = new_df['rating_5'].clip(1, 5)\n",
    "\n",
    "for col in numeric_columns:\n",
    "    new_df[col] = new_df[col].replace([np.inf, -np.inf], np.nan)\n",
    "    new_df[col] = new_df[col].fillna(train_df[col].mean())\n",
    "for col in categorical_columns:\n",
    "    new_df[col] = new_df[col].fillna(train_df[col].mode()[0])\n",
    "\n",
    "fit_encoded_new = encoder_fit.transform(new_df[['fit']])\n",
    "fit_encoded_new_df = pd.DataFrame(fit_encoded_new, columns=encoder_fit.get_feature_names_out(['fit']), index=new_df.index)\n",
    "body_encoded_new = encoder_body.transform(new_df[['body type']])\n",
    "body_encoded_new_df = pd.DataFrame(body_encoded_new, columns=encoder_body.get_feature_names_out(['body type']), index=new_df.index)\n",
    "new_df = pd.concat([new_df, fit_encoded_new_df, body_encoded_new_df], axis=1)\n",
    "\n",
    "for col in scaled_columns:\n",
    "    new_df[f'{col}_scaled'] = scaler_dict[col].transform(new_df[[col]])\n",
    "new_features_df = new_df[feature_columns]\n"
   ]
  },
  {
   "cell_type": "code",
   "execution_count": 105,
   "id": "04368cc2",
   "metadata": {},
   "outputs": [
    {
     "ename": "ValueError",
     "evalue": "The feature names should match those that were passed during fit.\nFeature names must be in the same order as they were in fit.\n",
     "output_type": "error",
     "traceback": [
      "\u001b[1;31m---------------------------------------------------------------------------\u001b[0m",
      "\u001b[1;31mValueError\u001b[0m                                Traceback (most recent call last)",
      "Cell \u001b[1;32mIn[105], line 2\u001b[0m\n\u001b[0;32m      1\u001b[0m \u001b[38;5;66;03m# 군집 예측\u001b[39;00m\n\u001b[1;32m----> 2\u001b[0m new_df[\u001b[38;5;124m'\u001b[39m\u001b[38;5;124mcluster\u001b[39m\u001b[38;5;124m'\u001b[39m] \u001b[38;5;241m=\u001b[39m \u001b[43mkmeans\u001b[49m\u001b[38;5;241;43m.\u001b[39;49m\u001b[43mpredict\u001b[49m\u001b[43m(\u001b[49m\u001b[43mnew_features_df\u001b[49m\u001b[43m)\u001b[49m\n\u001b[0;32m      3\u001b[0m \u001b[38;5;28mprint\u001b[39m(\u001b[38;5;124m\"\u001b[39m\u001b[38;5;130;01m\\n\u001b[39;00m\u001b[38;5;124m새로운 데이터 군집 분포:\u001b[39m\u001b[38;5;124m\"\u001b[39m)\n\u001b[0;32m      4\u001b[0m \u001b[38;5;28mprint\u001b[39m(new_df[\u001b[38;5;124m'\u001b[39m\u001b[38;5;124mcluster\u001b[39m\u001b[38;5;124m'\u001b[39m]\u001b[38;5;241m.\u001b[39mvalue_counts())\n",
      "File \u001b[1;32m~\\AppData\\Local\\Packages\\PythonSoftwareFoundation.Python.3.10_qbz5n2kfra8p0\\LocalCache\\local-packages\\Python310\\site-packages\\sklearn\\cluster\\_kmeans.py:1085\u001b[0m, in \u001b[0;36m_BaseKMeans.predict\u001b[1;34m(self, X)\u001b[0m\n\u001b[0;32m   1067\u001b[0m \u001b[38;5;250m\u001b[39m\u001b[38;5;124;03m\"\"\"Predict the closest cluster each sample in X belongs to.\u001b[39;00m\n\u001b[0;32m   1068\u001b[0m \n\u001b[0;32m   1069\u001b[0m \u001b[38;5;124;03mIn the vector quantization literature, `cluster_centers_` is called\u001b[39;00m\n\u001b[1;32m   (...)\u001b[0m\n\u001b[0;32m   1081\u001b[0m \u001b[38;5;124;03m    Index of the cluster each sample belongs to.\u001b[39;00m\n\u001b[0;32m   1082\u001b[0m \u001b[38;5;124;03m\"\"\"\u001b[39;00m\n\u001b[0;32m   1083\u001b[0m check_is_fitted(\u001b[38;5;28mself\u001b[39m)\n\u001b[1;32m-> 1085\u001b[0m X \u001b[38;5;241m=\u001b[39m \u001b[38;5;28;43mself\u001b[39;49m\u001b[38;5;241;43m.\u001b[39;49m\u001b[43m_check_test_data\u001b[49m\u001b[43m(\u001b[49m\u001b[43mX\u001b[49m\u001b[43m)\u001b[49m\n\u001b[0;32m   1087\u001b[0m \u001b[38;5;66;03m# sample weights are not used by predict but cython helpers expect an array\u001b[39;00m\n\u001b[0;32m   1088\u001b[0m sample_weight \u001b[38;5;241m=\u001b[39m np\u001b[38;5;241m.\u001b[39mones(X\u001b[38;5;241m.\u001b[39mshape[\u001b[38;5;241m0\u001b[39m], dtype\u001b[38;5;241m=\u001b[39mX\u001b[38;5;241m.\u001b[39mdtype)\n",
      "File \u001b[1;32m~\\AppData\\Local\\Packages\\PythonSoftwareFoundation.Python.3.10_qbz5n2kfra8p0\\LocalCache\\local-packages\\Python310\\site-packages\\sklearn\\cluster\\_kmeans.py:944\u001b[0m, in \u001b[0;36m_BaseKMeans._check_test_data\u001b[1;34m(self, X)\u001b[0m\n\u001b[0;32m    943\u001b[0m \u001b[38;5;28;01mdef\u001b[39;00m \u001b[38;5;21m_check_test_data\u001b[39m(\u001b[38;5;28mself\u001b[39m, X):\n\u001b[1;32m--> 944\u001b[0m     X \u001b[38;5;241m=\u001b[39m \u001b[43mvalidate_data\u001b[49m\u001b[43m(\u001b[49m\n\u001b[0;32m    945\u001b[0m \u001b[43m        \u001b[49m\u001b[38;5;28;43mself\u001b[39;49m\u001b[43m,\u001b[49m\n\u001b[0;32m    946\u001b[0m \u001b[43m        \u001b[49m\u001b[43mX\u001b[49m\u001b[43m,\u001b[49m\n\u001b[0;32m    947\u001b[0m \u001b[43m        \u001b[49m\u001b[43maccept_sparse\u001b[49m\u001b[38;5;241;43m=\u001b[39;49m\u001b[38;5;124;43m\"\u001b[39;49m\u001b[38;5;124;43mcsr\u001b[39;49m\u001b[38;5;124;43m\"\u001b[39;49m\u001b[43m,\u001b[49m\n\u001b[0;32m    948\u001b[0m \u001b[43m        \u001b[49m\u001b[43mreset\u001b[49m\u001b[38;5;241;43m=\u001b[39;49m\u001b[38;5;28;43;01mFalse\u001b[39;49;00m\u001b[43m,\u001b[49m\n\u001b[0;32m    949\u001b[0m \u001b[43m        \u001b[49m\u001b[43mdtype\u001b[49m\u001b[38;5;241;43m=\u001b[39;49m\u001b[43m[\u001b[49m\u001b[43mnp\u001b[49m\u001b[38;5;241;43m.\u001b[39;49m\u001b[43mfloat64\u001b[49m\u001b[43m,\u001b[49m\u001b[43m \u001b[49m\u001b[43mnp\u001b[49m\u001b[38;5;241;43m.\u001b[39;49m\u001b[43mfloat32\u001b[49m\u001b[43m]\u001b[49m\u001b[43m,\u001b[49m\n\u001b[0;32m    950\u001b[0m \u001b[43m        \u001b[49m\u001b[43morder\u001b[49m\u001b[38;5;241;43m=\u001b[39;49m\u001b[38;5;124;43m\"\u001b[39;49m\u001b[38;5;124;43mC\u001b[39;49m\u001b[38;5;124;43m\"\u001b[39;49m\u001b[43m,\u001b[49m\n\u001b[0;32m    951\u001b[0m \u001b[43m        \u001b[49m\u001b[43maccept_large_sparse\u001b[49m\u001b[38;5;241;43m=\u001b[39;49m\u001b[38;5;28;43;01mFalse\u001b[39;49;00m\u001b[43m,\u001b[49m\n\u001b[0;32m    952\u001b[0m \u001b[43m    \u001b[49m\u001b[43m)\u001b[49m\n\u001b[0;32m    953\u001b[0m     \u001b[38;5;28;01mreturn\u001b[39;00m X\n",
      "File \u001b[1;32m~\\AppData\\Local\\Packages\\PythonSoftwareFoundation.Python.3.10_qbz5n2kfra8p0\\LocalCache\\local-packages\\Python310\\site-packages\\sklearn\\utils\\validation.py:2919\u001b[0m, in \u001b[0;36mvalidate_data\u001b[1;34m(_estimator, X, y, reset, validate_separately, skip_check_array, **check_params)\u001b[0m\n\u001b[0;32m   2835\u001b[0m \u001b[38;5;28;01mdef\u001b[39;00m \u001b[38;5;21mvalidate_data\u001b[39m(\n\u001b[0;32m   2836\u001b[0m     _estimator,\n\u001b[0;32m   2837\u001b[0m     \u001b[38;5;241m/\u001b[39m,\n\u001b[1;32m   (...)\u001b[0m\n\u001b[0;32m   2843\u001b[0m     \u001b[38;5;241m*\u001b[39m\u001b[38;5;241m*\u001b[39mcheck_params,\n\u001b[0;32m   2844\u001b[0m ):\n\u001b[0;32m   2845\u001b[0m \u001b[38;5;250m    \u001b[39m\u001b[38;5;124;03m\"\"\"Validate input data and set or check feature names and counts of the input.\u001b[39;00m\n\u001b[0;32m   2846\u001b[0m \n\u001b[0;32m   2847\u001b[0m \u001b[38;5;124;03m    This helper function should be used in an estimator that requires input\u001b[39;00m\n\u001b[1;32m   (...)\u001b[0m\n\u001b[0;32m   2917\u001b[0m \u001b[38;5;124;03m        validated.\u001b[39;00m\n\u001b[0;32m   2918\u001b[0m \u001b[38;5;124;03m    \"\"\"\u001b[39;00m\n\u001b[1;32m-> 2919\u001b[0m     \u001b[43m_check_feature_names\u001b[49m\u001b[43m(\u001b[49m\u001b[43m_estimator\u001b[49m\u001b[43m,\u001b[49m\u001b[43m \u001b[49m\u001b[43mX\u001b[49m\u001b[43m,\u001b[49m\u001b[43m \u001b[49m\u001b[43mreset\u001b[49m\u001b[38;5;241;43m=\u001b[39;49m\u001b[43mreset\u001b[49m\u001b[43m)\u001b[49m\n\u001b[0;32m   2920\u001b[0m     tags \u001b[38;5;241m=\u001b[39m get_tags(_estimator)\n\u001b[0;32m   2921\u001b[0m     \u001b[38;5;28;01mif\u001b[39;00m y \u001b[38;5;129;01mis\u001b[39;00m \u001b[38;5;28;01mNone\u001b[39;00m \u001b[38;5;129;01mand\u001b[39;00m tags\u001b[38;5;241m.\u001b[39mtarget_tags\u001b[38;5;241m.\u001b[39mrequired:\n",
      "File \u001b[1;32m~\\AppData\\Local\\Packages\\PythonSoftwareFoundation.Python.3.10_qbz5n2kfra8p0\\LocalCache\\local-packages\\Python310\\site-packages\\sklearn\\utils\\validation.py:2777\u001b[0m, in \u001b[0;36m_check_feature_names\u001b[1;34m(estimator, X, reset)\u001b[0m\n\u001b[0;32m   2774\u001b[0m \u001b[38;5;28;01mif\u001b[39;00m \u001b[38;5;129;01mnot\u001b[39;00m missing_names \u001b[38;5;129;01mand\u001b[39;00m \u001b[38;5;129;01mnot\u001b[39;00m unexpected_names:\n\u001b[0;32m   2775\u001b[0m     message \u001b[38;5;241m+\u001b[39m\u001b[38;5;241m=\u001b[39m \u001b[38;5;124m\"\u001b[39m\u001b[38;5;124mFeature names must be in the same order as they were in fit.\u001b[39m\u001b[38;5;130;01m\\n\u001b[39;00m\u001b[38;5;124m\"\u001b[39m\n\u001b[1;32m-> 2777\u001b[0m \u001b[38;5;28;01mraise\u001b[39;00m \u001b[38;5;167;01mValueError\u001b[39;00m(message)\n",
      "\u001b[1;31mValueError\u001b[0m: The feature names should match those that were passed during fit.\nFeature names must be in the same order as they were in fit.\n"
     ]
    }
   ],
   "source": [
    "# 군집 예측\n",
    "new_df['cluster'] = kmeans.predict(new_features_df)\n",
    "print(\"\\n새로운 데이터 군집 분포:\")\n",
    "print(new_df['cluster'].value_counts())\n"
   ]
  },
  {
   "cell_type": "code",
   "execution_count": 106,
   "id": "e3d3f53b",
   "metadata": {},
   "outputs": [
    {
     "ename": "KeyError",
     "evalue": "'cluster'",
     "output_type": "error",
     "traceback": [
      "\u001b[1;31m---------------------------------------------------------------------------\u001b[0m",
      "\u001b[1;31mKeyError\u001b[0m                                  Traceback (most recent call last)",
      "File \u001b[1;32m~\\AppData\\Local\\Packages\\PythonSoftwareFoundation.Python.3.10_qbz5n2kfra8p0\\LocalCache\\local-packages\\Python310\\site-packages\\pandas\\core\\indexes\\base.py:3805\u001b[0m, in \u001b[0;36mIndex.get_loc\u001b[1;34m(self, key)\u001b[0m\n\u001b[0;32m   3804\u001b[0m \u001b[38;5;28;01mtry\u001b[39;00m:\n\u001b[1;32m-> 3805\u001b[0m     \u001b[38;5;28;01mreturn\u001b[39;00m \u001b[38;5;28;43mself\u001b[39;49m\u001b[38;5;241;43m.\u001b[39;49m\u001b[43m_engine\u001b[49m\u001b[38;5;241;43m.\u001b[39;49m\u001b[43mget_loc\u001b[49m\u001b[43m(\u001b[49m\u001b[43mcasted_key\u001b[49m\u001b[43m)\u001b[49m\n\u001b[0;32m   3806\u001b[0m \u001b[38;5;28;01mexcept\u001b[39;00m \u001b[38;5;167;01mKeyError\u001b[39;00m \u001b[38;5;28;01mas\u001b[39;00m err:\n",
      "File \u001b[1;32mindex.pyx:167\u001b[0m, in \u001b[0;36mpandas._libs.index.IndexEngine.get_loc\u001b[1;34m()\u001b[0m\n",
      "File \u001b[1;32mindex.pyx:191\u001b[0m, in \u001b[0;36mpandas._libs.index.IndexEngine.get_loc\u001b[1;34m()\u001b[0m\n",
      "File \u001b[1;32mindex.pyx:234\u001b[0m, in \u001b[0;36mpandas._libs.index.IndexEngine._get_loc_duplicates\u001b[1;34m()\u001b[0m\n",
      "File \u001b[1;32mindex.pyx:242\u001b[0m, in \u001b[0;36mpandas._libs.index.IndexEngine._maybe_get_bool_indexer\u001b[1;34m()\u001b[0m\n",
      "File \u001b[1;32mindex.pyx:134\u001b[0m, in \u001b[0;36mpandas._libs.index._unpack_bool_indexer\u001b[1;34m()\u001b[0m\n",
      "\u001b[1;31mKeyError\u001b[0m: 'cluster'",
      "\nThe above exception was the direct cause of the following exception:\n",
      "\u001b[1;31mKeyError\u001b[0m                                  Traceback (most recent call last)",
      "Cell \u001b[1;32mIn[106], line 2\u001b[0m\n\u001b[0;32m      1\u001b[0m \u001b[38;5;66;03m# 새로운 데이터 실루엣 점수\u001b[39;00m\n\u001b[1;32m----> 2\u001b[0m new_silhouette \u001b[38;5;241m=\u001b[39m silhouette_score(new_features_df, \u001b[43mnew_df\u001b[49m\u001b[43m[\u001b[49m\u001b[38;5;124;43m'\u001b[39;49m\u001b[38;5;124;43mcluster\u001b[39;49m\u001b[38;5;124;43m'\u001b[39;49m\u001b[43m]\u001b[49m)\n",
      "File \u001b[1;32m~\\AppData\\Local\\Packages\\PythonSoftwareFoundation.Python.3.10_qbz5n2kfra8p0\\LocalCache\\local-packages\\Python310\\site-packages\\pandas\\core\\frame.py:4102\u001b[0m, in \u001b[0;36mDataFrame.__getitem__\u001b[1;34m(self, key)\u001b[0m\n\u001b[0;32m   4100\u001b[0m \u001b[38;5;28;01mif\u001b[39;00m \u001b[38;5;28mself\u001b[39m\u001b[38;5;241m.\u001b[39mcolumns\u001b[38;5;241m.\u001b[39mnlevels \u001b[38;5;241m>\u001b[39m \u001b[38;5;241m1\u001b[39m:\n\u001b[0;32m   4101\u001b[0m     \u001b[38;5;28;01mreturn\u001b[39;00m \u001b[38;5;28mself\u001b[39m\u001b[38;5;241m.\u001b[39m_getitem_multilevel(key)\n\u001b[1;32m-> 4102\u001b[0m indexer \u001b[38;5;241m=\u001b[39m \u001b[38;5;28;43mself\u001b[39;49m\u001b[38;5;241;43m.\u001b[39;49m\u001b[43mcolumns\u001b[49m\u001b[38;5;241;43m.\u001b[39;49m\u001b[43mget_loc\u001b[49m\u001b[43m(\u001b[49m\u001b[43mkey\u001b[49m\u001b[43m)\u001b[49m\n\u001b[0;32m   4103\u001b[0m \u001b[38;5;28;01mif\u001b[39;00m is_integer(indexer):\n\u001b[0;32m   4104\u001b[0m     indexer \u001b[38;5;241m=\u001b[39m [indexer]\n",
      "File \u001b[1;32m~\\AppData\\Local\\Packages\\PythonSoftwareFoundation.Python.3.10_qbz5n2kfra8p0\\LocalCache\\local-packages\\Python310\\site-packages\\pandas\\core\\indexes\\base.py:3812\u001b[0m, in \u001b[0;36mIndex.get_loc\u001b[1;34m(self, key)\u001b[0m\n\u001b[0;32m   3807\u001b[0m     \u001b[38;5;28;01mif\u001b[39;00m \u001b[38;5;28misinstance\u001b[39m(casted_key, \u001b[38;5;28mslice\u001b[39m) \u001b[38;5;129;01mor\u001b[39;00m (\n\u001b[0;32m   3808\u001b[0m         \u001b[38;5;28misinstance\u001b[39m(casted_key, abc\u001b[38;5;241m.\u001b[39mIterable)\n\u001b[0;32m   3809\u001b[0m         \u001b[38;5;129;01mand\u001b[39;00m \u001b[38;5;28many\u001b[39m(\u001b[38;5;28misinstance\u001b[39m(x, \u001b[38;5;28mslice\u001b[39m) \u001b[38;5;28;01mfor\u001b[39;00m x \u001b[38;5;129;01min\u001b[39;00m casted_key)\n\u001b[0;32m   3810\u001b[0m     ):\n\u001b[0;32m   3811\u001b[0m         \u001b[38;5;28;01mraise\u001b[39;00m InvalidIndexError(key)\n\u001b[1;32m-> 3812\u001b[0m     \u001b[38;5;28;01mraise\u001b[39;00m \u001b[38;5;167;01mKeyError\u001b[39;00m(key) \u001b[38;5;28;01mfrom\u001b[39;00m \u001b[38;5;21;01merr\u001b[39;00m\n\u001b[0;32m   3813\u001b[0m \u001b[38;5;28;01mexcept\u001b[39;00m \u001b[38;5;167;01mTypeError\u001b[39;00m:\n\u001b[0;32m   3814\u001b[0m     \u001b[38;5;66;03m# If we have a listlike key, _check_indexing_error will raise\u001b[39;00m\n\u001b[0;32m   3815\u001b[0m     \u001b[38;5;66;03m#  InvalidIndexError. Otherwise we fall through and re-raise\u001b[39;00m\n\u001b[0;32m   3816\u001b[0m     \u001b[38;5;66;03m#  the TypeError.\u001b[39;00m\n\u001b[0;32m   3817\u001b[0m     \u001b[38;5;28mself\u001b[39m\u001b[38;5;241m.\u001b[39m_check_indexing_error(key)\n",
      "\u001b[1;31mKeyError\u001b[0m: 'cluster'"
     ]
    }
   ],
   "source": [
    "# 새로운 데이터 실루엣 점수\n",
    "new_silhouette = silhouette_score(new_features_df, new_df['cluster'])"
   ]
  },
  {
   "cell_type": "code",
   "execution_count": 667,
   "id": "1dfec43c",
   "metadata": {},
   "outputs": [],
   "source": [
    "# 새로운 데이터 평가\n",
    "precision_scores_new = []\n",
    "recall_scores_new = []\n",
    "K = 5\n",
    "for cluster in new_df['cluster'].unique():\n",
    "    test_items = set(new_df[(new_df['cluster'] == cluster) & (new_df['rating_5'] >= 4)]['item_id'])\n",
    "    recommended_items = set(item['item_id'] for item in cluster_items.get(cluster, []))\n",
    "    hits = len(test_items & recommended_items)\n",
    "    precision = hits / K if K > 0 else 0\n",
    "    recall = hits / len(test_items) if test_items else 0\n",
    "    precision_scores_new.append(precision)\n",
    "    recall_scores_new.append(recall)\n",
    "f1_scores_new = [2 * (p * r) / (p + r) if (p + r) > 0 else 0 for p, r in zip(precision_scores_new, recall_scores_new)]\n",
    "\n",
    "# 새로운 데이터 높은 평점 비율\n",
    "feedback_scores_new = []\n",
    "for cluster in new_df['cluster'].unique():\n",
    "    recommended_items = set(item['item_id'] for item in cluster_items.get(cluster, []))\n",
    "    cluster_data = new_df[(new_df['cluster'] == cluster) & (new_df['item_id'].isin(recommended_items))]\n",
    "    if not cluster_data.empty:\n",
    "        feedback_score = (cluster_data['rating_5'] >= 4).mean()\n",
    "        feedback_scores_new.append(feedback_score)\n",
    "    else:\n",
    "        feedback_scores_new.append(0)\n"
   ]
  },
  {
   "cell_type": "code",
   "execution_count": 668,
   "id": "02b4ac20",
   "metadata": {},
   "outputs": [
    {
     "name": "stdout",
     "output_type": "stream",
     "text": [
      "\n",
      "새로운 데이터 평균 Precision@5: 0.600\n",
      "새로운 데이터 평균 Recall@5: 0.003\n",
      "새로운 데이터 평균 F1 Score: 0.005\n",
      "새로운 데이터 실루엣 점수: 0.566\n",
      "새로운 데이터 추천 상품의 높은 평점 비율 (평균): 0.904\n"
     ]
    }
   ],
   "source": [
    "# 새로운 데이터 출력\n",
    "print(f\"\\n새로운 데이터 평균 Precision@{K}: {np.mean(precision_scores_new):.3f}\")\n",
    "print(f\"새로운 데이터 평균 Recall@{K}: {np.mean(recall_scores_new):.3f}\")\n",
    "print(f\"새로운 데이터 평균 F1 Score: {np.mean(f1_scores_new):.3f}\")\n",
    "print(f\"새로운 데이터 실루엣 점수: {new_silhouette:.3f}\")\n",
    "print(f\"새로운 데이터 추천 상품의 높은 평점 비율 (평균): {np.mean(feedback_scores_new):.3f}\")\n"
   ]
  },
  {
   "cell_type": "code",
   "execution_count": 669,
   "id": "cf9e7212",
   "metadata": {},
   "outputs": [
    {
     "name": "stdout",
     "output_type": "stream",
     "text": [
      "\n",
      "새로운 데이터에 대한 군집별 추천 상품:\n",
      "Cluster 4 추천 상품:\n",
      "  Item ID: 823534, Rating: 5\n",
      "  Item ID: 880935, Rating: 5\n",
      "  Item ID: 181453, Rating: 5\n",
      "  Item ID: 401533, Rating: 5\n",
      "  Item ID: 148690, Rating: 5\n",
      "Cluster 2 추천 상품:\n",
      "  Item ID: 1566348, Rating: 5\n",
      "  Item ID: 1420770, Rating: 5\n",
      "  Item ID: 865225, Rating: 5\n",
      "  Item ID: 292441, Rating: 5\n",
      "  Item ID: 2606386, Rating: 5\n",
      "Cluster 5 추천 상품:\n",
      "  Item ID: 2494898, Rating: 5\n",
      "  Item ID: 2756176, Rating: 5\n",
      "  Item ID: 146684, Rating: 5\n",
      "  Item ID: 131117, Rating: 5\n",
      "  Item ID: 2703625, Rating: 5\n",
      "Cluster 6 추천 상품:\n",
      "  Item ID: 152662, Rating: 5\n",
      "  Item ID: 2396750, Rating: 5\n",
      "  Item ID: 2431951, Rating: 5\n",
      "  Item ID: 193179, Rating: 5\n",
      "  Item ID: 919589, Rating: 5\n",
      "Cluster 1 추천 상품:\n",
      "  Item ID: 1835732, Rating: 5\n",
      "  Item ID: 842449, Rating: 5\n",
      "  Item ID: 2304266, Rating: 5\n",
      "  Item ID: 1913010, Rating: 5\n",
      "  Item ID: 125564, Rating: 5\n",
      "Cluster 3 추천 상품:\n",
      "  Item ID: 174086, Rating: 5\n",
      "  Item ID: 1693615, Rating: 5\n",
      "  Item ID: 1769937, Rating: 5\n",
      "  Item ID: 148089, Rating: 5\n",
      "  Item ID: 2958376, Rating: 5\n",
      "Cluster 0 추천 상품:\n",
      "  Item ID: 125465, Rating: 5\n",
      "  Item ID: 1043198, Rating: 5\n",
      "  Item ID: 1366699, Rating: 5\n",
      "  Item ID: 1420770, Rating: 5\n",
      "  Item ID: 2239596, Rating: 5\n"
     ]
    }
   ],
   "source": [
    "# 추천 상품 출력\n",
    "print(\"\\n새로운 데이터에 대한 군집별 추천 상품:\")\n",
    "for cluster in new_df['cluster'].unique():\n",
    "    print(f\"Cluster {cluster} 추천 상품:\")\n",
    "    for item in cluster_items.get(cluster, []):\n",
    "        print(f\"  Item ID: {item['item_id']}, Rating: {item['rating_5']}\")\n"
   ]
  },
  {
   "cell_type": "code",
   "execution_count": 670,
   "id": "bb1ed9d2",
   "metadata": {},
   "outputs": [],
   "source": [
    "# csv 저장\n",
    "# train_df.to_csv('train_clustered_data.csv', index=False)\n",
    "# test_df.to_csv('test_clustered_data.csv', index=False)\n",
    "# new_df.to_csv('new_clustered_data.csv', index=False)\n",
    "\n",
    "# k=2~25 결과: 13~20이 0.7이상 (결과 확인됨으로 주석처리)"
   ]
  },
  {
   "cell_type": "code",
   "execution_count": 671,
   "id": "3f9bfe93",
   "metadata": {},
   "outputs": [],
   "source": [
    "# 실루엣 점수 플롯\n",
    "# silhouette_scores = []\n",
    "# K_silhouette_range = range(2, 26)  # K=2~25\n",
    "# for k in K_silhouette_range:\n",
    "#     kmeans = KMeans(n_clusters=k, random_state=42, n_init=10)\n",
    "#     labels = kmeans.fit_predict(train_features_df)\n",
    "#     score = silhouette_score(train_features_df, labels)\n",
    "#     silhouette_scores.append(score)\n",
    "#     print(f\"K={k} 실루엣 점수: {score:.3f}\")\n"
   ]
  },
  {
   "cell_type": "code",
   "execution_count": 107,
   "id": "ef0294de",
   "metadata": {},
   "outputs": [
    {
     "ename": "NameError",
     "evalue": "name 'K_silhouette_range' is not defined",
     "output_type": "error",
     "traceback": [
      "\u001b[1;31m---------------------------------------------------------------------------\u001b[0m",
      "\u001b[1;31mNameError\u001b[0m                                 Traceback (most recent call last)",
      "Cell \u001b[1;32mIn[107], line 3\u001b[0m\n\u001b[0;32m      1\u001b[0m \u001b[38;5;66;03m# 실루엣 시각화 확인\u001b[39;00m\n\u001b[0;32m      2\u001b[0m plt\u001b[38;5;241m.\u001b[39mfigure(figsize\u001b[38;5;241m=\u001b[39m(\u001b[38;5;241m10\u001b[39m, \u001b[38;5;241m6\u001b[39m))\n\u001b[1;32m----> 3\u001b[0m plt\u001b[38;5;241m.\u001b[39mplot(\u001b[43mK_silhouette_range\u001b[49m, silhouette_scores, marker\u001b[38;5;241m=\u001b[39m\u001b[38;5;124m'\u001b[39m\u001b[38;5;124mo\u001b[39m\u001b[38;5;124m'\u001b[39m)\n\u001b[0;32m      4\u001b[0m plt\u001b[38;5;241m.\u001b[39mtitle(\u001b[38;5;124m'\u001b[39m\u001b[38;5;124mSilhouette Score for Different K\u001b[39m\u001b[38;5;124m'\u001b[39m)\n\u001b[0;32m      5\u001b[0m plt\u001b[38;5;241m.\u001b[39mxlabel(\u001b[38;5;124m'\u001b[39m\u001b[38;5;124mNumber of clusters (K)\u001b[39m\u001b[38;5;124m'\u001b[39m)\n",
      "\u001b[1;31mNameError\u001b[0m: name 'K_silhouette_range' is not defined"
     ]
    },
    {
     "data": {
      "text/plain": [
       "<Figure size 1000x600 with 0 Axes>"
      ]
     },
     "metadata": {},
     "output_type": "display_data"
    }
   ],
   "source": [
    "# 실루엣 시각화 확인\n",
    "# plt.figure(figsize=(10, 6))\n",
    "# plt.plot(K_silhouette_range, silhouette_scores, marker='o')\n",
    "# plt.title('Silhouette Score for Different K')\n",
    "# plt.xlabel('Number of clusters (K)')\n",
    "# plt.ylabel('Silhouette Score')\n",
    "# plt.savefig('plots/silhouette_plot.png')\n",
    "# plt.show()\n",
    "# plt.close()\n"
   ]
  },
  {
   "cell_type": "code",
   "execution_count": 673,
   "id": "a3fa7414",
   "metadata": {},
   "outputs": [],
   "source": [
    "# # 9. 시각화(데이터 전처리 시 확인, 클러스터링 후 해제)\n",
    "# for col in original_columns:\n",
    "#     plt.figure(figsize=(10, 6))\n",
    "#     sns.histplot(data=train_df, x=col, hue='cluster', multiple='stack', bins=20, palette='tab20')\n",
    "#     plt.title(f'{col} Distribution by Cluster (Train, Original Units)')\n",
    "#     plt.savefig(f'plots/train_{col}_cluster_distribution.png')\n",
    "#     plt.show()\n",
    "#     plt.close()"
   ]
  }
 ],
 "metadata": {
  "kernelspec": {
   "display_name": "Python 3",
   "language": "python",
   "name": "python3"
  },
  "language_info": {
   "codemirror_mode": {
    "name": "ipython",
    "version": 3
   },
   "file_extension": ".py",
   "mimetype": "text/x-python",
   "name": "python",
   "nbconvert_exporter": "python",
   "pygments_lexer": "ipython3",
   "version": "3.10.11"
  }
 },
 "nbformat": 4,
 "nbformat_minor": 5
}
