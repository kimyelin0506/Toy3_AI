{
 "cells": [
  {
   "cell_type": "code",
   "execution_count": 2,
   "metadata": {},
   "outputs": [
    {
     "name": "stdout",
     "output_type": "stream",
     "text": [
      "   fit  user_id bust size  item_id  weight  rating rented for  \\\n",
      "0  fit   420272       34d  2260466  137lbs    10.0   vacation   \n",
      "\n",
      "                                         review_text  body type  \\\n",
      "0  An adorable romper! Belt and zipper were a lit...  hourglass   \n",
      "\n",
      "         review_summary category height  size   age     review_date  \n",
      "0  So many compliments!   romper  5' 8\"    14  28.0  April 20, 2016  \n"
     ]
    }
   ],
   "source": [
    "# pandas로 csv파일 불러오기 \n",
    "# 제일 첫번째 데이터 불러오기기\n",
    "import pandas as pd \n",
    "df = pd.read_csv(\"renttherunway_data.csv\")\n",
    "print(df.head(1)) "
   ]
  },
  {
   "cell_type": "code",
   "execution_count": 3,
   "metadata": {},
   "outputs": [
    {
     "name": "stdout",
     "output_type": "stream",
     "text": [
      "fit                   0\n",
      "user_id               0\n",
      "bust size         18411\n",
      "item_id               0\n",
      "weight            29982\n",
      "rating               82\n",
      "rented for           10\n",
      "review_text          68\n",
      "body type         14637\n",
      "review_summary      347\n",
      "category              0\n",
      "height              677\n",
      "size                  0\n",
      "age                 960\n",
      "review_date           0\n",
      "dtype: int64\n"
     ]
    }
   ],
   "source": [
    "# 전체 데이터 중에서 결측치 확인\n",
    "print(df.isnull().sum())"
   ]
  },
  {
   "cell_type": "code",
   "execution_count": 4,
   "metadata": {},
   "outputs": [
    {
     "name": "stdout",
     "output_type": "stream",
     "text": [
      "fit              0\n",
      "item_id          0\n",
      "weight       29982\n",
      "rating          82\n",
      "body type    14637\n",
      "category         0\n",
      "height         677\n",
      "size             0\n",
      "age            960\n",
      "dtype: int64\n"
     ]
    }
   ],
   "source": [
    "# 필요 없는 컬럼 제거\n",
    "df.drop(columns=['user_id', 'bust size', 'rented for', 'review_text', 'review_summary', 'review_date'], inplace=True)\n",
    "print(df.isnull().sum())\n",
    " "
   ]
  },
  {
   "cell_type": "code",
   "execution_count": 5,
   "metadata": {},
   "outputs": [
    {
     "name": "stdout",
     "output_type": "stream",
     "text": [
      "object\n",
      "['137lbs' '132lbs' nan '135lbs' '145lbs' '138lbs' '112lbs' '118lbs'\n",
      " '114lbs' '120lbs' '142lbs' '140lbs' '170lbs' '143lbs' '115lbs' '123lbs'\n",
      " '122lbs' '165lbs' '130lbs' '155lbs' '105lbs' '190lbs' '150lbs' '136lbs'\n",
      " '128lbs' '174lbs' '125lbs' '110lbs' '160lbs' '180lbs' '175lbs' '134lbs'\n",
      " '109lbs' '124lbs' '250lbs' '195lbs' '231lbs' '161lbs' '126lbs' '210lbs'\n",
      " '215lbs' '220lbs' '163lbs' '106lbs' '178lbs' '157lbs' '185lbs' '108lbs'\n",
      " '200lbs' '92lbs' '117lbs' '146lbs' '116lbs' '141lbs' '103lbs' '121lbs'\n",
      " '127lbs' '111lbs' '152lbs' '172lbs' '107lbs' '133lbs' '248lbs' '154lbs'\n",
      " '153lbs' '131lbs' '156lbs' '129lbs' '186lbs' '100lbs' '113lbs' '148lbs'\n",
      " '119lbs' '166lbs' '144lbs' '158lbs' '95lbs' '234lbs' '139lbs' '230lbs'\n",
      " '184lbs' '102lbs' '205lbs' '168lbs' '162lbs' '147lbs' '98lbs' '225lbs'\n",
      " '204lbs' '89lbs' '159lbs' '96lbs' '176lbs' '212lbs' '149lbs' '240lbs'\n",
      " '198lbs' '169lbs' '260lbs' '196lbs' '104lbs' '173lbs' '179lbs' '101lbs'\n",
      " '239lbs' '182lbs' '151lbs' '164lbs' '218lbs' '171lbs' '255lbs' '97lbs'\n",
      " '270lbs' '187lbs' '90lbs' '199lbs' '235lbs' '193lbs' '192lbs' '189lbs'\n",
      " '201lbs' '245lbs' '191lbs' '206lbs' '216lbs' '167lbs' '188lbs' '203lbs'\n",
      " '209lbs' '224lbs' '177lbs' '265lbs' '276lbs' '219lbs' '99lbs' '211lbs'\n",
      " '194lbs' '280lbs' '207lbs' '208lbs' '285lbs' '197lbs' '290lbs' '87lbs'\n",
      " '238lbs' '93lbs' '214lbs' '227lbs' '50lbs' '217lbs' '94lbs' '70lbs'\n",
      " '88lbs' '183lbs' '300lbs' '273lbs' '181lbs' '261lbs' '246lbs' '249lbs'\n",
      " '202lbs' '241lbs' '236lbs' '256lbs' '237lbs' '233lbs' '222lbs' '232lbs'\n",
      " '275lbs' '228lbs' '223lbs' '79lbs' '229lbs' '264lbs' '269lbs' '247lbs'\n",
      " '226lbs' '221lbs' '91lbs' '213lbs' '242lbs' '288lbs' '263lbs' '58lbs'\n",
      " '85lbs' '80lbs' '253lbs' '86lbs' '243lbs' '271lbs' '251lbs']\n",
      "[ 62.14  59.87   0.    61.23  65.77  62.6   50.8   53.52  51.71  54.43\n",
      "  64.41  63.5   77.11  64.86  52.16  55.79  55.34  74.84  58.97  70.31\n",
      "  47.63  86.18  68.04  61.69  58.06  78.93  56.7   49.9   72.57  81.65\n",
      "  79.38  60.78  49.44  56.25 113.4   88.45 104.78  73.03  57.15  95.25\n",
      "  97.52  99.79  73.94  48.08  80.74  71.21  83.91  48.99  90.72  41.73\n",
      "  53.07  66.22  52.62  63.96  46.72  54.88  57.61  50.35  68.95  78.02\n",
      "  48.53  60.33 112.49  69.85  69.4   59.42  70.76  58.51  84.37  45.36\n",
      "  51.26  67.13  53.98  75.3   65.32  71.67  43.09 106.14  63.05 104.33\n",
      "  83.46  46.27  92.99  76.2   73.48  66.68  44.45 102.06  92.53  40.37\n",
      "  72.12  43.54  79.83  96.16  67.59 108.86  89.81  76.66 117.93  88.9\n",
      "  47.17  78.47  81.19  45.81 108.41  82.55  68.49  74.39  98.88  77.56\n",
      " 115.67  44.   122.47  84.82  40.82  90.26 106.59  87.54  87.09  85.73\n",
      "  91.17 111.13  86.64  93.44  97.98  75.75  85.28  92.08  94.8  101.6\n",
      "  80.29 120.2  125.19  99.34  44.91  95.71  88.   127.01  93.89  94.35\n",
      " 129.27  89.36 131.54  39.46 107.95  42.18  97.07 102.97  22.68  98.43\n",
      "  42.64  31.75  39.92  83.01 136.08 123.83  82.1  118.39 111.58 112.94\n",
      "  91.63 109.32 107.05 116.12 107.5  105.69 100.7  105.23 124.74 103.42\n",
      " 101.15  35.83 103.87 119.75 122.02 112.04 102.51 100.24  41.28  96.62\n",
      " 109.77 130.63 119.29  26.31  38.56  36.29 114.76  39.01 110.22 122.92\n",
      " 113.85]\n"
     ]
    }
   ],
   "source": [
    "# weight \n",
    "# weight 타입 확인\n",
    "print(df['weight'].dtype)\n",
    "# weight 데이터 고유값 확인\n",
    "print(df['weight'].unique())\n",
    "# #문자열 제거 후 실수로 변환\n",
    "df['weight'] = df['weight'].str.replace('lbs', '').astype(float)\n",
    "# ibs를 kg로 변환\n",
    "df['weight_kg'] = df['weight'] *0.453592\n",
    "# # null값은 평균으로 채우기\n",
    "# df['weight_kg'] = df['weight_kg'].fillna(df['weight_kg'].mean())\n",
    "#소수 둘째 자리까지 반올림\n",
    "df['weight_kg'] = df['weight_kg'].round(2)\n",
    "# weight_kg 컬럼의 null 값을 0으로 채우기\n",
    "df['weight_kg'] = df['weight_kg'].fillna(0)\n",
    "\n",
    "print(df['weight_kg'].unique())"
   ]
  },
  {
   "cell_type": "code",
   "execution_count": 6,
   "metadata": {},
   "outputs": [
    {
     "data": {
      "image/png": "[encoded data removed]",
      "text/plain": [
       "<Figure size 1500x600 with 1 Axes>"
      ]
     },
     "metadata": {},
     "output_type": "display_data"
    },
    {
     "name": "stdout",
     "output_type": "stream",
     "text": [
      "\n",
      "체중 통계 정보 (kg):\n",
      "count    192544.000000\n",
      "mean         52.615317\n",
      "std          24.369903\n",
      "min           0.000000\n",
      "25%          52.160000\n",
      "50%          58.970000\n",
      "75%          65.770000\n",
      "max         136.080000\n",
      "Name: weight_kg, dtype: float64\n"
     ]
    }
   ],
   "source": [
    "# weight 데이터 시각화 (10단위 구간)\n",
    "import pandas as pd\n",
    "import matplotlib.pyplot as plt\n",
    "import seaborn as sns\n",
    "\n",
    "# 한글 폰트 설정\n",
    "# 일반적인 윈도우 글꼴\n",
    "plt.rcParams['font.family'] = 'Malgun Gothic'\n",
    "#  -(마이너스)안 깨지기 위함\n",
    "plt.rcParams['axes.unicode_minus'] = False\n",
    "\n",
    "# 0이 아닌 값값 필터링\n",
    "df_filtered = df[df['weight_kg'] != 0]\n",
    "\n",
    "#너비 15, 높이 6인 그래프 \n",
    "plt.figure(figsize=(15, 6))\n",
    "# 그래프 막대 50개로 나타냄\n",
    "sns.histplot(data=df, x='weight_kg', bins=50)  # bins를 50으로 증가\n",
    "# 그래프 제목\n",
    "plt.title('체중 분포 (kg) - 10단위 구간')\n",
    "# x축 라벨 이름\n",
    "plt.xlabel('체중 (kg)')\n",
    "# y축 라벨 이름\n",
    "plt.ylabel('빈도')\n",
    "# x축 눈금을 10단위로 설정\n",
    "plt.xticks(range(0, int(df['weight_kg'].max()) + 10, 10))  # x축 눈금을 10단위로 설정\n",
    "# 그래프 보여주기\n",
    "plt.show()\n",
    "\n",
    "# 무게 통계 정보 출력\n",
    "print(\"\\n체중 통계 정보 (kg):\")\n",
    "# describe는 기초 통계값 출력\n",
    "print(df['weight_kg'].describe())"
   ]
  },
  {
   "cell_type": "code",
   "execution_count": 7,
   "metadata": {},
   "outputs": [
    {
     "name": "stdout",
     "output_type": "stream",
     "text": [
      "[ 62.14  59.87   0.    61.23  65.77  62.6   50.8   53.52  51.71  54.43\n",
      "  64.41  63.5   77.11  64.86  52.16  55.79  55.34  74.84  58.97  70.31\n",
      "  47.63  86.18  68.04  61.69  58.06  78.93  56.7   49.9   72.57  81.65\n",
      "  79.38  60.78  49.44  56.25 113.4   88.45 104.78  73.03  57.15  95.25\n",
      "  97.52  99.79  73.94  48.08  80.74  71.21  83.91  48.99  90.72  41.73\n",
      "  53.07  66.22  52.62  63.96  46.72  54.88  57.61  50.35  68.95  78.02\n",
      "  48.53  60.33 112.49  69.85  69.4   59.42  70.76  58.51  84.37  45.36\n",
      "  51.26  67.13  53.98  75.3   65.32  71.67  43.09 106.14  63.05 104.33\n",
      "  83.46  46.27  92.99  76.2   73.48  66.68  44.45 102.06  92.53  40.37\n",
      "  72.12  43.54  79.83  96.16  67.59 108.86  89.81  76.66 117.93  88.9\n",
      "  47.17  78.47  81.19  45.81 108.41  82.55  68.49  74.39  98.88  77.56\n",
      " 115.67  44.   122.47  84.82  40.82  90.26 106.59  87.54  87.09  85.73\n",
      "  91.17 111.13  86.64  93.44  97.98  75.75  85.28  92.08  94.8  101.6\n",
      "  80.29 120.2  125.19  99.34  44.91  95.71  88.   127.01  93.89  94.35\n",
      " 129.27  89.36 131.54  39.46 107.95  42.18  97.07 102.97  22.68  98.43\n",
      "  42.64  31.75  39.92  83.01 136.08 123.83  82.1  118.39 111.58 112.94\n",
      "  91.63 109.32 107.05 116.12 107.5  105.69 100.7  105.23 124.74 103.42\n",
      " 101.15  35.83 103.87 119.75 122.02 112.04 102.51 100.24  41.28  96.62\n",
      " 109.77 130.63 119.29  26.31  38.56  36.29 114.76  39.01 110.22 122.92\n",
      " 113.85]\n"
     ]
    }
   ],
   "source": [
    "#  fit컬럼의 null 값을 0으로 채우기\n",
    "df['fit'] = df['fit'].fillna('0')\n",
    "print(df['weight_kg'].unique())\n"
   ]
  },
  {
   "cell_type": "code",
   "execution_count": 13,
   "metadata": {},
   "outputs": [
    {
     "name": "stderr",
     "output_type": "stream",
     "text": [
      "C:\\Users\\user\\AppData\\Local\\Temp\\ipykernel_19256\\4059938000.py:18: FutureWarning: \n",
      "\n",
      "Passing `palette` without assigning `hue` is deprecated and will be removed in v0.14.0. Assign the `x` variable to `hue` and set `legend=False` for the same effect.\n",
      "\n",
      "  sns.countplot(data=df_fit_filtered, x='fit', order=df_fit_filtered['fit'].value_counts().index, palette='pastel')\n"
     ]
    },
    {
     "data": {
      "image/png": "[encoded data removed]",
      "text/plain": [
       "<Figure size 1000x600 with 1 Axes>"
      ]
     },
     "metadata": {},
     "output_type": "display_data"
    },
    {
     "name": "stdout",
     "output_type": "stream",
     "text": [
      "\n",
      "핏 (fit) 데이터 분포:\n",
      "fit\n",
      "fit      142058\n",
      "small     25779\n",
      "large     24707\n",
      "Name: count, dtype: int64\n"
     ]
    }
   ],
   "source": [
    "import pandas as pd\n",
    "import matplotlib.pyplot as plt\n",
    "import seaborn as sns\n",
    "\n",
    "df = pd.read_csv(\"C:/Users/user/Downloads/renttherunway_data.csv\")\n",
    "\n",
    "# 한글 폰트 설정\n",
    "# 일반적인 윈도우 글꼴\n",
    "plt.rcParams['font.family'] = 'Malgun Gothic'\n",
    "#  -(마이너스)안 깨지기 위함\n",
    "plt.rcParams['axes.unicode_minus'] = False\n",
    "\n",
    "# 0이 아닌 값 필터링\n",
    "df_fit_filtered = df[df['fit'] != '0']\n",
    "\n",
    "# 너비 10, 높이 6인 그래프\n",
    "plt.figure(figsize=(10, 6))\n",
    "sns.countplot(data=df_fit_filtered, x='fit', order=df_fit_filtered['fit'].value_counts().index, palette='pastel')\n",
    "# 그래프 제목\n",
    "plt.title('핏 분포 (fit)')\n",
    "# x축 라벨 이름\n",
    "plt.xlabel('핏 (fit)')\n",
    "# y축 라벨 이름\n",
    "plt.ylabel('빈도')\n",
    "# 그래프 보여주기\n",
    "plt.show()\n",
    "\n",
    "#핏 통계 정보 출력\n",
    "print(\"\\n핏 (fit) 데이터 분포:\")\n",
    "print(df['fit'].value_counts())\n"
   ]
  },
  {
   "cell_type": "code",
   "execution_count": 10,
   "metadata": {},
   "outputs": [
    {
     "name": "stdout",
     "output_type": "stream",
     "text": [
      "[10  8  4  6  2  0]\n"
     ]
    }
   ],
   "source": [
    "# rating 컬럼의 null 값을 0으로 채우기\n",
    "df['rating'] = df['rating'].fillna(0)\n",
    "\n",
    "# rating을 int로 변환\n",
    "df['rating'] = df['rating'].astype(int)\n",
    "\n",
    "# 점수 변환\n",
    "rating_map = {\n",
    "    6: 1,\n",
    "    7: 2,\n",
    "    8: 3,\n",
    "    9: 4,\n",
    "    10: 5\n",
    "}\n",
    "df['rating_mapped'] = df['rating'].replace(rating_map)\n",
    "print(df['rating'].unique())"
   ]
  },
  {
   "cell_type": "code",
   "execution_count": 11,
   "metadata": {},
   "outputs": [
    {
     "name": "stderr",
     "output_type": "stream",
     "text": [
      "C:\\Users\\user\\AppData\\Local\\Temp\\ipykernel_19256\\1677772148.py:33: FutureWarning: \n",
      "\n",
      "Passing `palette` without assigning `hue` is deprecated and will be removed in v0.14.0. Assign the `x` variable to `hue` and set `legend=False` for the same effect.\n",
      "\n",
      "  sns.countplot(data=df_rating_filtered, x='rating_mapped', palette='pastel')\n"
     ]
    },
    {
     "data": {
      "image/png": "[encoded data removed]",
      "text/plain": [
       "<Figure size 1000x600 with 1 Axes>"
      ]
     },
     "metadata": {},
     "output_type": "display_data"
    },
    {
     "name": "stdout",
     "output_type": "stream",
     "text": [
      "\n",
      "변환된 평점 분포:\n",
      "rating_mapped\n",
      "0        82\n",
      "1     10697\n",
      "2      1046\n",
      "3     53391\n",
      "4      2791\n",
      "5    124537\n",
      "Name: count, dtype: int64\n"
     ]
    }
   ],
   "source": [
    "import pandas as pd\n",
    "import matplotlib.pyplot as plt\n",
    "import seaborn as sns\n",
    "\n",
    "df = pd.read_csv(\"C:/Users/user/Downloads/renttherunway_data.csv\")\n",
    "\n",
    "# 한글 폰트 설정\n",
    "# 일반적인 윈도우 글꼴\n",
    "plt.rcParams['font.family'] = 'Malgun Gothic'\n",
    "#  -(마이너스)안 깨지기 위함\n",
    "plt.rcParams['axes.unicode_minus'] = False\n",
    "\n",
    "# rating 컬럼의 null 값을 0으로 채우기\n",
    "df['rating'] = df['rating'].fillna(0)\n",
    "\n",
    "# rating을 int로 변환\n",
    "df['rating'] = df['rating'].astype(int)\n",
    "\n",
    "# 점수 변환환\n",
    "rating_map = {\n",
    "    6: 1,\n",
    "    7: 2,\n",
    "    8: 3,\n",
    "    9: 4,\n",
    "    10: 5\n",
    "}\n",
    "df['rating_mapped'] = df['rating'].replace(rating_map)\n",
    "\n",
    "# 0이 아닌 값 필터링\n",
    "df_rating_filtered = df[df['rating_mapped'] != 0]\n",
    "\n",
    "plt.figure(figsize=(10, 6))\n",
    "sns.countplot(data=df_rating_filtered, x='rating_mapped', palette='pastel')\n",
    "plt.title('사용자 평점 분포 (1~5점)')\n",
    "plt.xlabel('평점')\n",
    "plt.ylabel('빈도 수')\n",
    "plt.show()\n",
    "\n",
    "#점수 통계 출력력\n",
    "print(\"\\n변환된 평점 분포:\")\n",
    "print(df['rating_mapped'].value_counts().sort_index())\n"
   ]
  },
  {
   "cell_type": "code",
   "execution_count": null,
   "metadata": {},
   "outputs": [],
   "source": [
    "# height 컬럼의 null 값을 0으로 채우기\n",
    "df['height'] = df['height'].fillna(\"0' 0\")\n",
    "\n",
    "# height cm로 변환\n",
    "def height_to_cm(height_str):\n",
    "    match = re.match(r\"(\\d+)' (\\d+)\", height_str)\n",
    "    if match:\n",
    "        feet = int(match.group(1))\n",
    "        inches = int(match.group(2))\n",
    "        return round((feet * 12 + inches) * 2.54, 2)\n",
    "    else:\n",
    "        return 0.0  # 변환 실패 시 0으로\n",
    "\n",
    "df['height_cm'] = df['height'].apply(height_to_cm)"
   ]
  },
  {
   "cell_type": "code",
   "execution_count": null,
   "metadata": {},
   "outputs": [],
   "source": [
    "import pandas as pd\n",
    "import matplotlib.pyplot as plt\n",
    "import seaborn as sns\n",
    "\n",
    "df = pd.read_csv(\"C:/Users/user/Downloads/renttherunway_data.csv\")\n",
    "\n",
    "# 한글 폰트 설정\n",
    "# 일반적인 윈도우 글꼴\n",
    "plt.rcParams['font.family'] = 'Malgun Gothic'\n",
    "#  -(마이너스)안 깨지기 위함\n",
    "plt.rcParams['axes.unicode_minus'] = False\n",
    "\n",
    "# height 컬럼의 null 값을 0으로 채우기\n",
    "df['height'] = df['height'].fillna(\"0' 0\")\n",
    "\n",
    "# height cm로 변환\n",
    "def height_to_cm(height_str):\n",
    "    match = re.match(r\"(\\d+)' (\\d+)\", height_str)\n",
    "    if match:\n",
    "        feet = int(match.group(1))\n",
    "        inches = int(match.group(2))\n",
    "        return round((feet * 12 + inches) * 2.54, 2)\n",
    "    else:\n",
    "        return 0.0  # 변환 실패 시 0으로\n",
    "\n",
    "df['height_cm'] = df['height'].apply(height_to_cm)\n",
    "\n",
    "# 0이 아닌 값 필터링\n",
    "df_height_filtered = df[df['height_cm'] != 0]\n",
    "\n",
    "#\n",
    "plt.figure(figsize=(15, 6))\n",
    "sns.histplot(data=df_height_filtered, x='height_cm', bins=40, color='skyblue')\n",
    "plt.title('신장 분포 (cm)')\n",
    "plt.xlabel('신장 (cm)')\n",
    "plt.ylabel('빈도')\n",
    "plt.xticks(range(130, int(df_height_filtered['height_cm'].max()) + 5, 5))\n",
    "plt.show()\n",
    "\n",
    "#통계 정보 출력 (소수점 둘째 자리까지)\n",
    "print(\"\\n신장 통계 정보 (cm):\")\n",
    "print(df['height_cm'].describe().round(2))\n"
   ]
  },
  {
   "cell_type": "code",
   "execution_count": null,
   "metadata": {},
   "outputs": [],
   "source": [
    "# body type 컬럼의 null 값을 0으로 채우기\n",
    "df['body type'] = df['body type'].fillna('0')\n",
    "\n",
    "# 0이 아닌 값 필터링\n",
    "df_body_type_filtered = df[df['body type'] != '0']"
   ]
  },
  {
   "cell_type": "code",
   "execution_count": null,
   "metadata": {},
   "outputs": [],
   "source": [
    "import pandas as pd\n",
    "import matplotlib.pyplot as plt\n",
    "import seaborn as sns\n",
    "\n",
    "df = pd.read_csv(\"C:/Users/user/Downloads/renttherunway_data.csv\")\n",
    "\n",
    "# 한글 폰트 설정\n",
    "# 일반적인 윈도우 글꼴\n",
    "plt.rcParams['font.family'] = 'Malgun Gothic'\n",
    "#  -(마이너스)안 깨지기 위함\n",
    "plt.rcParams['axes.unicode_minus'] = False\n",
    "\n",
    "# body type 컬럼의 null 값을 0으로 채우기\n",
    "df['body type'] = df['body type'].fillna('0')\n",
    "\n",
    "# 0이 아닌 값 필터링\n",
    "df_body_type_filtered = df[df['body type'] != '0']\n",
    "\n",
    "# \n",
    "plt.figure(figsize=(10, 6))\n",
    "sns.countplot(data=df_body_type_filtered, x='body type', order=df_body_type_filtered['body type'].value_counts().index, palette='Set2')\n",
    "plt.title('체형(body type) 분포')\n",
    "plt.xlabel('체형(body type)')\n",
    "plt.ylabel('빈도')\n",
    "plt.show()\n",
    "\n",
    "# 통계 출력\n",
    "print(\"\\nbody type 값별 개수:\")\n",
    "print(df['body type'].value_counts())"
   ]
  },
  {
   "cell_type": "code",
   "execution_count": null,
   "metadata": {},
   "outputs": [],
   "source": [
    "# size 컬럼의 null 값을 0으로 채우기\n",
    "df['size'] = df['size'].fillna('0')\n",
    "\n",
    "# 0이 아닌 값 필터링\n",
    "df_size_filtered = df[df['size'] != '0']\n",
    "\n",
    "# 숫자형으로 변환\n",
    "df_size_filtered['size'] = pd.to_numeric(df_size_filtered['size'], errors='coerce')\n",
    "\n",
    "# 컬럼 오름차순 정렬\n",
    "df_size_filtered = df_size_filtered.sort_values(by='size')"
   ]
  },
  {
   "cell_type": "code",
   "execution_count": null,
   "metadata": {},
   "outputs": [],
   "source": [
    "import pandas as pd\n",
    "import matplotlib.pyplot as plt\n",
    "import seaborn as sns\n",
    "\n",
    "df = pd.read_csv(\"C:/Users/user/Downloads/renttherunway_data.csv\")\n",
    "\n",
    "# 한글 폰트 설정\n",
    "# 일반적인 윈도우 글꼴\n",
    "plt.rcParams['font.family'] = 'Malgun Gothic'\n",
    "#  -(마이너스)안 깨지기 위함\n",
    "plt.rcParams['axes.unicode_minus'] = False\n",
    "\n",
    "# size 컬럼의 null 값을 0으로 채우기\n",
    "df['size'] = df['size'].fillna('0')\n",
    "\n",
    "# 0이 아닌 값 필터링\n",
    "df_size_filtered = df[df['size'] != '0']\n",
    "\n",
    "# 숫자형으로 변환\n",
    "df_size_filtered['size'] = pd.to_numeric(df_size_filtered['size'], errors='coerce')\n",
    "\n",
    "# 컬럼 오름차순 정렬\n",
    "df_size_filtered = df_size_filtered.sort_values(by='size')\n",
    "\n",
    "# \n",
    "plt.figure(figsize=(10, 6))\n",
    "sns.countplot(data=df_size_filtered, x='size', order=sorted(df_size_filtered['size'].unique()), palette='Set2')\n",
    "plt.title('사이즈(size) 분포')\n",
    "plt.xlabel('사이즈(size)')\n",
    "plt.ylabel('빈도')\n",
    "plt.show()\n",
    "\n",
    "# 통계 출력\n",
    "print(\"\\nsize 값별 개수:\")\n",
    "print(df_size_filtered['size'].value_counts().sort_index())"
   ]
  },
  {
   "cell_type": "code",
   "execution_count": null,
   "metadata": {},
   "outputs": [],
   "source": [
    "# null 평균값으로 대체\n",
    "df['age'] = df['age'].fillna(df['age'].mean())\n",
    "\n",
    "# age_group 생성\n",
    "bins = [0, 19, 29, 39, 49, 59, 100]\n",
    "labels = ['10대', '20대', '30대', '40대', '50대', '60대 이상']\n",
    "df['age_group'] = pd.cut(df['age'], bins=bins, labels=labels)"
   ]
  },
  {
   "cell_type": "code",
   "execution_count": null,
   "metadata": {},
   "outputs": [],
   "source": [
    "# 나이 전체체\n",
    "import pandas as pd\n",
    "import matplotlib.pyplot as plt\n",
    "import seaborn as sns\n",
    "\n",
    "df = pd.read_csv(\"C:/Users/user/Downloads/renttherunway_data.csv\")\n",
    "\n",
    "# 한글 폰트 설정\n",
    "# 일반적인 윈도우 글꼴\n",
    "plt.rcParams['font.family'] = 'Malgun Gothic'\n",
    "#  -(마이너스)안 깨지기 위함\n",
    "plt.rcParams['axes.unicode_minus'] = False\n",
    "\n",
    "#  결측치를 0으로 채우고 정수형으로 변환\n",
    "df['age'] = df['age'].fillna(0)\n",
    "df['age'] = df['age'].round().astype(int)\n",
    "\n",
    "# \n",
    "plt.figure(figsize=(15, 6))\n",
    "sns.histplot(data=df, x='age', bins=50, color='lightcoral')\n",
    "plt.title('나이 분포')\n",
    "plt.xlabel('나이')\n",
    "plt.ylabel('빈도')\n",
    "plt.xticks(range(0, int(df['age'].max()) + 5, 5))\n",
    "plt.tight_layout()\n",
    "plt.show()\n",
    "\n",
    "# 출력\n",
    "print(\"\\n전체 나이 값 분포:\")\n",
    "print(df['age'].value_counts().sort_index())"
   ]
  },
  {
   "cell_type": "code",
   "execution_count": null,
   "metadata": {},
   "outputs": [],
   "source": [
    "# 나이 평균균\n",
    "import pandas as pd\n",
    "import matplotlib.pyplot as plt\n",
    "import seaborn as sns\n",
    "\n",
    "df = pd.read_csv(\"C:/Users/user/Downloads/renttherunway_data.csv\")\n",
    "\n",
    "# 한글 폰트 설정\n",
    "# 일반적인 윈도우 글꼴\n",
    "plt.rcParams['font.family'] = 'Malgun Gothic'\n",
    "#  -(마이너스)안 깨지기 위함\n",
    "plt.rcParams['axes.unicode_minus'] = False\n",
    "\n",
    "\n",
    "# null 평균값으로 대체\n",
    "df['age'] = df['age'].fillna(df['age'].mean())\n",
    "\n",
    "# age_group 생성\n",
    "bins = [0, 19, 29, 39, 49, 59, 100]\n",
    "labels = ['10대', '20대', '30대', '40대', '50대', '60대 이상']\n",
    "df['age_group'] = pd.cut(df['age'], bins=bins, labels=labels)\n",
    "\n",
    "# 오름차순으로 정렬\n",
    "age_order = ['10대', '20대', '30대', '40대', '50대', '60대 이상']  # 오름차순 순서 정의\n",
    "plt.figure(figsize=(10, 6))\n",
    "sns.countplot(data=df, x='age_group', order=age_order, palette='Set2')\n",
    "plt.title('연령대(age_group) 분포')\n",
    "plt.xlabel('연령대(age_group)')\n",
    "plt.ylabel('빈도')\n",
    "plt.show()\n",
    "\n",
    "# 통계 출력\n",
    "print(\"\\nage_group 값별 개수:\")\n",
    "print(df['age_group'].value_counts().sort_index())\n"
   ]
  },
  {
   "cell_type": "code",
   "execution_count": null,
   "metadata": {},
   "outputs": [],
   "source": [
    "# item_id 컬럼의 null 값을 0으로 채우기\n",
    "df['item_id'] = df['item_id'].fillna('0')\n",
    "\n",
    "# 0이 아닌 값 필터링\n",
    "df_item_id_filtered = df[df['item_id'] != '0']"
   ]
  },
  {
   "cell_type": "code",
   "execution_count": null,
   "metadata": {},
   "outputs": [],
   "source": [
    "import pandas as pd\n",
    "import matplotlib.pyplot as plt\n",
    "import seaborn as sns\n",
    "\n",
    "df = pd.read_csv(\"C:/Users/user/Downloads/renttherunway_data.csv\")\n",
    "\n",
    "# 한글 폰트 설정\n",
    "# 일반적인 윈도우 글꼴\n",
    "plt.rcParams['font.family'] = 'Malgun Gothic'\n",
    "#  -(마이너스)안 깨지기 위함\n",
    "plt.rcParams['axes.unicode_minus'] = False\n",
    "\n",
    "# item_id 컬럼의 null 값을 0으로 채우기\n",
    "df['item_id'] = df['item_id'].fillna('0')\n",
    "\n",
    "# 0이 아닌 값 필터링\n",
    "df_item_id_filtered = df[df['item_id'] != '0']\n",
    "\n",
    "# \n",
    "plt.figure(figsize=(10, 6))\n",
    "sns.countplot(data=df_item_id_filtered, x='item_id', order=df_item_id_filtered['item_id'].value_counts().index, palette='Set2')\n",
    "plt.title('아이템 아이디(item_id) 분포')\n",
    "plt.xlabel('아이템 아이디(item_id)')\n",
    "plt.ylabel('빈도')\n",
    "plt.xticks(rotation=90)  # 아이템 아이디가 많을 경우, 라벨이 겹치지 않도록 회전\n",
    "plt.show()\n",
    "\n",
    "# 통계계 출력\n",
    "print(\"\\nitem_id 값별 개수:\")\n",
    "print(df['item_id'].value_counts().sort_index())\n"
   ]
  },
  {
   "cell_type": "code",
   "execution_count": null,
   "metadata": {},
   "outputs": [],
   "source": []
  }
 ],
 "metadata": {
  "kernelspec": {
   "display_name": "Python 3",
   "language": "python",
   "name": "python3"
  },
  "language_info": {
   "codemirror_mode": {
    "name": "ipython",
    "version": 3
   },
   "file_extension": ".py",
   "mimetype": "text/x-python",
   "name": "python",
   "nbconvert_exporter": "python",
   "pygments_lexer": "ipython3",
   "version": "3.11.9"
  }
 },
 "nbformat": 4,
 "nbformat_minor": 2
}
