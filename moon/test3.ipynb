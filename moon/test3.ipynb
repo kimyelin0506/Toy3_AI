{
 "cells": [
  {
   "cell_type": "markdown",
   "id": "338e31f3",
   "metadata": {},
   "source": "## 데이터 전처리"
  },
  {
   "cell_type": "code",
   "id": "7c5e36ec",
   "metadata": {
    "ExecuteTime": {
     "end_time": "2025-04-18T07:39:31.054833Z",
     "start_time": "2025-04-18T07:39:29.966434Z"
    }
   },
   "source": [
    "import pandas as pd\n",
    "import numpy as np\n",
    "import matplotlib.pyplot as plt\n",
    "import seaborn as sns\n",
    "import re\n",
    "\n",
    "\n",
    "df = pd.read_csv('../renttherunway_data.csv')\n",
    "data = df.copy()\n",
    "data.head()"
   ],
   "outputs": [
    {
     "data": {
      "text/plain": [
       "   fit  user_id bust size  item_id  weight  rating     rented for  \\\n",
       "0  fit   420272       34d  2260466  137lbs    10.0       vacation   \n",
       "1  fit   273551       34b   153475  132lbs    10.0          other   \n",
       "2  fit   360448       NaN  1063761     NaN    10.0          party   \n",
       "3  fit   909926       34c   126335  135lbs     8.0  formal affair   \n",
       "4  fit   151944       34b   616682  145lbs    10.0        wedding   \n",
       "\n",
       "                                         review_text          body type  \\\n",
       "0  An adorable romper! Belt and zipper were a lit...          hourglass   \n",
       "1  I rented this dress for a photo shoot. The the...  straight & narrow   \n",
       "2  This hugged in all the right places! It was a ...                NaN   \n",
       "3  I rented this for my company's black tie award...               pear   \n",
       "4  I have always been petite in my upper body and...           athletic   \n",
       "\n",
       "                                      review_summary category height  size  \\\n",
       "0                               So many compliments!   romper  5' 8\"    14   \n",
       "1                            I felt so glamourous!!!     gown  5' 6\"    12   \n",
       "2  It was a great time to celebrate the (almost) ...   sheath  5' 4\"     4   \n",
       "3   Dress arrived on time and in perfect condition.     dress  5' 5\"     8   \n",
       "4                    Was in love with this dress !!!     gown  5' 9\"    12   \n",
       "\n",
       "     age         review_date  \n",
       "0   28.0      April 20, 2016  \n",
       "1   36.0       June 18, 2013  \n",
       "2  116.0   December 14, 2015  \n",
       "3   34.0   February 12, 2014  \n",
       "4   27.0  September 26, 2016  "
      ],
      "text/html": [
       "<div>\n",
       "<style scoped>\n",
       "    .dataframe tbody tr th:only-of-type {\n",
       "        vertical-align: middle;\n",
       "    }\n",
       "\n",
       "    .dataframe tbody tr th {\n",
       "        vertical-align: top;\n",
       "    }\n",
       "\n",
       "    .dataframe thead th {\n",
       "        text-align: right;\n",
       "    }\n",
       "</style>\n",
       "<table border=\"1\" class=\"dataframe\">\n",
       "  <thead>\n",
       "    <tr style=\"text-align: right;\">\n",
       "      <th></th>\n",
       "      <th>fit</th>\n",
       "      <th>user_id</th>\n",
       "      <th>bust size</th>\n",
       "      <th>item_id</th>\n",
       "      <th>weight</th>\n",
       "      <th>rating</th>\n",
       "      <th>rented for</th>\n",
       "      <th>review_text</th>\n",
       "      <th>body type</th>\n",
       "      <th>review_summary</th>\n",
       "      <th>category</th>\n",
       "      <th>height</th>\n",
       "      <th>size</th>\n",
       "      <th>age</th>\n",
       "      <th>review_date</th>\n",
       "    </tr>\n",
       "  </thead>\n",
       "  <tbody>\n",
       "    <tr>\n",
       "      <th>0</th>\n",
       "      <td>fit</td>\n",
       "      <td>420272</td>\n",
       "      <td>34d</td>\n",
       "      <td>2260466</td>\n",
       "      <td>137lbs</td>\n",
       "      <td>10.0</td>\n",
       "      <td>vacation</td>\n",
       "      <td>An adorable romper! Belt and zipper were a lit...</td>\n",
       "      <td>hourglass</td>\n",
       "      <td>So many compliments!</td>\n",
       "      <td>romper</td>\n",
       "      <td>5' 8\"</td>\n",
       "      <td>14</td>\n",
       "      <td>28.0</td>\n",
       "      <td>April 20, 2016</td>\n",
       "    </tr>\n",
       "    <tr>\n",
       "      <th>1</th>\n",
       "      <td>fit</td>\n",
       "      <td>273551</td>\n",
       "      <td>34b</td>\n",
       "      <td>153475</td>\n",
       "      <td>132lbs</td>\n",
       "      <td>10.0</td>\n",
       "      <td>other</td>\n",
       "      <td>I rented this dress for a photo shoot. The the...</td>\n",
       "      <td>straight &amp; narrow</td>\n",
       "      <td>I felt so glamourous!!!</td>\n",
       "      <td>gown</td>\n",
       "      <td>5' 6\"</td>\n",
       "      <td>12</td>\n",
       "      <td>36.0</td>\n",
       "      <td>June 18, 2013</td>\n",
       "    </tr>\n",
       "    <tr>\n",
       "      <th>2</th>\n",
       "      <td>fit</td>\n",
       "      <td>360448</td>\n",
       "      <td>NaN</td>\n",
       "      <td>1063761</td>\n",
       "      <td>NaN</td>\n",
       "      <td>10.0</td>\n",
       "      <td>party</td>\n",
       "      <td>This hugged in all the right places! It was a ...</td>\n",
       "      <td>NaN</td>\n",
       "      <td>It was a great time to celebrate the (almost) ...</td>\n",
       "      <td>sheath</td>\n",
       "      <td>5' 4\"</td>\n",
       "      <td>4</td>\n",
       "      <td>116.0</td>\n",
       "      <td>December 14, 2015</td>\n",
       "    </tr>\n",
       "    <tr>\n",
       "      <th>3</th>\n",
       "      <td>fit</td>\n",
       "      <td>909926</td>\n",
       "      <td>34c</td>\n",
       "      <td>126335</td>\n",
       "      <td>135lbs</td>\n",
       "      <td>8.0</td>\n",
       "      <td>formal affair</td>\n",
       "      <td>I rented this for my company's black tie award...</td>\n",
       "      <td>pear</td>\n",
       "      <td>Dress arrived on time and in perfect condition.</td>\n",
       "      <td>dress</td>\n",
       "      <td>5' 5\"</td>\n",
       "      <td>8</td>\n",
       "      <td>34.0</td>\n",
       "      <td>February 12, 2014</td>\n",
       "    </tr>\n",
       "    <tr>\n",
       "      <th>4</th>\n",
       "      <td>fit</td>\n",
       "      <td>151944</td>\n",
       "      <td>34b</td>\n",
       "      <td>616682</td>\n",
       "      <td>145lbs</td>\n",
       "      <td>10.0</td>\n",
       "      <td>wedding</td>\n",
       "      <td>I have always been petite in my upper body and...</td>\n",
       "      <td>athletic</td>\n",
       "      <td>Was in love with this dress !!!</td>\n",
       "      <td>gown</td>\n",
       "      <td>5' 9\"</td>\n",
       "      <td>12</td>\n",
       "      <td>27.0</td>\n",
       "      <td>September 26, 2016</td>\n",
       "    </tr>\n",
       "  </tbody>\n",
       "</table>\n",
       "</div>"
      ]
     },
     "execution_count": 1,
     "metadata": {},
     "output_type": "execute_result"
    }
   ],
   "execution_count": 1
  },
  {
   "metadata": {
    "ExecuteTime": {
     "end_time": "2025-04-18T07:39:31.208124Z",
     "start_time": "2025-04-18T07:39:31.132369Z"
    }
   },
   "cell_type": "code",
   "source": "data.describe()",
   "id": "5e778d7167282e77",
   "outputs": [
    {
     "data": {
      "text/plain": [
       "             user_id       item_id         rating           size  \\\n",
       "count  192544.000000  1.925440e+05  192462.000000  192544.000000   \n",
       "mean   499494.100149  1.045684e+06       9.092371      12.245175   \n",
       "std    289059.719328  8.053148e+05       1.430044       8.494877   \n",
       "min         9.000000  1.233730e+05       2.000000       0.000000   \n",
       "25%    250654.250000  1.950760e+05       8.000000       8.000000   \n",
       "50%    499419.000000  9.483960e+05      10.000000      12.000000   \n",
       "75%    750974.000000  1.678888e+06      10.000000      16.000000   \n",
       "max    999997.000000  2.966087e+06      10.000000      58.000000   \n",
       "\n",
       "                 age  \n",
       "count  191584.000000  \n",
       "mean       33.871017  \n",
       "std         8.058083  \n",
       "min         0.000000  \n",
       "25%        29.000000  \n",
       "50%        32.000000  \n",
       "75%        37.000000  \n",
       "max       117.000000  "
      ],
      "text/html": [
       "<div>\n",
       "<style scoped>\n",
       "    .dataframe tbody tr th:only-of-type {\n",
       "        vertical-align: middle;\n",
       "    }\n",
       "\n",
       "    .dataframe tbody tr th {\n",
       "        vertical-align: top;\n",
       "    }\n",
       "\n",
       "    .dataframe thead th {\n",
       "        text-align: right;\n",
       "    }\n",
       "</style>\n",
       "<table border=\"1\" class=\"dataframe\">\n",
       "  <thead>\n",
       "    <tr style=\"text-align: right;\">\n",
       "      <th></th>\n",
       "      <th>user_id</th>\n",
       "      <th>item_id</th>\n",
       "      <th>rating</th>\n",
       "      <th>size</th>\n",
       "      <th>age</th>\n",
       "    </tr>\n",
       "  </thead>\n",
       "  <tbody>\n",
       "    <tr>\n",
       "      <th>count</th>\n",
       "      <td>192544.000000</td>\n",
       "      <td>1.925440e+05</td>\n",
       "      <td>192462.000000</td>\n",
       "      <td>192544.000000</td>\n",
       "      <td>191584.000000</td>\n",
       "    </tr>\n",
       "    <tr>\n",
       "      <th>mean</th>\n",
       "      <td>499494.100149</td>\n",
       "      <td>1.045684e+06</td>\n",
       "      <td>9.092371</td>\n",
       "      <td>12.245175</td>\n",
       "      <td>33.871017</td>\n",
       "    </tr>\n",
       "    <tr>\n",
       "      <th>std</th>\n",
       "      <td>289059.719328</td>\n",
       "      <td>8.053148e+05</td>\n",
       "      <td>1.430044</td>\n",
       "      <td>8.494877</td>\n",
       "      <td>8.058083</td>\n",
       "    </tr>\n",
       "    <tr>\n",
       "      <th>min</th>\n",
       "      <td>9.000000</td>\n",
       "      <td>1.233730e+05</td>\n",
       "      <td>2.000000</td>\n",
       "      <td>0.000000</td>\n",
       "      <td>0.000000</td>\n",
       "    </tr>\n",
       "    <tr>\n",
       "      <th>25%</th>\n",
       "      <td>250654.250000</td>\n",
       "      <td>1.950760e+05</td>\n",
       "      <td>8.000000</td>\n",
       "      <td>8.000000</td>\n",
       "      <td>29.000000</td>\n",
       "    </tr>\n",
       "    <tr>\n",
       "      <th>50%</th>\n",
       "      <td>499419.000000</td>\n",
       "      <td>9.483960e+05</td>\n",
       "      <td>10.000000</td>\n",
       "      <td>12.000000</td>\n",
       "      <td>32.000000</td>\n",
       "    </tr>\n",
       "    <tr>\n",
       "      <th>75%</th>\n",
       "      <td>750974.000000</td>\n",
       "      <td>1.678888e+06</td>\n",
       "      <td>10.000000</td>\n",
       "      <td>16.000000</td>\n",
       "      <td>37.000000</td>\n",
       "    </tr>\n",
       "    <tr>\n",
       "      <th>max</th>\n",
       "      <td>999997.000000</td>\n",
       "      <td>2.966087e+06</td>\n",
       "      <td>10.000000</td>\n",
       "      <td>58.000000</td>\n",
       "      <td>117.000000</td>\n",
       "    </tr>\n",
       "  </tbody>\n",
       "</table>\n",
       "</div>"
      ]
     },
     "execution_count": 2,
     "metadata": {},
     "output_type": "execute_result"
    }
   ],
   "execution_count": 2
  },
  {
   "metadata": {
    "ExecuteTime": {
     "end_time": "2025-04-18T07:39:31.383646Z",
     "start_time": "2025-04-18T07:39:31.306773Z"
    }
   },
   "cell_type": "code",
   "source": "data.isnull().sum()",
   "id": "72875107a18c3ae3",
   "outputs": [
    {
     "data": {
      "text/plain": [
       "fit                   0\n",
       "user_id               0\n",
       "bust size         18411\n",
       "item_id               0\n",
       "weight            29982\n",
       "rating               82\n",
       "rented for           10\n",
       "review_text          68\n",
       "body type         14637\n",
       "review_summary      347\n",
       "category              0\n",
       "height              677\n",
       "size                  0\n",
       "age                 960\n",
       "review_date           0\n",
       "dtype: int64"
      ]
     },
     "execution_count": 3,
     "metadata": {},
     "output_type": "execute_result"
    }
   ],
   "execution_count": 3
  },
  {
   "metadata": {},
   "cell_type": "markdown",
   "source": "#### bust size, rented for, review_text, review_summary, review_date 컬럼 삭제",
   "id": "30ec412562f206b3"
  },
  {
   "metadata": {
    "ExecuteTime": {
     "end_time": "2025-04-18T07:39:31.682816Z",
     "start_time": "2025-04-18T07:39:31.652398Z"
    }
   },
   "cell_type": "code",
   "source": [
    "# 지정한 컬럼 삭제\n",
    "columns_to_drop = ['bust size', 'rented for', 'review_text', 'review_summary', 'review_date']\n",
    "data = data.drop(columns=columns_to_drop)\n",
    "\n",
    "data.head()"
   ],
   "id": "547a37bd3a28d0c",
   "outputs": [
    {
     "data": {
      "text/plain": [
       "   fit  user_id  item_id  weight  rating          body type category height  \\\n",
       "0  fit   420272  2260466  137lbs    10.0          hourglass   romper  5' 8\"   \n",
       "1  fit   273551   153475  132lbs    10.0  straight & narrow     gown  5' 6\"   \n",
       "2  fit   360448  1063761     NaN    10.0                NaN   sheath  5' 4\"   \n",
       "3  fit   909926   126335  135lbs     8.0               pear    dress  5' 5\"   \n",
       "4  fit   151944   616682  145lbs    10.0           athletic     gown  5' 9\"   \n",
       "\n",
       "   size    age  \n",
       "0    14   28.0  \n",
       "1    12   36.0  \n",
       "2     4  116.0  \n",
       "3     8   34.0  \n",
       "4    12   27.0  "
      ],
      "text/html": [
       "<div>\n",
       "<style scoped>\n",
       "    .dataframe tbody tr th:only-of-type {\n",
       "        vertical-align: middle;\n",
       "    }\n",
       "\n",
       "    .dataframe tbody tr th {\n",
       "        vertical-align: top;\n",
       "    }\n",
       "\n",
       "    .dataframe thead th {\n",
       "        text-align: right;\n",
       "    }\n",
       "</style>\n",
       "<table border=\"1\" class=\"dataframe\">\n",
       "  <thead>\n",
       "    <tr style=\"text-align: right;\">\n",
       "      <th></th>\n",
       "      <th>fit</th>\n",
       "      <th>user_id</th>\n",
       "      <th>item_id</th>\n",
       "      <th>weight</th>\n",
       "      <th>rating</th>\n",
       "      <th>body type</th>\n",
       "      <th>category</th>\n",
       "      <th>height</th>\n",
       "      <th>size</th>\n",
       "      <th>age</th>\n",
       "    </tr>\n",
       "  </thead>\n",
       "  <tbody>\n",
       "    <tr>\n",
       "      <th>0</th>\n",
       "      <td>fit</td>\n",
       "      <td>420272</td>\n",
       "      <td>2260466</td>\n",
       "      <td>137lbs</td>\n",
       "      <td>10.0</td>\n",
       "      <td>hourglass</td>\n",
       "      <td>romper</td>\n",
       "      <td>5' 8\"</td>\n",
       "      <td>14</td>\n",
       "      <td>28.0</td>\n",
       "    </tr>\n",
       "    <tr>\n",
       "      <th>1</th>\n",
       "      <td>fit</td>\n",
       "      <td>273551</td>\n",
       "      <td>153475</td>\n",
       "      <td>132lbs</td>\n",
       "      <td>10.0</td>\n",
       "      <td>straight &amp; narrow</td>\n",
       "      <td>gown</td>\n",
       "      <td>5' 6\"</td>\n",
       "      <td>12</td>\n",
       "      <td>36.0</td>\n",
       "    </tr>\n",
       "    <tr>\n",
       "      <th>2</th>\n",
       "      <td>fit</td>\n",
       "      <td>360448</td>\n",
       "      <td>1063761</td>\n",
       "      <td>NaN</td>\n",
       "      <td>10.0</td>\n",
       "      <td>NaN</td>\n",
       "      <td>sheath</td>\n",
       "      <td>5' 4\"</td>\n",
       "      <td>4</td>\n",
       "      <td>116.0</td>\n",
       "    </tr>\n",
       "    <tr>\n",
       "      <th>3</th>\n",
       "      <td>fit</td>\n",
       "      <td>909926</td>\n",
       "      <td>126335</td>\n",
       "      <td>135lbs</td>\n",
       "      <td>8.0</td>\n",
       "      <td>pear</td>\n",
       "      <td>dress</td>\n",
       "      <td>5' 5\"</td>\n",
       "      <td>8</td>\n",
       "      <td>34.0</td>\n",
       "    </tr>\n",
       "    <tr>\n",
       "      <th>4</th>\n",
       "      <td>fit</td>\n",
       "      <td>151944</td>\n",
       "      <td>616682</td>\n",
       "      <td>145lbs</td>\n",
       "      <td>10.0</td>\n",
       "      <td>athletic</td>\n",
       "      <td>gown</td>\n",
       "      <td>5' 9\"</td>\n",
       "      <td>12</td>\n",
       "      <td>27.0</td>\n",
       "    </tr>\n",
       "  </tbody>\n",
       "</table>\n",
       "</div>"
      ]
     },
     "execution_count": 4,
     "metadata": {},
     "output_type": "execute_result"
    }
   ],
   "execution_count": 4
  },
  {
   "metadata": {},
   "cell_type": "markdown",
   "source": "#### 상품 id 분석",
   "id": "714f9997a4347023"
  },
  {
   "metadata": {
    "ExecuteTime": {
     "end_time": "2025-04-18T07:39:31.879986Z",
     "start_time": "2025-04-18T07:39:31.864044Z"
    }
   },
   "cell_type": "code",
   "source": [
    "# item_id별 등장 횟수 집계\n",
    "item_counts = data['item_id'].value_counts().sort_index()\n",
    "item_counts_df = item_counts.reset_index()\n",
    "item_counts_df.columns = ['item_id', 'count']\n",
    "item_counts_sorted = item_counts_df.sort_values(by='count', ascending=False).reset_index(drop=True)\n",
    "top_10_items = item_counts_sorted.head(10)\n",
    "\n",
    "print(top_10_items)\n"
   ],
   "id": "b60ff6b33f362130",
   "outputs": [
    {
     "name": "stdout",
     "output_type": "stream",
     "text": [
      "   item_id  count\n",
      "0   126335   2241\n",
      "1   174086   1724\n",
      "2   123793   1714\n",
      "3   132738   1582\n",
      "4   145906   1478\n",
      "5   127865   1393\n",
      "6   136110   1197\n",
      "7   137585   1100\n",
      "8   131533   1091\n",
      "9   172027    984\n"
     ]
    }
   ],
   "execution_count": 5
  },
  {
   "metadata": {},
   "cell_type": "markdown",
   "source": "#### `weight` 컬럼: 단위 변환 후 결측치 처리",
   "id": "40ce2a9b"
  },
  {
   "metadata": {
    "ExecuteTime": {
     "end_time": "2025-04-18T07:39:32.575636Z",
     "start_time": "2025-04-18T07:39:32.147131Z"
    }
   },
   "cell_type": "code",
   "source": [
    "# weight → lbs 숫자 추출 → kg 변환\n",
    "data['weight'] = data['weight'].str.extract(r'(\\d+)').astype(float)\n",
    "data['weight'] = data['weight'] * 0.453592\n",
    "\n",
    "# 1. weight가 null인 데이터 삭제\n",
    "df_weight_dropna = data.dropna(subset=['weight'])"
   ],
   "id": "c122796f",
   "outputs": [],
   "execution_count": 6
  },
  {
   "metadata": {
    "ExecuteTime": {
     "end_time": "2025-04-18T07:39:32.633300Z",
     "start_time": "2025-04-18T07:39:32.606842Z"
    }
   },
   "cell_type": "code",
   "source": [
    "# 2. 평균으로 대체\n",
    "mean_weight = df_weight_dropna['weight'].mean()\n",
    "data['weight'] = data['weight'].fillna(mean_weight)\n",
    "\n",
    "data[['weight']].describe()"
   ],
   "id": "dd9c594b2816699",
   "outputs": [
    {
     "data": {
      "text/plain": [
       "              weight\n",
       "count  192544.000000\n",
       "mean       62.319780\n",
       "std         9.127528\n",
       "min        22.679600\n",
       "25%        56.699000\n",
       "50%        62.319780\n",
       "75%        65.770840\n",
       "max       136.077600"
      ],
      "text/html": [
       "<div>\n",
       "<style scoped>\n",
       "    .dataframe tbody tr th:only-of-type {\n",
       "        vertical-align: middle;\n",
       "    }\n",
       "\n",
       "    .dataframe tbody tr th {\n",
       "        vertical-align: top;\n",
       "    }\n",
       "\n",
       "    .dataframe thead th {\n",
       "        text-align: right;\n",
       "    }\n",
       "</style>\n",
       "<table border=\"1\" class=\"dataframe\">\n",
       "  <thead>\n",
       "    <tr style=\"text-align: right;\">\n",
       "      <th></th>\n",
       "      <th>weight</th>\n",
       "    </tr>\n",
       "  </thead>\n",
       "  <tbody>\n",
       "    <tr>\n",
       "      <th>count</th>\n",
       "      <td>192544.000000</td>\n",
       "    </tr>\n",
       "    <tr>\n",
       "      <th>mean</th>\n",
       "      <td>62.319780</td>\n",
       "    </tr>\n",
       "    <tr>\n",
       "      <th>std</th>\n",
       "      <td>9.127528</td>\n",
       "    </tr>\n",
       "    <tr>\n",
       "      <th>min</th>\n",
       "      <td>22.679600</td>\n",
       "    </tr>\n",
       "    <tr>\n",
       "      <th>25%</th>\n",
       "      <td>56.699000</td>\n",
       "    </tr>\n",
       "    <tr>\n",
       "      <th>50%</th>\n",
       "      <td>62.319780</td>\n",
       "    </tr>\n",
       "    <tr>\n",
       "      <th>75%</th>\n",
       "      <td>65.770840</td>\n",
       "    </tr>\n",
       "    <tr>\n",
       "      <th>max</th>\n",
       "      <td>136.077600</td>\n",
       "    </tr>\n",
       "  </tbody>\n",
       "</table>\n",
       "</div>"
      ]
     },
     "execution_count": 7,
     "metadata": {},
     "output_type": "execute_result"
    }
   ],
   "execution_count": 7
  },
  {
   "metadata": {
    "ExecuteTime": {
     "end_time": "2025-04-18T07:39:32.803033Z",
     "start_time": "2025-04-18T07:39:32.772870Z"
    }
   },
   "cell_type": "code",
   "source": [
    "# 3. 중앙값으로 대체\n",
    "median_weight = df_weight_dropna['weight'].median()\n",
    "data['weight'] = data['weight'].fillna(median_weight)\n",
    "\n",
    "data[['weight']].describe()"
   ],
   "id": "6d81608ad2ca55c9",
   "outputs": [
    {
     "data": {
      "text/plain": [
       "              weight\n",
       "count  192544.000000\n",
       "mean       62.319780\n",
       "std         9.127528\n",
       "min        22.679600\n",
       "25%        56.699000\n",
       "50%        62.319780\n",
       "75%        65.770840\n",
       "max       136.077600"
      ],
      "text/html": [
       "<div>\n",
       "<style scoped>\n",
       "    .dataframe tbody tr th:only-of-type {\n",
       "        vertical-align: middle;\n",
       "    }\n",
       "\n",
       "    .dataframe tbody tr th {\n",
       "        vertical-align: top;\n",
       "    }\n",
       "\n",
       "    .dataframe thead th {\n",
       "        text-align: right;\n",
       "    }\n",
       "</style>\n",
       "<table border=\"1\" class=\"dataframe\">\n",
       "  <thead>\n",
       "    <tr style=\"text-align: right;\">\n",
       "      <th></th>\n",
       "      <th>weight</th>\n",
       "    </tr>\n",
       "  </thead>\n",
       "  <tbody>\n",
       "    <tr>\n",
       "      <th>count</th>\n",
       "      <td>192544.000000</td>\n",
       "    </tr>\n",
       "    <tr>\n",
       "      <th>mean</th>\n",
       "      <td>62.319780</td>\n",
       "    </tr>\n",
       "    <tr>\n",
       "      <th>std</th>\n",
       "      <td>9.127528</td>\n",
       "    </tr>\n",
       "    <tr>\n",
       "      <th>min</th>\n",
       "      <td>22.679600</td>\n",
       "    </tr>\n",
       "    <tr>\n",
       "      <th>25%</th>\n",
       "      <td>56.699000</td>\n",
       "    </tr>\n",
       "    <tr>\n",
       "      <th>50%</th>\n",
       "      <td>62.319780</td>\n",
       "    </tr>\n",
       "    <tr>\n",
       "      <th>75%</th>\n",
       "      <td>65.770840</td>\n",
       "    </tr>\n",
       "    <tr>\n",
       "      <th>max</th>\n",
       "      <td>136.077600</td>\n",
       "    </tr>\n",
       "  </tbody>\n",
       "</table>\n",
       "</div>"
      ]
     },
     "execution_count": 8,
     "metadata": {},
     "output_type": "execute_result"
    }
   ],
   "execution_count": 8
  },
  {
   "metadata": {
    "ExecuteTime": {
     "end_time": "2025-04-18T07:39:32.932767Z",
     "start_time": "2025-04-18T07:39:32.898414Z"
    }
   },
   "cell_type": "code",
   "source": [
    "# 4. 최빈값으로 대체\n",
    "mode_weight = df_weight_dropna['weight'].mode().iloc[0]\n",
    "data['weight'] = data['weight'].fillna(mode_weight)\n",
    "\n",
    "data[['weight']].describe()"
   ],
   "id": "54ec59ab4bf1ebc5",
   "outputs": [
    {
     "data": {
      "text/plain": [
       "              weight\n",
       "count  192544.000000\n",
       "mean       62.319780\n",
       "std         9.127528\n",
       "min        22.679600\n",
       "25%        56.699000\n",
       "50%        62.319780\n",
       "75%        65.770840\n",
       "max       136.077600"
      ],
      "text/html": [
       "<div>\n",
       "<style scoped>\n",
       "    .dataframe tbody tr th:only-of-type {\n",
       "        vertical-align: middle;\n",
       "    }\n",
       "\n",
       "    .dataframe tbody tr th {\n",
       "        vertical-align: top;\n",
       "    }\n",
       "\n",
       "    .dataframe thead th {\n",
       "        text-align: right;\n",
       "    }\n",
       "</style>\n",
       "<table border=\"1\" class=\"dataframe\">\n",
       "  <thead>\n",
       "    <tr style=\"text-align: right;\">\n",
       "      <th></th>\n",
       "      <th>weight</th>\n",
       "    </tr>\n",
       "  </thead>\n",
       "  <tbody>\n",
       "    <tr>\n",
       "      <th>count</th>\n",
       "      <td>192544.000000</td>\n",
       "    </tr>\n",
       "    <tr>\n",
       "      <th>mean</th>\n",
       "      <td>62.319780</td>\n",
       "    </tr>\n",
       "    <tr>\n",
       "      <th>std</th>\n",
       "      <td>9.127528</td>\n",
       "    </tr>\n",
       "    <tr>\n",
       "      <th>min</th>\n",
       "      <td>22.679600</td>\n",
       "    </tr>\n",
       "    <tr>\n",
       "      <th>25%</th>\n",
       "      <td>56.699000</td>\n",
       "    </tr>\n",
       "    <tr>\n",
       "      <th>50%</th>\n",
       "      <td>62.319780</td>\n",
       "    </tr>\n",
       "    <tr>\n",
       "      <th>75%</th>\n",
       "      <td>65.770840</td>\n",
       "    </tr>\n",
       "    <tr>\n",
       "      <th>max</th>\n",
       "      <td>136.077600</td>\n",
       "    </tr>\n",
       "  </tbody>\n",
       "</table>\n",
       "</div>"
      ]
     },
     "execution_count": 9,
     "metadata": {},
     "output_type": "execute_result"
    }
   ],
   "execution_count": 9
  },
  {
   "metadata": {
    "ExecuteTime": {
     "end_time": "2025-04-18T07:39:33.943840Z",
     "start_time": "2025-04-18T07:39:33.164844Z"
    }
   },
   "cell_type": "code",
   "source": [
    "# 5kg 간격 bin 정의\n",
    "bin_edges= np.arange(start=int(data['weight'].min() // 5 * 5),\n",
    "                          stop=int(data['weight'].max() // 5 * 5 + 5),\n",
    "                          step=5)\n",
    "\n",
    "# 시각화\n",
    "plt.figure(figsize=(12, 6))\n",
    "sns.histplot(data['weight'], bins=bin_edges, kde=False)\n",
    "plt.title(\"Weight Distribution (5kg bins)\")\n",
    "plt.xlabel(\"Weight (kg)\")\n",
    "plt.ylabel(\"Count\")\n",
    "plt.xticks(bin_edges, rotation=45)\n",
    "plt.grid(True, axis='y')\n",
    "plt.tight_layout()\n",
    "plt.show()"
   ],
   "id": "a1e4d4a583118f93",
   "outputs": [
    {
     "data": {
      "text/plain": [
       "<Figure size 1200x600 with 1 Axes>"
      ],
      "image/png": "[encoded data removed]"
     },
     "metadata": {},
     "output_type": "display_data"
    }
   ],
   "execution_count": 10
  },
  {
   "cell_type": "markdown",
   "id": "baf5c471",
   "metadata": {},
   "source": "#### `height` 컬럼: 단위 변환 후 결측치 처리"
  },
  {
   "cell_type": "code",
   "id": "ec6c41a7",
   "metadata": {
    "ExecuteTime": {
     "end_time": "2025-04-18T07:39:34.304128Z",
     "start_time": "2025-04-18T07:39:34.018524Z"
    }
   },
   "source": [
    "def height_to_cm(h):\n",
    "    if isinstance(h, str):\n",
    "        match = re.match(r\"(\\d+)' (\\d+)\", h)\n",
    "        if match:\n",
    "            feet = int(match.group(1))\n",
    "            inches = int(match.group(2))\n",
    "            total_inches = feet * 12 + inches\n",
    "            return total_inches * 2.54\n",
    "    return np.nan\n",
    "\n",
    "data['height'] = data['height'].apply(height_to_cm)\n",
    "\n",
    "# height 결측치 제거\n",
    "data = data.dropna(subset=['height'])\n",
    "\n",
    "data[['height']].describe()\n",
    "data.isnull().sum()"
   ],
   "outputs": [
    {
     "data": {
      "text/plain": [
       "fit              0\n",
       "user_id          0\n",
       "item_id          0\n",
       "weight           0\n",
       "rating          82\n",
       "body type    14508\n",
       "category         0\n",
       "height           0\n",
       "size             0\n",
       "age            952\n",
       "dtype: int64"
      ]
     },
     "execution_count": 11,
     "metadata": {},
     "output_type": "execute_result"
    }
   ],
   "execution_count": 11
  },
  {
   "metadata": {
    "ExecuteTime": {
     "end_time": "2025-04-18T07:39:34.369110Z",
     "start_time": "2025-04-18T07:39:34.348800Z"
    }
   },
   "cell_type": "code",
   "source": "data[['height']].describe()",
   "id": "3acc6e034de501dc",
   "outputs": [
    {
     "data": {
      "text/plain": [
       "              height\n",
       "count  191867.000000\n",
       "mean      165.888978\n",
       "std         6.765239\n",
       "min       137.160000\n",
       "25%       160.020000\n",
       "50%       165.100000\n",
       "75%       170.180000\n",
       "max       198.120000"
      ],
      "text/html": [
       "<div>\n",
       "<style scoped>\n",
       "    .dataframe tbody tr th:only-of-type {\n",
       "        vertical-align: middle;\n",
       "    }\n",
       "\n",
       "    .dataframe tbody tr th {\n",
       "        vertical-align: top;\n",
       "    }\n",
       "\n",
       "    .dataframe thead th {\n",
       "        text-align: right;\n",
       "    }\n",
       "</style>\n",
       "<table border=\"1\" class=\"dataframe\">\n",
       "  <thead>\n",
       "    <tr style=\"text-align: right;\">\n",
       "      <th></th>\n",
       "      <th>height</th>\n",
       "    </tr>\n",
       "  </thead>\n",
       "  <tbody>\n",
       "    <tr>\n",
       "      <th>count</th>\n",
       "      <td>191867.000000</td>\n",
       "    </tr>\n",
       "    <tr>\n",
       "      <th>mean</th>\n",
       "      <td>165.888978</td>\n",
       "    </tr>\n",
       "    <tr>\n",
       "      <th>std</th>\n",
       "      <td>6.765239</td>\n",
       "    </tr>\n",
       "    <tr>\n",
       "      <th>min</th>\n",
       "      <td>137.160000</td>\n",
       "    </tr>\n",
       "    <tr>\n",
       "      <th>25%</th>\n",
       "      <td>160.020000</td>\n",
       "    </tr>\n",
       "    <tr>\n",
       "      <th>50%</th>\n",
       "      <td>165.100000</td>\n",
       "    </tr>\n",
       "    <tr>\n",
       "      <th>75%</th>\n",
       "      <td>170.180000</td>\n",
       "    </tr>\n",
       "    <tr>\n",
       "      <th>max</th>\n",
       "      <td>198.120000</td>\n",
       "    </tr>\n",
       "  </tbody>\n",
       "</table>\n",
       "</div>"
      ]
     },
     "execution_count": 12,
     "metadata": {},
     "output_type": "execute_result"
    }
   ],
   "execution_count": 12
  },
  {
   "metadata": {
    "ExecuteTime": {
     "end_time": "2025-04-18T07:39:34.915223Z",
     "start_time": "2025-04-18T07:39:34.469333Z"
    }
   },
   "cell_type": "code",
   "source": [
    "# 2cm 간격의 bin 정의\n",
    "bin_edges = np.arange(start=int(data['height'].min() // 2 * 2),\n",
    "                          stop=int(data['height'].max() // 2 * 2 + 2),\n",
    "                          step=2)\n",
    "\n",
    "# 히스토그램 시각화\n",
    "plt.figure(figsize=(12, 6))\n",
    "sns.histplot(data['height'], bins=bin_edges, kde=False)\n",
    "plt.title(\"Height Distribution (2cm bins)\")\n",
    "plt.xlabel(\"Height (cm)\")\n",
    "plt.ylabel(\"Count\")\n",
    "plt.xticks(bin_edges, rotation=45)\n",
    "plt.grid(True, axis='y')\n",
    "plt.tight_layout()\n",
    "plt.show()"
   ],
   "id": "311496bf66583fe9",
   "outputs": [
    {
     "data": {
      "text/plain": [
       "<Figure size 1200x600 with 1 Axes>"
      ],
      "image/png": "[encoded data removed]"
     },
     "metadata": {},
     "output_type": "display_data"
    }
   ],
   "execution_count": 13
  },
  {
   "metadata": {},
   "cell_type": "markdown",
   "source": "#### `age`: 이상치 및 결측치 제거",
   "id": "fdcd4ca8"
  },
  {
   "cell_type": "code",
   "id": "2274db80",
   "metadata": {
    "ExecuteTime": {
     "end_time": "2025-04-18T07:39:35.074289Z",
     "start_time": "2025-04-18T07:39:35.022985Z"
    }
   },
   "source": [
    "data['age'] = data['age'].where((data['age'] < 100) & (data['age'] > 19), np.nan)\n",
    "data = data.dropna(subset=['age'])\n",
    "\n",
    "data[['age']].describe()"
   ],
   "outputs": [
    {
     "data": {
      "text/plain": [
       "                 age\n",
       "count  189672.000000\n",
       "mean       33.950388\n",
       "std         7.825581\n",
       "min        20.000000\n",
       "25%        29.000000\n",
       "50%        32.000000\n",
       "75%        37.000000\n",
       "max        99.000000"
      ],
      "text/html": [
       "<div>\n",
       "<style scoped>\n",
       "    .dataframe tbody tr th:only-of-type {\n",
       "        vertical-align: middle;\n",
       "    }\n",
       "\n",
       "    .dataframe tbody tr th {\n",
       "        vertical-align: top;\n",
       "    }\n",
       "\n",
       "    .dataframe thead th {\n",
       "        text-align: right;\n",
       "    }\n",
       "</style>\n",
       "<table border=\"1\" class=\"dataframe\">\n",
       "  <thead>\n",
       "    <tr style=\"text-align: right;\">\n",
       "      <th></th>\n",
       "      <th>age</th>\n",
       "    </tr>\n",
       "  </thead>\n",
       "  <tbody>\n",
       "    <tr>\n",
       "      <th>count</th>\n",
       "      <td>189672.000000</td>\n",
       "    </tr>\n",
       "    <tr>\n",
       "      <th>mean</th>\n",
       "      <td>33.950388</td>\n",
       "    </tr>\n",
       "    <tr>\n",
       "      <th>std</th>\n",
       "      <td>7.825581</td>\n",
       "    </tr>\n",
       "    <tr>\n",
       "      <th>min</th>\n",
       "      <td>20.000000</td>\n",
       "    </tr>\n",
       "    <tr>\n",
       "      <th>25%</th>\n",
       "      <td>29.000000</td>\n",
       "    </tr>\n",
       "    <tr>\n",
       "      <th>50%</th>\n",
       "      <td>32.000000</td>\n",
       "    </tr>\n",
       "    <tr>\n",
       "      <th>75%</th>\n",
       "      <td>37.000000</td>\n",
       "    </tr>\n",
       "    <tr>\n",
       "      <th>max</th>\n",
       "      <td>99.000000</td>\n",
       "    </tr>\n",
       "  </tbody>\n",
       "</table>\n",
       "</div>"
      ]
     },
     "execution_count": 14,
     "metadata": {},
     "output_type": "execute_result"
    }
   ],
   "execution_count": 14
  },
  {
   "cell_type": "markdown",
   "id": "1081c676",
   "metadata": {},
   "source": "#### `rating`: 2, 4, 6, 8, 10 -> 1, 2, 3, 4, 5 & 결측치 제거"
  },
  {
   "cell_type": "code",
   "id": "7306a876",
   "metadata": {
    "ExecuteTime": {
     "end_time": "2025-04-18T07:39:35.217223Z",
     "start_time": "2025-04-18T07:39:35.180529Z"
    }
   },
   "source": [
    "data['rating'] = (data['rating'] // 2)\n",
    "data = data.dropna(subset=['rating'])\n",
    "\n",
    "data[['rating']].describe()"
   ],
   "outputs": [
    {
     "data": {
      "text/plain": [
       "              rating\n",
       "count  189591.000000\n",
       "mean        4.545548\n",
       "std         0.715359\n",
       "min         1.000000\n",
       "25%         4.000000\n",
       "50%         5.000000\n",
       "75%         5.000000\n",
       "max         5.000000"
      ],
      "text/html": [
       "<div>\n",
       "<style scoped>\n",
       "    .dataframe tbody tr th:only-of-type {\n",
       "        vertical-align: middle;\n",
       "    }\n",
       "\n",
       "    .dataframe tbody tr th {\n",
       "        vertical-align: top;\n",
       "    }\n",
       "\n",
       "    .dataframe thead th {\n",
       "        text-align: right;\n",
       "    }\n",
       "</style>\n",
       "<table border=\"1\" class=\"dataframe\">\n",
       "  <thead>\n",
       "    <tr style=\"text-align: right;\">\n",
       "      <th></th>\n",
       "      <th>rating</th>\n",
       "    </tr>\n",
       "  </thead>\n",
       "  <tbody>\n",
       "    <tr>\n",
       "      <th>count</th>\n",
       "      <td>189591.000000</td>\n",
       "    </tr>\n",
       "    <tr>\n",
       "      <th>mean</th>\n",
       "      <td>4.545548</td>\n",
       "    </tr>\n",
       "    <tr>\n",
       "      <th>std</th>\n",
       "      <td>0.715359</td>\n",
       "    </tr>\n",
       "    <tr>\n",
       "      <th>min</th>\n",
       "      <td>1.000000</td>\n",
       "    </tr>\n",
       "    <tr>\n",
       "      <th>25%</th>\n",
       "      <td>4.000000</td>\n",
       "    </tr>\n",
       "    <tr>\n",
       "      <th>50%</th>\n",
       "      <td>5.000000</td>\n",
       "    </tr>\n",
       "    <tr>\n",
       "      <th>75%</th>\n",
       "      <td>5.000000</td>\n",
       "    </tr>\n",
       "    <tr>\n",
       "      <th>max</th>\n",
       "      <td>5.000000</td>\n",
       "    </tr>\n",
       "  </tbody>\n",
       "</table>\n",
       "</div>"
      ]
     },
     "execution_count": 15,
     "metadata": {},
     "output_type": "execute_result"
    }
   ],
   "execution_count": 15
  },
  {
   "cell_type": "markdown",
   "id": "374925ab",
   "metadata": {},
   "source": "#### `body type`: 원핫 인코딩"
  },
  {
   "cell_type": "code",
   "id": "02ec7c27",
   "metadata": {
    "ExecuteTime": {
     "end_time": "2025-04-18T07:39:35.493885Z",
     "start_time": "2025-04-18T07:39:35.441752Z"
    }
   },
   "source": [
    "body_type_encoded = pd.get_dummies(data['body type'], prefix='body_type', dummy_na=True)\n",
    "\n",
    "# 인코딩 컬럼 목록 확인\n",
    "encoded_columns = body_type_encoded.columns.tolist()\n",
    "print(encoded_columns)\n",
    "\n",
    "data = data.drop(columns=['body type'])\n",
    "data = pd.concat([data, body_type_encoded], axis=1)"
   ],
   "outputs": [
    {
     "name": "stdout",
     "output_type": "stream",
     "text": [
      "['body_type_apple', 'body_type_athletic', 'body_type_full bust', 'body_type_hourglass', 'body_type_pear', 'body_type_petite', 'body_type_straight & narrow', 'body_type_nan']\n"
     ]
    }
   ],
   "execution_count": 16
  },
  {
   "metadata": {
    "ExecuteTime": {
     "end_time": "2025-04-18T07:39:35.638950Z",
     "start_time": "2025-04-18T07:39:35.623197Z"
    }
   },
   "cell_type": "code",
   "source": "data.head()",
   "id": "6319eb426dab08b",
   "outputs": [
    {
     "data": {
      "text/plain": [
       "   fit  user_id  item_id     weight  rating category  height  size   age  \\\n",
       "0  fit   420272  2260466  62.142104     5.0   romper  172.72    14  28.0   \n",
       "1  fit   273551   153475  59.874144     5.0     gown  167.64    12  36.0   \n",
       "3  fit   909926   126335  61.234920     4.0    dress  165.10     8  34.0   \n",
       "4  fit   151944   616682  65.770840     5.0     gown  175.26    12  27.0   \n",
       "5  fit   734848   364092  62.595696     4.0    dress  172.72     8  45.0   \n",
       "\n",
       "   body_type_apple  body_type_athletic  body_type_full bust  \\\n",
       "0            False               False                False   \n",
       "1            False               False                False   \n",
       "3            False               False                False   \n",
       "4            False                True                False   \n",
       "5            False                True                False   \n",
       "\n",
       "   body_type_hourglass  body_type_pear  body_type_petite  \\\n",
       "0                 True           False             False   \n",
       "1                False           False             False   \n",
       "3                False            True             False   \n",
       "4                False           False             False   \n",
       "5                False           False             False   \n",
       "\n",
       "   body_type_straight & narrow  body_type_nan  \n",
       "0                        False          False  \n",
       "1                         True          False  \n",
       "3                        False          False  \n",
       "4                        False          False  \n",
       "5                        False          False  "
      ],
      "text/html": [
       "<div>\n",
       "<style scoped>\n",
       "    .dataframe tbody tr th:only-of-type {\n",
       "        vertical-align: middle;\n",
       "    }\n",
       "\n",
       "    .dataframe tbody tr th {\n",
       "        vertical-align: top;\n",
       "    }\n",
       "\n",
       "    .dataframe thead th {\n",
       "        text-align: right;\n",
       "    }\n",
       "</style>\n",
       "<table border=\"1\" class=\"dataframe\">\n",
       "  <thead>\n",
       "    <tr style=\"text-align: right;\">\n",
       "      <th></th>\n",
       "      <th>fit</th>\n",
       "      <th>user_id</th>\n",
       "      <th>item_id</th>\n",
       "      <th>weight</th>\n",
       "      <th>rating</th>\n",
       "      <th>category</th>\n",
       "      <th>height</th>\n",
       "      <th>size</th>\n",
       "      <th>age</th>\n",
       "      <th>body_type_apple</th>\n",
       "      <th>body_type_athletic</th>\n",
       "      <th>body_type_full bust</th>\n",
       "      <th>body_type_hourglass</th>\n",
       "      <th>body_type_pear</th>\n",
       "      <th>body_type_petite</th>\n",
       "      <th>body_type_straight &amp; narrow</th>\n",
       "      <th>body_type_nan</th>\n",
       "    </tr>\n",
       "  </thead>\n",
       "  <tbody>\n",
       "    <tr>\n",
       "      <th>0</th>\n",
       "      <td>fit</td>\n",
       "      <td>420272</td>\n",
       "      <td>2260466</td>\n",
       "      <td>62.142104</td>\n",
       "      <td>5.0</td>\n",
       "      <td>romper</td>\n",
       "      <td>172.72</td>\n",
       "      <td>14</td>\n",
       "      <td>28.0</td>\n",
       "      <td>False</td>\n",
       "      <td>False</td>\n",
       "      <td>False</td>\n",
       "      <td>True</td>\n",
       "      <td>False</td>\n",
       "      <td>False</td>\n",
       "      <td>False</td>\n",
       "      <td>False</td>\n",
       "    </tr>\n",
       "    <tr>\n",
       "      <th>1</th>\n",
       "      <td>fit</td>\n",
       "      <td>273551</td>\n",
       "      <td>153475</td>\n",
       "      <td>59.874144</td>\n",
       "      <td>5.0</td>\n",
       "      <td>gown</td>\n",
       "      <td>167.64</td>\n",
       "      <td>12</td>\n",
       "      <td>36.0</td>\n",
       "      <td>False</td>\n",
       "      <td>False</td>\n",
       "      <td>False</td>\n",
       "      <td>False</td>\n",
       "      <td>False</td>\n",
       "      <td>False</td>\n",
       "      <td>True</td>\n",
       "      <td>False</td>\n",
       "    </tr>\n",
       "    <tr>\n",
       "      <th>3</th>\n",
       "      <td>fit</td>\n",
       "      <td>909926</td>\n",
       "      <td>126335</td>\n",
       "      <td>61.234920</td>\n",
       "      <td>4.0</td>\n",
       "      <td>dress</td>\n",
       "      <td>165.10</td>\n",
       "      <td>8</td>\n",
       "      <td>34.0</td>\n",
       "      <td>False</td>\n",
       "      <td>False</td>\n",
       "      <td>False</td>\n",
       "      <td>False</td>\n",
       "      <td>True</td>\n",
       "      <td>False</td>\n",
       "      <td>False</td>\n",
       "      <td>False</td>\n",
       "    </tr>\n",
       "    <tr>\n",
       "      <th>4</th>\n",
       "      <td>fit</td>\n",
       "      <td>151944</td>\n",
       "      <td>616682</td>\n",
       "      <td>65.770840</td>\n",
       "      <td>5.0</td>\n",
       "      <td>gown</td>\n",
       "      <td>175.26</td>\n",
       "      <td>12</td>\n",
       "      <td>27.0</td>\n",
       "      <td>False</td>\n",
       "      <td>True</td>\n",
       "      <td>False</td>\n",
       "      <td>False</td>\n",
       "      <td>False</td>\n",
       "      <td>False</td>\n",
       "      <td>False</td>\n",
       "      <td>False</td>\n",
       "    </tr>\n",
       "    <tr>\n",
       "      <th>5</th>\n",
       "      <td>fit</td>\n",
       "      <td>734848</td>\n",
       "      <td>364092</td>\n",
       "      <td>62.595696</td>\n",
       "      <td>4.0</td>\n",
       "      <td>dress</td>\n",
       "      <td>172.72</td>\n",
       "      <td>8</td>\n",
       "      <td>45.0</td>\n",
       "      <td>False</td>\n",
       "      <td>True</td>\n",
       "      <td>False</td>\n",
       "      <td>False</td>\n",
       "      <td>False</td>\n",
       "      <td>False</td>\n",
       "      <td>False</td>\n",
       "      <td>False</td>\n",
       "    </tr>\n",
       "  </tbody>\n",
       "</table>\n",
       "</div>"
      ]
     },
     "execution_count": 17,
     "metadata": {},
     "output_type": "execute_result"
    }
   ],
   "execution_count": 17
  },
  {
   "cell_type": "markdown",
   "id": "1fab37b9",
   "metadata": {},
   "source": "#### `category`: 원핫 인코딩 or 레이블 인코딩 -> 보류"
  },
  {
   "cell_type": "code",
   "id": "e9e27cd3",
   "metadata": {
    "ExecuteTime": {
     "end_time": "2025-04-18T07:39:35.949881Z",
     "start_time": "2025-04-18T07:39:35.943288Z"
    }
   },
   "source": "#category_encoded = pd.get_dummies(data['category'], prefix='category')",
   "outputs": [],
   "execution_count": 18
  },
  {
   "metadata": {},
   "cell_type": "markdown",
   "source": "#### `fit` : 원핫 인코딩",
   "id": "1beb7538cd7b26c8"
  },
  {
   "metadata": {
    "ExecuteTime": {
     "end_time": "2025-04-18T07:39:36.106903Z",
     "start_time": "2025-04-18T07:39:36.056615Z"
    }
   },
   "cell_type": "code",
   "source": [
    "fit_encoded = pd.get_dummies(data['fit'], prefix='fit')\n",
    "\n",
    "# 인코딩 컬럼 목록 확인\n",
    "encoded_columns = fit_encoded.columns.tolist()\n",
    "print(encoded_columns)\n",
    "\n",
    "data = data.drop(columns=['fit'])\n",
    "data = pd.concat([data, fit_encoded], axis=1)"
   ],
   "id": "82cdeffd3a1a3eaf",
   "outputs": [
    {
     "name": "stdout",
     "output_type": "stream",
     "text": [
      "['fit_fit', 'fit_large', 'fit_small']\n"
     ]
    }
   ],
   "execution_count": 19
  },
  {
   "cell_type": "markdown",
   "id": "12d7abb6",
   "metadata": {},
   "source": "#### `size`: 정규화 or 표준화"
  },
  {
   "metadata": {
    "ExecuteTime": {
     "end_time": "2025-04-18T07:39:36.259340Z",
     "start_time": "2025-04-18T07:39:36.240264Z"
    }
   },
   "cell_type": "code",
   "source": "data['size'].describe()",
   "id": "32859bd6e152536f",
   "outputs": [
    {
     "data": {
      "text/plain": [
       "count    189591.000000\n",
       "mean         12.256621\n",
       "std           8.493520\n",
       "min           0.000000\n",
       "25%           8.000000\n",
       "50%          12.000000\n",
       "75%          16.000000\n",
       "max          58.000000\n",
       "Name: size, dtype: float64"
      ]
     },
     "execution_count": 20,
     "metadata": {},
     "output_type": "execute_result"
    }
   ],
   "execution_count": 20
  },
  {
   "metadata": {
    "ExecuteTime": {
     "end_time": "2025-04-18T07:39:38.579135Z",
     "start_time": "2025-04-18T07:39:36.738835Z"
    }
   },
   "cell_type": "code",
   "source": [
    "sns.histplot(df['size'], kde=True)\n",
    "plt.title('Size Distribution')\n",
    "plt.show()"
   ],
   "id": "5567aa13",
   "outputs": [
    {
     "data": {
      "text/plain": [
       "<Figure size 640x480 with 1 Axes>"
      ],
      "image/png": "[encoded data removed]"
     },
     "metadata": {},
     "output_type": "display_data"
    }
   ],
   "execution_count": 21
  },
  {
   "metadata": {
    "ExecuteTime": {
     "end_time": "2025-04-18T07:39:38.699792Z",
     "start_time": "2025-04-18T07:39:38.681289Z"
    }
   },
   "cell_type": "code",
   "source": "data.isnull().sum()",
   "id": "56d4d3e4ffe8f14a",
   "outputs": [
    {
     "data": {
      "text/plain": [
       "user_id                        0\n",
       "item_id                        0\n",
       "weight                         0\n",
       "rating                         0\n",
       "category                       0\n",
       "height                         0\n",
       "size                           0\n",
       "age                            0\n",
       "body_type_apple                0\n",
       "body_type_athletic             0\n",
       "body_type_full bust            0\n",
       "body_type_hourglass            0\n",
       "body_type_pear                 0\n",
       "body_type_petite               0\n",
       "body_type_straight & narrow    0\n",
       "body_type_nan                  0\n",
       "fit_fit                        0\n",
       "fit_large                      0\n",
       "fit_small                      0\n",
       "dtype: int64"
      ]
     },
     "execution_count": 22,
     "metadata": {},
     "output_type": "execute_result"
    }
   ],
   "execution_count": 22
  },
  {
   "metadata": {},
   "cell_type": "markdown",
   "source": "### Kmeans 클러스터링 모델 적용",
   "id": "269a1a00a97374fc"
  },
  {
   "metadata": {
    "ExecuteTime": {
     "end_time": "2025-04-18T07:39:39.013765Z",
     "start_time": "2025-04-18T07:39:38.754435Z"
    }
   },
   "cell_type": "code",
   "source": [
    "from sklearn.preprocessing import StandardScaler, MinMaxScaler, RobustScaler\n",
    "from sklearn.cluster import KMeans\n",
    "from sklearn.metrics import silhouette_score\n",
    "import numpy as np\n",
    "from tqdm import tqdm\n",
    "\n",
    "# 컬럼 정의\n",
    "numeric_cols = ['age', 'size', 'weight', 'height']\n",
    "encoded_cols = [col for col in data.columns if col.startswith(('body_type_', 'fit'))]\n",
    "\n",
    "# 전처리 대상 컬럼 추출\n",
    "feature_cols = numeric_cols + encoded_cols\n",
    "data_kmeans = data[feature_cols].sample(n=50000, random_state=42)\n",
    "\n",
    "# 수치형, 범주형 컬럼 분리\n",
    "X_numeric = data_kmeans[numeric_cols]\n",
    "X_encoded = data_kmeans[encoded_cols]\n",
    "\n",
    "# 1. 수치형 스케일링\n",
    "scaler = MinMaxScaler()\n",
    "X_numeric_scaled = scaler.fit_transform(X_numeric)\n",
    "\n",
    "# 2. 범주형 컬럼 가중치 조절\n",
    "weight = 0.6\n",
    "X_encoded_weighted = X_encoded.to_numpy() * weight\n",
    "\n",
    "# 3. 전체 컬럼 결합\n",
    "X_final = np.hstack([X_numeric_scaled, X_encoded_weighted])"
   ],
   "id": "8c59a3ae97f93fdc",
   "outputs": [],
   "execution_count": 23
  },
  {
   "metadata": {
    "ExecuteTime": {
     "end_time": "2025-04-18T07:39:39.059446Z",
     "start_time": "2025-04-18T07:39:39.053961Z"
    }
   },
   "cell_type": "code",
   "source": [
    "# # 4. KMeans 클러스터링 및 평가\n",
    "# for k in tqdm(range(20, 21)):\n",
    "#     model = KMeans(n_clusters=k, random_state=42, n_init=10)\n",
    "#     labels = model.fit_predict(X_final)\n",
    "#     sil_score = silhouette_score(X_final, labels)\n",
    "#     print(f\"[k={k}] Silhouette Score: {sil_score:.4f}\")"
   ],
   "id": "bf2aef885a142104",
   "outputs": [],
   "execution_count": 24
  },
  {
   "metadata": {},
   "cell_type": "markdown",
   "source": "#### 하이퍼파라미터 튜닝",
   "id": "161a1c5dcb5cad"
  },
  {
   "metadata": {
    "jupyter": {
     "is_executing": true
    },
    "ExecuteTime": {
     "start_time": "2025-04-18T09:26:19.138390Z"
    }
   },
   "cell_type": "code",
   "source": [
    "# 5. 하이퍼파라미터 튜닝 범위\n",
    "scalers = {\n",
    "    'minmax': MinMaxScaler(),\n",
    "    'standard': StandardScaler(),\n",
    "    'robust': RobustScaler()\n",
    "}\n",
    "algorithms = ['auto', 'full', 'elkan']\n",
    "n_init_options = [10, 20]\n",
    "\n",
    "# 6. 튜닝 실행\n",
    "results = []\n",
    "best_score = -1\n",
    "best_params = None\n",
    "\n",
    "for scaler_name, scaler in scalers.items():\n",
    "    X_numeric_scaled = scaler.fit_transform(X_numeric)\n",
    "\n",
    "    X_final = np.hstack([X_numeric_scaled, X_encoded_weighted])\n",
    "\n",
    "    for algorithm in algorithms:\n",
    "        for n_init in n_init_options:\n",
    "            for k in range(3, 21):\n",
    "                try:\n",
    "                    model = KMeans(\n",
    "                        n_clusters=k,\n",
    "                        init='k-means++',\n",
    "                        n_init=n_init,\n",
    "                        max_iter=300,\n",
    "                        tol=1e-4,\n",
    "                        algorithm=algorithm,\n",
    "                        random_state=42\n",
    "                    )\n",
    "                    labels = model.fit_predict(X_final)\n",
    "                    score = silhouette_score(X_final, labels)\n",
    "                    results.append({\n",
    "                        'silhouette_score': score,\n",
    "                        'k': k,\n",
    "                        'scaler': scaler_name,\n",
    "                        'algorithm': algorithm,\n",
    "                        'n_init': n_init\n",
    "                    })\n",
    "                    if score > best_score:\n",
    "                        best_score = score\n",
    "                        best_params = (score, k, scaler_name, algorithm, n_init)\n",
    "\n",
    "                except:\n",
    "                    continue\n",
    "\n",
    "# 7. 결과 출력\n",
    "df_results = pd.DataFrame(results)\n",
    "print(\"Best Score:\", round(best_score, 4))\n",
    "print(\"Best Parameters:\", best_params)\n",
    "print(df_results.sort_values(by='silhouette_score', ascending=False).head(10))"
   ],
   "id": "a5b1d4fbb5bc0709",
   "outputs": [
    {
     "name": "stdout",
     "output_type": "stream",
     "text": [
      "3 10 elkan 0.2438235980945728\n",
      "5 10 elkan 0.3414261223955111\n",
      "6 10 elkan 0.4259842057760716\n",
      "7 10 elkan 0.47089534860685744\n",
      "8 10 elkan 0.503192458627264\n",
      "9 10 elkan 0.5364321638718975\n",
      "10 10 elkan 0.5568858450529077\n",
      "11 10 elkan 0.574392535955268\n",
      "12 10 elkan 0.5947829762547345\n",
      "13 10 elkan 0.6112372387107445\n",
      "14 10 elkan 0.6258010493564371\n",
      "15 10 elkan 0.6382510811254909\n",
      "16 10 elkan 0.6502521504272243\n",
      "18 10 elkan 0.667931413033863\n",
      "19 10 elkan 0.6711763215717551\n",
      "20 10 elkan 0.5927424977172518\n"
     ]
    }
   ],
   "execution_count": null
  },
  {
   "metadata": {},
   "cell_type": "markdown",
   "source": "#### 가중치를 주지 않았을 때 실루엣 스코어: 0.7981",
   "id": "a2ff406b00946526"
  },
  {
   "metadata": {
    "ExecuteTime": {
     "end_time": "2025-04-18T08:46:01.657749800Z",
     "start_time": "2025-04-18T02:26:50.614548Z"
    }
   },
   "cell_type": "code",
   "outputs": [],
   "execution_count": 15,
   "source": [
    "# from sklearn.preprocessing import StandardScaler, MinMaxScaler\n",
    "# from sklearn.cluster import KMeans\n",
    "# from sklearn.metrics import silhouette_score\n",
    "#\n",
    "# # feature 선택\n",
    "# numeric_cols = ['age', 'size', 'weight', 'height']\n",
    "# encoded_cols = [col for col in data.columns if (col.startswith('body_type_') or col.startswith('fit'))]\n",
    "#\n",
    "# feature_cols = numeric_cols + encoded_cols\n",
    "# data_kmeans = data[feature_cols].dropna()\n",
    "#\n",
    "# # 표준화 및 클러스터링\n",
    "# scaler = MinMaxScaler()\n",
    "# X_scaled = scaler.fit_transform(data_kmeans)\n",
    "#\n",
    "# # k = 3 ~ 15로 실루엣 스코어 평가\n",
    "# # for k in range(3, 16):\n",
    "# #     model = KMeans(n_clusters=k, random_state=42)\n",
    "# #     labels = model.fit_predict(X_scaled)\n",
    "# #     sil_score = silhouette_score(X_scaled, labels)\n",
    "# #     print(f\"{k} clusters 완료\")\n",
    "# #     print(f\"Silhouette Score: {sil_score}\")"
   ],
   "id": "f589072169457f93"
  },
  {
   "metadata": {
    "ExecuteTime": {
     "end_time": "2025-04-18T08:46:01.848116400Z",
     "start_time": "2025-04-18T02:26:51.683608Z"
    }
   },
   "cell_type": "code",
   "outputs": [
    {
     "data": {
      "text/plain": [
       "0.7981828912343766"
      ]
     },
     "execution_count": 16,
     "metadata": {},
     "output_type": "execute_result"
    }
   ],
   "execution_count": 16,
   "source": [
    "# # k = 20\n",
    "# kmeans = KMeans(n_clusters=20, random_state=42, n_init=10)\n",
    "# data_kmeans['cluster'] = kmeans.fit_predict(X_scaled)\n",
    "#\n",
    "# # 실루엣 점수 계산\n",
    "# sil_score = silhouette_score(X_scaled, data_kmeans['cluster'])\n",
    "# sil_score"
   ],
   "id": "77fc18e0cfcf52d"
  },
  {
   "metadata": {},
   "cell_type": "markdown",
   "source": "#### 클러스터별 인기상품 추출",
   "id": "1c51a8e356706276"
  },
  {
   "metadata": {
    "ExecuteTime": {
     "end_time": "2025-04-18T08:46:01.878013200Z",
     "start_time": "2025-04-17T04:31:23.012332Z"
    }
   },
   "cell_type": "code",
   "source": [
    "# print(data_kmeans['cluster'])\n",
    "# data_kmeans = data[feature_cols + ['item_id', 'rating']].dropna()\n"
   ],
   "id": "334af1392834d690",
   "outputs": [
    {
     "name": "stdout",
     "output_type": "stream",
     "text": [
      "0          6\n",
      "1         13\n",
      "3          2\n",
      "4          6\n",
      "5          0\n",
      "          ..\n",
      "192539     0\n",
      "192540    14\n",
      "192541     6\n",
      "192542    19\n",
      "192543    19\n",
      "Name: cluster, Length: 189591, dtype: int32\n"
     ]
    }
   ],
   "execution_count": 58
  },
  {
   "metadata": {
    "ExecuteTime": {
     "end_time": "2025-04-18T08:46:01.908912900Z",
     "start_time": "2025-04-17T04:31:30.670742Z"
    }
   },
   "cell_type": "code",
   "source": [
    "# # 클러스터별 추천 상품 (평균 평점 상위 10개씩)\n",
    "# top_items_by_cluster = (\n",
    "#     data_kmeans.groupby(['cluster', 'item_id'])['rating']\n",
    "#     .mean()\n",
    "#     .reset_index()\n",
    "#     .sort_values(['cluster', 'rating'], ascending=[True, False])\n",
    "#     .groupby('cluster')\n",
    "#     .head(10)\n",
    "#     .reset_index(drop=True)\n",
    "# )\n",
    "#\n",
    "# print(top_items_by_cluster)"
   ],
   "id": "c9d2055966618951",
   "outputs": [
    {
     "ename": "KeyError",
     "evalue": "'item_id'",
     "output_type": "error",
     "traceback": [
      "\u001B[31m---------------------------------------------------------------------------\u001B[39m",
      "\u001B[31mKeyError\u001B[39m                                  Traceback (most recent call last)",
      "\u001B[36mCell\u001B[39m\u001B[36m \u001B[39m\u001B[32mIn[59]\u001B[39m\u001B[32m, line 3\u001B[39m\n\u001B[32m      1\u001B[39m \u001B[38;5;66;03m# 클러스터별 추천 상품 (평균 평점 상위 10개씩)\u001B[39;00m\n\u001B[32m      2\u001B[39m top_items_by_cluster = (\n\u001B[32m----> \u001B[39m\u001B[32m3\u001B[39m     \u001B[43mdata_kmeans\u001B[49m\u001B[43m.\u001B[49m\u001B[43mgroupby\u001B[49m\u001B[43m(\u001B[49m\u001B[43m[\u001B[49m\u001B[33;43m'\u001B[39;49m\u001B[33;43mcluster\u001B[39;49m\u001B[33;43m'\u001B[39;49m\u001B[43m,\u001B[49m\u001B[43m \u001B[49m\u001B[33;43m'\u001B[39;49m\u001B[33;43mitem_id\u001B[39;49m\u001B[33;43m'\u001B[39;49m\u001B[43m]\u001B[49m\u001B[43m)\u001B[49m[\u001B[33m'\u001B[39m\u001B[33mrating\u001B[39m\u001B[33m'\u001B[39m]\n\u001B[32m      4\u001B[39m     .mean()\n\u001B[32m      5\u001B[39m     .reset_index()\n\u001B[32m      6\u001B[39m     .sort_values([\u001B[33m'\u001B[39m\u001B[33mcluster\u001B[39m\u001B[33m'\u001B[39m, \u001B[33m'\u001B[39m\u001B[33mrating\u001B[39m\u001B[33m'\u001B[39m], ascending=[\u001B[38;5;28;01mTrue\u001B[39;00m, \u001B[38;5;28;01mFalse\u001B[39;00m])\n\u001B[32m      7\u001B[39m     .groupby(\u001B[33m'\u001B[39m\u001B[33mcluster\u001B[39m\u001B[33m'\u001B[39m)\n\u001B[32m      8\u001B[39m     .head(\u001B[32m10\u001B[39m)\n\u001B[32m      9\u001B[39m     .reset_index(drop=\u001B[38;5;28;01mTrue\u001B[39;00m)\n\u001B[32m     10\u001B[39m )\n\u001B[32m     12\u001B[39m \u001B[38;5;28mprint\u001B[39m(top_items_by_cluster)\n",
      "\u001B[36mFile \u001B[39m\u001B[32m~\\AppData\\Local\\Packages\\PythonSoftwareFoundation.Python.3.11_qbz5n2kfra8p0\\LocalCache\\local-packages\\Python311\\site-packages\\pandas\\core\\frame.py:9183\u001B[39m, in \u001B[36mDataFrame.groupby\u001B[39m\u001B[34m(self, by, axis, level, as_index, sort, group_keys, observed, dropna)\u001B[39m\n\u001B[32m   9180\u001B[39m \u001B[38;5;28;01mif\u001B[39;00m level \u001B[38;5;129;01mis\u001B[39;00m \u001B[38;5;28;01mNone\u001B[39;00m \u001B[38;5;129;01mand\u001B[39;00m by \u001B[38;5;129;01mis\u001B[39;00m \u001B[38;5;28;01mNone\u001B[39;00m:\n\u001B[32m   9181\u001B[39m     \u001B[38;5;28;01mraise\u001B[39;00m \u001B[38;5;167;01mTypeError\u001B[39;00m(\u001B[33m\"\u001B[39m\u001B[33mYou have to supply one of \u001B[39m\u001B[33m'\u001B[39m\u001B[33mby\u001B[39m\u001B[33m'\u001B[39m\u001B[33m and \u001B[39m\u001B[33m'\u001B[39m\u001B[33mlevel\u001B[39m\u001B[33m'\u001B[39m\u001B[33m\"\u001B[39m)\n\u001B[32m-> \u001B[39m\u001B[32m9183\u001B[39m \u001B[38;5;28;01mreturn\u001B[39;00m \u001B[43mDataFrameGroupBy\u001B[49m\u001B[43m(\u001B[49m\n\u001B[32m   9184\u001B[39m \u001B[43m    \u001B[49m\u001B[43mobj\u001B[49m\u001B[43m=\u001B[49m\u001B[38;5;28;43mself\u001B[39;49m\u001B[43m,\u001B[49m\n\u001B[32m   9185\u001B[39m \u001B[43m    \u001B[49m\u001B[43mkeys\u001B[49m\u001B[43m=\u001B[49m\u001B[43mby\u001B[49m\u001B[43m,\u001B[49m\n\u001B[32m   9186\u001B[39m \u001B[43m    \u001B[49m\u001B[43maxis\u001B[49m\u001B[43m=\u001B[49m\u001B[43maxis\u001B[49m\u001B[43m,\u001B[49m\n\u001B[32m   9187\u001B[39m \u001B[43m    \u001B[49m\u001B[43mlevel\u001B[49m\u001B[43m=\u001B[49m\u001B[43mlevel\u001B[49m\u001B[43m,\u001B[49m\n\u001B[32m   9188\u001B[39m \u001B[43m    \u001B[49m\u001B[43mas_index\u001B[49m\u001B[43m=\u001B[49m\u001B[43mas_index\u001B[49m\u001B[43m,\u001B[49m\n\u001B[32m   9189\u001B[39m \u001B[43m    \u001B[49m\u001B[43msort\u001B[49m\u001B[43m=\u001B[49m\u001B[43msort\u001B[49m\u001B[43m,\u001B[49m\n\u001B[32m   9190\u001B[39m \u001B[43m    \u001B[49m\u001B[43mgroup_keys\u001B[49m\u001B[43m=\u001B[49m\u001B[43mgroup_keys\u001B[49m\u001B[43m,\u001B[49m\n\u001B[32m   9191\u001B[39m \u001B[43m    \u001B[49m\u001B[43mobserved\u001B[49m\u001B[43m=\u001B[49m\u001B[43mobserved\u001B[49m\u001B[43m,\u001B[49m\n\u001B[32m   9192\u001B[39m \u001B[43m    \u001B[49m\u001B[43mdropna\u001B[49m\u001B[43m=\u001B[49m\u001B[43mdropna\u001B[49m\u001B[43m,\u001B[49m\n\u001B[32m   9193\u001B[39m \u001B[43m\u001B[49m\u001B[43m)\u001B[49m\n",
      "\u001B[36mFile \u001B[39m\u001B[32m~\\AppData\\Local\\Packages\\PythonSoftwareFoundation.Python.3.11_qbz5n2kfra8p0\\LocalCache\\local-packages\\Python311\\site-packages\\pandas\\core\\groupby\\groupby.py:1329\u001B[39m, in \u001B[36mGroupBy.__init__\u001B[39m\u001B[34m(self, obj, keys, axis, level, grouper, exclusions, selection, as_index, sort, group_keys, observed, dropna)\u001B[39m\n\u001B[32m   1326\u001B[39m \u001B[38;5;28mself\u001B[39m.dropna = dropna\n\u001B[32m   1328\u001B[39m \u001B[38;5;28;01mif\u001B[39;00m grouper \u001B[38;5;129;01mis\u001B[39;00m \u001B[38;5;28;01mNone\u001B[39;00m:\n\u001B[32m-> \u001B[39m\u001B[32m1329\u001B[39m     grouper, exclusions, obj = \u001B[43mget_grouper\u001B[49m\u001B[43m(\u001B[49m\n\u001B[32m   1330\u001B[39m \u001B[43m        \u001B[49m\u001B[43mobj\u001B[49m\u001B[43m,\u001B[49m\n\u001B[32m   1331\u001B[39m \u001B[43m        \u001B[49m\u001B[43mkeys\u001B[49m\u001B[43m,\u001B[49m\n\u001B[32m   1332\u001B[39m \u001B[43m        \u001B[49m\u001B[43maxis\u001B[49m\u001B[43m=\u001B[49m\u001B[43maxis\u001B[49m\u001B[43m,\u001B[49m\n\u001B[32m   1333\u001B[39m \u001B[43m        \u001B[49m\u001B[43mlevel\u001B[49m\u001B[43m=\u001B[49m\u001B[43mlevel\u001B[49m\u001B[43m,\u001B[49m\n\u001B[32m   1334\u001B[39m \u001B[43m        \u001B[49m\u001B[43msort\u001B[49m\u001B[43m=\u001B[49m\u001B[43msort\u001B[49m\u001B[43m,\u001B[49m\n\u001B[32m   1335\u001B[39m \u001B[43m        \u001B[49m\u001B[43mobserved\u001B[49m\u001B[43m=\u001B[49m\u001B[38;5;28;43;01mFalse\u001B[39;49;00m\u001B[43m \u001B[49m\u001B[38;5;28;43;01mif\u001B[39;49;00m\u001B[43m \u001B[49m\u001B[43mobserved\u001B[49m\u001B[43m \u001B[49m\u001B[38;5;129;43;01mis\u001B[39;49;00m\u001B[43m \u001B[49m\u001B[43mlib\u001B[49m\u001B[43m.\u001B[49m\u001B[43mno_default\u001B[49m\u001B[43m \u001B[49m\u001B[38;5;28;43;01melse\u001B[39;49;00m\u001B[43m \u001B[49m\u001B[43mobserved\u001B[49m\u001B[43m,\u001B[49m\n\u001B[32m   1336\u001B[39m \u001B[43m        \u001B[49m\u001B[43mdropna\u001B[49m\u001B[43m=\u001B[49m\u001B[38;5;28;43mself\u001B[39;49m\u001B[43m.\u001B[49m\u001B[43mdropna\u001B[49m\u001B[43m,\u001B[49m\n\u001B[32m   1337\u001B[39m \u001B[43m    \u001B[49m\u001B[43m)\u001B[49m\n\u001B[32m   1339\u001B[39m \u001B[38;5;28;01mif\u001B[39;00m observed \u001B[38;5;129;01mis\u001B[39;00m lib.no_default:\n\u001B[32m   1340\u001B[39m     \u001B[38;5;28;01mif\u001B[39;00m \u001B[38;5;28many\u001B[39m(ping._passed_categorical \u001B[38;5;28;01mfor\u001B[39;00m ping \u001B[38;5;129;01min\u001B[39;00m grouper.groupings):\n",
      "\u001B[36mFile \u001B[39m\u001B[32m~\\AppData\\Local\\Packages\\PythonSoftwareFoundation.Python.3.11_qbz5n2kfra8p0\\LocalCache\\local-packages\\Python311\\site-packages\\pandas\\core\\groupby\\grouper.py:1043\u001B[39m, in \u001B[36mget_grouper\u001B[39m\u001B[34m(obj, key, axis, level, sort, observed, validate, dropna)\u001B[39m\n\u001B[32m   1041\u001B[39m         in_axis, level, gpr = \u001B[38;5;28;01mFalse\u001B[39;00m, gpr, \u001B[38;5;28;01mNone\u001B[39;00m\n\u001B[32m   1042\u001B[39m     \u001B[38;5;28;01melse\u001B[39;00m:\n\u001B[32m-> \u001B[39m\u001B[32m1043\u001B[39m         \u001B[38;5;28;01mraise\u001B[39;00m \u001B[38;5;167;01mKeyError\u001B[39;00m(gpr)\n\u001B[32m   1044\u001B[39m \u001B[38;5;28;01melif\u001B[39;00m \u001B[38;5;28misinstance\u001B[39m(gpr, Grouper) \u001B[38;5;129;01mand\u001B[39;00m gpr.key \u001B[38;5;129;01mis\u001B[39;00m \u001B[38;5;129;01mnot\u001B[39;00m \u001B[38;5;28;01mNone\u001B[39;00m:\n\u001B[32m   1045\u001B[39m     \u001B[38;5;66;03m# Add key to exclusions\u001B[39;00m\n\u001B[32m   1046\u001B[39m     exclusions.add(gpr.key)\n",
      "\u001B[31mKeyError\u001B[39m: 'item_id'"
     ]
    }
   ],
   "execution_count": 59
  },
  {
   "metadata": {},
   "cell_type": "code",
   "outputs": [],
   "execution_count": null,
   "source": "",
   "id": "37ac0e9f2b3f4c93"
  }
 ],
 "metadata": {
  "kernelspec": {
   "name": "python3",
   "language": "python",
   "display_name": "Python 3 (ipykernel)"
  }
 },
 "nbformat": 4,
 "nbformat_minor": 5
}
